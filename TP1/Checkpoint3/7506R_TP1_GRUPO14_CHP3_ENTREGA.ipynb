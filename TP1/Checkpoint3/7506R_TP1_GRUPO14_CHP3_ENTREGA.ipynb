{
  "cells": [
    {
      "cell_type": "markdown",
      "metadata": {
        "id": "a_WzR0WxGdA3"
      },
      "source": [
        "# **Checkpoint 3**"
      ]
    },
    {
      "cell_type": "markdown",
      "metadata": {
        "id": "lLQ5cFjPEv3F"
      },
      "source": [
        "## **Importación de bibliotecas y datasets de entrenamiento y evaluación.**"
      ]
    },
    {
      "cell_type": "code",
      "execution_count": 1,
      "metadata": {
        "id": "TXtJgvsWreLh"
      },
      "outputs": [],
      "source": [
        "import pandas as pd\n",
        "import numpy as np\n",
        "\n",
        "import matplotlib.pyplot as plt\n",
        "import seaborn as sns\n",
        "\n",
        "from sklearn.model_selection import train_test_split, StratifiedKFold, RandomizedSearchCV\n",
        "from sklearn.metrics import f1_score, make_scorer, confusion_matrix, classification_report\n",
        "from sklearn.neighbors import KNeighborsClassifier\n",
        "from sklearn.svm import SVC\n",
        "from sklearn.preprocessing import StandardScaler\n",
        "from sklearn.pipeline import Pipeline\n",
        "from sklearn.ensemble import RandomForestClassifier, VotingClassifier, StackingClassifier\n",
        "from xgboost import XGBClassifier\n",
        "import joblib"
      ]
    },
    {
      "cell_type": "markdown",
      "metadata": {
        "id": "NFIkcKiFFFEX"
      },
      "source": [
        "### **Dataset de entrenamiento**"
      ]
    },
    {
      "cell_type": "markdown",
      "metadata": {
        "id": "FrD3pn7D1TtF"
      },
      "source": [
        "Nuevamente importaremos el dataframe obtenido tras finalizar el Checkpoint 1:"
      ]
    },
    {
      "cell_type": "code",
      "execution_count": 2,
      "metadata": {
        "colab": {
          "base_uri": "https://localhost:8080/",
          "height": 991
        },
        "id": "Mfixef_bw9xb",
        "outputId": "9c587392-08c6-455f-9417-aeab4a074eac"
      },
      "outputs": [
        {
          "output_type": "execute_result",
          "data": {
            "text/plain": [
              "              hotel  lead_time  arrival_date_year arrival_date_month  \\\n",
              "0        City Hotel         49               2016          September   \n",
              "1      Resort Hotel          4               2015            October   \n",
              "2        City Hotel         25               2016            October   \n",
              "3        City Hotel         26               2016           December   \n",
              "4        City Hotel        104               2017              March   \n",
              "...             ...        ...                ...                ...   \n",
              "61908  Resort Hotel         24               2017            January   \n",
              "61909    City Hotel          0               2016          September   \n",
              "61910    City Hotel         10               2017                May   \n",
              "61911  Resort Hotel        143               2015            October   \n",
              "61912    City Hotel         57               2016              April   \n",
              "\n",
              "       arrival_date_week_number  arrival_date_day_of_month  \\\n",
              "0                            37                          5   \n",
              "1                            44                         31   \n",
              "2                            42                         13   \n",
              "3                            51                         12   \n",
              "4                            12                         19   \n",
              "...                         ...                        ...   \n",
              "61908                         4                         27   \n",
              "61909                        36                          2   \n",
              "61910                        19                          8   \n",
              "61911                        41                         10   \n",
              "61912                        17                         17   \n",
              "\n",
              "       stays_in_weekend_nights  stays_in_week_nights  adults  children  ...  \\\n",
              "0                            1                     2       1         0  ...   \n",
              "1                            0                     1       2         0  ...   \n",
              "2                            0                     1       2         2  ...   \n",
              "3                            2                     5       2         0  ...   \n",
              "4                            2                     5       2         0  ...   \n",
              "...                        ...                   ...     ...       ...  ...   \n",
              "61908                        0                     2       2         0  ...   \n",
              "61909                        0                     1       1         0  ...   \n",
              "61910                        1                     2       1         0  ...   \n",
              "61911                        2                     5       2         0  ...   \n",
              "61912                        2                     5       2         0  ...   \n",
              "\n",
              "       deposit_type      agent    company days_in_waiting_list  \\\n",
              "0        No Deposit          9  Undefined                    0   \n",
              "1        No Deposit  Undefined  Undefined                    0   \n",
              "2        No Deposit          9  Undefined                    0   \n",
              "3        Non Refund        154  Undefined                    0   \n",
              "4        No Deposit         20  Undefined                    0   \n",
              "...             ...        ...        ...                  ...   \n",
              "61908    No Deposit        240  Undefined                    0   \n",
              "61909    No Deposit  Undefined  Undefined                    0   \n",
              "61910    No Deposit  Undefined        153                    0   \n",
              "61911    Non Refund         96  Undefined                    0   \n",
              "61912    No Deposit          9  Undefined                    0   \n",
              "\n",
              "         customer_type     adr  required_car_parking_spaces  \\\n",
              "0            Transient  115.50                            0   \n",
              "1            Transient   42.00                            1   \n",
              "2            Transient  229.00                            0   \n",
              "3            Transient   75.00                            0   \n",
              "4      Transient-Party   75.00                            0   \n",
              "...                ...     ...                          ...   \n",
              "61908        Transient   48.00                            0   \n",
              "61909        Transient  149.00                            0   \n",
              "61910        Transient   95.00                            0   \n",
              "61911        Transient   36.05                            0   \n",
              "61912        Transient  143.29                            0   \n",
              "\n",
              "       total_of_special_requests                                    id  \\\n",
              "0                              1  7aa4cc6b-b92c-4061-b21d-4f9e0cac4689   \n",
              "1                              0  b1428f80-c56c-4ae4-91a9-6962edae08b1   \n",
              "2                              2  2226c018-ea20-4c4e-8f71-ea66aee70d7c   \n",
              "3                              0  314f56dc-2e4d-4298-9bdd-27bb008bffff   \n",
              "4                              1  28c75445-c603-413a-babf-ad377018b592   \n",
              "...                          ...                                   ...   \n",
              "61908                          1  32bffef5-5404-4e86-9f39-fd2282e1ad7f   \n",
              "61909                          0  cc922a1c-356e-42a5-a984-0b1af03c2f5c   \n",
              "61910                          0  76fb0e83-59df-43ee-9c33-aec51030ed45   \n",
              "61911                          0  01906859-1094-4e37-b13e-b015b594d159   \n",
              "61912                          0  7137e599-4442-41fb-b147-4aba9f344e38   \n",
              "\n",
              "      is_canceled  \n",
              "0             Yes  \n",
              "1              No  \n",
              "2              No  \n",
              "3             Yes  \n",
              "4              No  \n",
              "...           ...  \n",
              "61908         Yes  \n",
              "61909          No  \n",
              "61910          No  \n",
              "61911         Yes  \n",
              "61912         Yes  \n",
              "\n",
              "[61913 rows x 31 columns]"
            ],
            "text/html": [
              "\n",
              "  <div id=\"df-1d1436d3-ab5a-474e-8c4a-19475dadb5c0\">\n",
              "    <div class=\"colab-df-container\">\n",
              "      <div>\n",
              "<style scoped>\n",
              "    .dataframe tbody tr th:only-of-type {\n",
              "        vertical-align: middle;\n",
              "    }\n",
              "\n",
              "    .dataframe tbody tr th {\n",
              "        vertical-align: top;\n",
              "    }\n",
              "\n",
              "    .dataframe thead th {\n",
              "        text-align: right;\n",
              "    }\n",
              "</style>\n",
              "<table border=\"1\" class=\"dataframe\">\n",
              "  <thead>\n",
              "    <tr style=\"text-align: right;\">\n",
              "      <th></th>\n",
              "      <th>hotel</th>\n",
              "      <th>lead_time</th>\n",
              "      <th>arrival_date_year</th>\n",
              "      <th>arrival_date_month</th>\n",
              "      <th>arrival_date_week_number</th>\n",
              "      <th>arrival_date_day_of_month</th>\n",
              "      <th>stays_in_weekend_nights</th>\n",
              "      <th>stays_in_week_nights</th>\n",
              "      <th>adults</th>\n",
              "      <th>children</th>\n",
              "      <th>...</th>\n",
              "      <th>deposit_type</th>\n",
              "      <th>agent</th>\n",
              "      <th>company</th>\n",
              "      <th>days_in_waiting_list</th>\n",
              "      <th>customer_type</th>\n",
              "      <th>adr</th>\n",
              "      <th>required_car_parking_spaces</th>\n",
              "      <th>total_of_special_requests</th>\n",
              "      <th>id</th>\n",
              "      <th>is_canceled</th>\n",
              "    </tr>\n",
              "  </thead>\n",
              "  <tbody>\n",
              "    <tr>\n",
              "      <th>0</th>\n",
              "      <td>City Hotel</td>\n",
              "      <td>49</td>\n",
              "      <td>2016</td>\n",
              "      <td>September</td>\n",
              "      <td>37</td>\n",
              "      <td>5</td>\n",
              "      <td>1</td>\n",
              "      <td>2</td>\n",
              "      <td>1</td>\n",
              "      <td>0</td>\n",
              "      <td>...</td>\n",
              "      <td>No Deposit</td>\n",
              "      <td>9</td>\n",
              "      <td>Undefined</td>\n",
              "      <td>0</td>\n",
              "      <td>Transient</td>\n",
              "      <td>115.50</td>\n",
              "      <td>0</td>\n",
              "      <td>1</td>\n",
              "      <td>7aa4cc6b-b92c-4061-b21d-4f9e0cac4689</td>\n",
              "      <td>Yes</td>\n",
              "    </tr>\n",
              "    <tr>\n",
              "      <th>1</th>\n",
              "      <td>Resort Hotel</td>\n",
              "      <td>4</td>\n",
              "      <td>2015</td>\n",
              "      <td>October</td>\n",
              "      <td>44</td>\n",
              "      <td>31</td>\n",
              "      <td>0</td>\n",
              "      <td>1</td>\n",
              "      <td>2</td>\n",
              "      <td>0</td>\n",
              "      <td>...</td>\n",
              "      <td>No Deposit</td>\n",
              "      <td>Undefined</td>\n",
              "      <td>Undefined</td>\n",
              "      <td>0</td>\n",
              "      <td>Transient</td>\n",
              "      <td>42.00</td>\n",
              "      <td>1</td>\n",
              "      <td>0</td>\n",
              "      <td>b1428f80-c56c-4ae4-91a9-6962edae08b1</td>\n",
              "      <td>No</td>\n",
              "    </tr>\n",
              "    <tr>\n",
              "      <th>2</th>\n",
              "      <td>City Hotel</td>\n",
              "      <td>25</td>\n",
              "      <td>2016</td>\n",
              "      <td>October</td>\n",
              "      <td>42</td>\n",
              "      <td>13</td>\n",
              "      <td>0</td>\n",
              "      <td>1</td>\n",
              "      <td>2</td>\n",
              "      <td>2</td>\n",
              "      <td>...</td>\n",
              "      <td>No Deposit</td>\n",
              "      <td>9</td>\n",
              "      <td>Undefined</td>\n",
              "      <td>0</td>\n",
              "      <td>Transient</td>\n",
              "      <td>229.00</td>\n",
              "      <td>0</td>\n",
              "      <td>2</td>\n",
              "      <td>2226c018-ea20-4c4e-8f71-ea66aee70d7c</td>\n",
              "      <td>No</td>\n",
              "    </tr>\n",
              "    <tr>\n",
              "      <th>3</th>\n",
              "      <td>City Hotel</td>\n",
              "      <td>26</td>\n",
              "      <td>2016</td>\n",
              "      <td>December</td>\n",
              "      <td>51</td>\n",
              "      <td>12</td>\n",
              "      <td>2</td>\n",
              "      <td>5</td>\n",
              "      <td>2</td>\n",
              "      <td>0</td>\n",
              "      <td>...</td>\n",
              "      <td>Non Refund</td>\n",
              "      <td>154</td>\n",
              "      <td>Undefined</td>\n",
              "      <td>0</td>\n",
              "      <td>Transient</td>\n",
              "      <td>75.00</td>\n",
              "      <td>0</td>\n",
              "      <td>0</td>\n",
              "      <td>314f56dc-2e4d-4298-9bdd-27bb008bffff</td>\n",
              "      <td>Yes</td>\n",
              "    </tr>\n",
              "    <tr>\n",
              "      <th>4</th>\n",
              "      <td>City Hotel</td>\n",
              "      <td>104</td>\n",
              "      <td>2017</td>\n",
              "      <td>March</td>\n",
              "      <td>12</td>\n",
              "      <td>19</td>\n",
              "      <td>2</td>\n",
              "      <td>5</td>\n",
              "      <td>2</td>\n",
              "      <td>0</td>\n",
              "      <td>...</td>\n",
              "      <td>No Deposit</td>\n",
              "      <td>20</td>\n",
              "      <td>Undefined</td>\n",
              "      <td>0</td>\n",
              "      <td>Transient-Party</td>\n",
              "      <td>75.00</td>\n",
              "      <td>0</td>\n",
              "      <td>1</td>\n",
              "      <td>28c75445-c603-413a-babf-ad377018b592</td>\n",
              "      <td>No</td>\n",
              "    </tr>\n",
              "    <tr>\n",
              "      <th>...</th>\n",
              "      <td>...</td>\n",
              "      <td>...</td>\n",
              "      <td>...</td>\n",
              "      <td>...</td>\n",
              "      <td>...</td>\n",
              "      <td>...</td>\n",
              "      <td>...</td>\n",
              "      <td>...</td>\n",
              "      <td>...</td>\n",
              "      <td>...</td>\n",
              "      <td>...</td>\n",
              "      <td>...</td>\n",
              "      <td>...</td>\n",
              "      <td>...</td>\n",
              "      <td>...</td>\n",
              "      <td>...</td>\n",
              "      <td>...</td>\n",
              "      <td>...</td>\n",
              "      <td>...</td>\n",
              "      <td>...</td>\n",
              "      <td>...</td>\n",
              "    </tr>\n",
              "    <tr>\n",
              "      <th>61908</th>\n",
              "      <td>Resort Hotel</td>\n",
              "      <td>24</td>\n",
              "      <td>2017</td>\n",
              "      <td>January</td>\n",
              "      <td>4</td>\n",
              "      <td>27</td>\n",
              "      <td>0</td>\n",
              "      <td>2</td>\n",
              "      <td>2</td>\n",
              "      <td>0</td>\n",
              "      <td>...</td>\n",
              "      <td>No Deposit</td>\n",
              "      <td>240</td>\n",
              "      <td>Undefined</td>\n",
              "      <td>0</td>\n",
              "      <td>Transient</td>\n",
              "      <td>48.00</td>\n",
              "      <td>0</td>\n",
              "      <td>1</td>\n",
              "      <td>32bffef5-5404-4e86-9f39-fd2282e1ad7f</td>\n",
              "      <td>Yes</td>\n",
              "    </tr>\n",
              "    <tr>\n",
              "      <th>61909</th>\n",
              "      <td>City Hotel</td>\n",
              "      <td>0</td>\n",
              "      <td>2016</td>\n",
              "      <td>September</td>\n",
              "      <td>36</td>\n",
              "      <td>2</td>\n",
              "      <td>0</td>\n",
              "      <td>1</td>\n",
              "      <td>1</td>\n",
              "      <td>0</td>\n",
              "      <td>...</td>\n",
              "      <td>No Deposit</td>\n",
              "      <td>Undefined</td>\n",
              "      <td>Undefined</td>\n",
              "      <td>0</td>\n",
              "      <td>Transient</td>\n",
              "      <td>149.00</td>\n",
              "      <td>0</td>\n",
              "      <td>0</td>\n",
              "      <td>cc922a1c-356e-42a5-a984-0b1af03c2f5c</td>\n",
              "      <td>No</td>\n",
              "    </tr>\n",
              "    <tr>\n",
              "      <th>61910</th>\n",
              "      <td>City Hotel</td>\n",
              "      <td>10</td>\n",
              "      <td>2017</td>\n",
              "      <td>May</td>\n",
              "      <td>19</td>\n",
              "      <td>8</td>\n",
              "      <td>1</td>\n",
              "      <td>2</td>\n",
              "      <td>1</td>\n",
              "      <td>0</td>\n",
              "      <td>...</td>\n",
              "      <td>No Deposit</td>\n",
              "      <td>Undefined</td>\n",
              "      <td>153</td>\n",
              "      <td>0</td>\n",
              "      <td>Transient</td>\n",
              "      <td>95.00</td>\n",
              "      <td>0</td>\n",
              "      <td>0</td>\n",
              "      <td>76fb0e83-59df-43ee-9c33-aec51030ed45</td>\n",
              "      <td>No</td>\n",
              "    </tr>\n",
              "    <tr>\n",
              "      <th>61911</th>\n",
              "      <td>Resort Hotel</td>\n",
              "      <td>143</td>\n",
              "      <td>2015</td>\n",
              "      <td>October</td>\n",
              "      <td>41</td>\n",
              "      <td>10</td>\n",
              "      <td>2</td>\n",
              "      <td>5</td>\n",
              "      <td>2</td>\n",
              "      <td>0</td>\n",
              "      <td>...</td>\n",
              "      <td>Non Refund</td>\n",
              "      <td>96</td>\n",
              "      <td>Undefined</td>\n",
              "      <td>0</td>\n",
              "      <td>Transient</td>\n",
              "      <td>36.05</td>\n",
              "      <td>0</td>\n",
              "      <td>0</td>\n",
              "      <td>01906859-1094-4e37-b13e-b015b594d159</td>\n",
              "      <td>Yes</td>\n",
              "    </tr>\n",
              "    <tr>\n",
              "      <th>61912</th>\n",
              "      <td>City Hotel</td>\n",
              "      <td>57</td>\n",
              "      <td>2016</td>\n",
              "      <td>April</td>\n",
              "      <td>17</td>\n",
              "      <td>17</td>\n",
              "      <td>2</td>\n",
              "      <td>5</td>\n",
              "      <td>2</td>\n",
              "      <td>0</td>\n",
              "      <td>...</td>\n",
              "      <td>No Deposit</td>\n",
              "      <td>9</td>\n",
              "      <td>Undefined</td>\n",
              "      <td>0</td>\n",
              "      <td>Transient</td>\n",
              "      <td>143.29</td>\n",
              "      <td>0</td>\n",
              "      <td>0</td>\n",
              "      <td>7137e599-4442-41fb-b147-4aba9f344e38</td>\n",
              "      <td>Yes</td>\n",
              "    </tr>\n",
              "  </tbody>\n",
              "</table>\n",
              "<p>61913 rows × 31 columns</p>\n",
              "</div>\n",
              "      <button class=\"colab-df-convert\" onclick=\"convertToInteractive('df-1d1436d3-ab5a-474e-8c4a-19475dadb5c0')\"\n",
              "              title=\"Convert this dataframe to an interactive table.\"\n",
              "              style=\"display:none;\">\n",
              "        \n",
              "  <svg xmlns=\"http://www.w3.org/2000/svg\" height=\"24px\"viewBox=\"0 0 24 24\"\n",
              "       width=\"24px\">\n",
              "    <path d=\"M0 0h24v24H0V0z\" fill=\"none\"/>\n",
              "    <path d=\"M18.56 5.44l.94 2.06.94-2.06 2.06-.94-2.06-.94-.94-2.06-.94 2.06-2.06.94zm-11 1L8.5 8.5l.94-2.06 2.06-.94-2.06-.94L8.5 2.5l-.94 2.06-2.06.94zm10 10l.94 2.06.94-2.06 2.06-.94-2.06-.94-.94-2.06-.94 2.06-2.06.94z\"/><path d=\"M17.41 7.96l-1.37-1.37c-.4-.4-.92-.59-1.43-.59-.52 0-1.04.2-1.43.59L10.3 9.45l-7.72 7.72c-.78.78-.78 2.05 0 2.83L4 21.41c.39.39.9.59 1.41.59.51 0 1.02-.2 1.41-.59l7.78-7.78 2.81-2.81c.8-.78.8-2.07 0-2.86zM5.41 20L4 18.59l7.72-7.72 1.47 1.35L5.41 20z\"/>\n",
              "  </svg>\n",
              "      </button>\n",
              "      \n",
              "  <style>\n",
              "    .colab-df-container {\n",
              "      display:flex;\n",
              "      flex-wrap:wrap;\n",
              "      gap: 12px;\n",
              "    }\n",
              "\n",
              "    .colab-df-convert {\n",
              "      background-color: #E8F0FE;\n",
              "      border: none;\n",
              "      border-radius: 50%;\n",
              "      cursor: pointer;\n",
              "      display: none;\n",
              "      fill: #1967D2;\n",
              "      height: 32px;\n",
              "      padding: 0 0 0 0;\n",
              "      width: 32px;\n",
              "    }\n",
              "\n",
              "    .colab-df-convert:hover {\n",
              "      background-color: #E2EBFA;\n",
              "      box-shadow: 0px 1px 2px rgba(60, 64, 67, 0.3), 0px 1px 3px 1px rgba(60, 64, 67, 0.15);\n",
              "      fill: #174EA6;\n",
              "    }\n",
              "\n",
              "    [theme=dark] .colab-df-convert {\n",
              "      background-color: #3B4455;\n",
              "      fill: #D2E3FC;\n",
              "    }\n",
              "\n",
              "    [theme=dark] .colab-df-convert:hover {\n",
              "      background-color: #434B5C;\n",
              "      box-shadow: 0px 1px 3px 1px rgba(0, 0, 0, 0.15);\n",
              "      filter: drop-shadow(0px 1px 2px rgba(0, 0, 0, 0.3));\n",
              "      fill: #FFFFFF;\n",
              "    }\n",
              "  </style>\n",
              "\n",
              "      <script>\n",
              "        const buttonEl =\n",
              "          document.querySelector('#df-1d1436d3-ab5a-474e-8c4a-19475dadb5c0 button.colab-df-convert');\n",
              "        buttonEl.style.display =\n",
              "          google.colab.kernel.accessAllowed ? 'block' : 'none';\n",
              "\n",
              "        async function convertToInteractive(key) {\n",
              "          const element = document.querySelector('#df-1d1436d3-ab5a-474e-8c4a-19475dadb5c0');\n",
              "          const dataTable =\n",
              "            await google.colab.kernel.invokeFunction('convertToInteractive',\n",
              "                                                     [key], {});\n",
              "          if (!dataTable) return;\n",
              "\n",
              "          const docLinkHtml = 'Like what you see? Visit the ' +\n",
              "            '<a target=\"_blank\" href=https://colab.research.google.com/notebooks/data_table.ipynb>data table notebook</a>'\n",
              "            + ' to learn more about interactive tables.';\n",
              "          element.innerHTML = '';\n",
              "          dataTable['output_type'] = 'display_data';\n",
              "          await google.colab.output.renderOutput(dataTable, element);\n",
              "          const docLink = document.createElement('div');\n",
              "          docLink.innerHTML = docLinkHtml;\n",
              "          element.appendChild(docLink);\n",
              "        }\n",
              "      </script>\n",
              "    </div>\n",
              "  </div>\n",
              "  "
            ]
          },
          "metadata": {},
          "execution_count": 2
        }
      ],
      "source": [
        "df_chp1 = pd.read_csv('https://raw.githubusercontent.com/AlanBotoshansky/7506R-1C2023-GRUPO14/main/TP1/Datasets/dataset_chp1.csv')\n",
        "df = df_chp1.copy()\n",
        "df"
      ]
    },
    {
      "cell_type": "markdown",
      "metadata": {
        "id": "A7FQJY06cuhv"
      },
      "source": [
        "Los tipos de dato de las variables actuales son los siguientes:"
      ]
    },
    {
      "cell_type": "code",
      "execution_count": 3,
      "metadata": {
        "colab": {
          "base_uri": "https://localhost:8080/"
        },
        "id": "XlTtIR0RcoGi",
        "outputId": "b139374d-50b6-4c46-db22-e00dc1863e9a"
      },
      "outputs": [
        {
          "output_type": "execute_result",
          "data": {
            "text/plain": [
              "hotel                              object\n",
              "lead_time                           int64\n",
              "arrival_date_year                   int64\n",
              "arrival_date_month                 object\n",
              "arrival_date_week_number            int64\n",
              "arrival_date_day_of_month           int64\n",
              "stays_in_weekend_nights             int64\n",
              "stays_in_week_nights                int64\n",
              "adults                              int64\n",
              "children                            int64\n",
              "babies                              int64\n",
              "meal                               object\n",
              "country                            object\n",
              "market_segment                     object\n",
              "distribution_channel               object\n",
              "is_repeated_guest                  object\n",
              "previous_cancellations              int64\n",
              "previous_bookings_not_canceled      int64\n",
              "reserved_room_type                 object\n",
              "assigned_room_type                 object\n",
              "booking_changes                     int64\n",
              "deposit_type                       object\n",
              "agent                              object\n",
              "company                            object\n",
              "days_in_waiting_list                int64\n",
              "customer_type                      object\n",
              "adr                               float64\n",
              "required_car_parking_spaces         int64\n",
              "total_of_special_requests           int64\n",
              "id                                 object\n",
              "is_canceled                        object\n",
              "dtype: object"
            ]
          },
          "metadata": {},
          "execution_count": 3
        }
      ],
      "source": [
        "df.dtypes"
      ]
    },
    {
      "cell_type": "markdown",
      "metadata": {
        "id": "nZCA-_qUFK_t"
      },
      "source": [
        "### **Dataset de evaluación**"
      ]
    },
    {
      "cell_type": "markdown",
      "metadata": {
        "id": "BdwvsWA2h6sT"
      },
      "source": [
        "Importamos el dataset de test sobre el cual hay que predecir la variable target."
      ]
    },
    {
      "cell_type": "code",
      "execution_count": 4,
      "metadata": {
        "colab": {
          "base_uri": "https://localhost:8080/",
          "height": 1000
        },
        "id": "0gLxASnWhBiQ",
        "outputId": "9e017068-58c9-4b20-d1f3-3f77a69a7e16"
      },
      "outputs": [
        {
          "output_type": "execute_result",
          "data": {
            "text/plain": [
              "              hotel  lead_time  arrival_date_year arrival_date_month  \\\n",
              "0        City Hotel        277               2016           November   \n",
              "1        City Hotel        286               2016                May   \n",
              "2        City Hotel          0               2016             August   \n",
              "3      Resort Hotel        196               2016            October   \n",
              "4      Resort Hotel        232               2016           November   \n",
              "...             ...        ...                ...                ...   \n",
              "26530    City Hotel         31               2017              April   \n",
              "26531    City Hotel        130               2016          September   \n",
              "26532  Resort Hotel         45               2016             August   \n",
              "26533    City Hotel        164               2017             August   \n",
              "26534  Resort Hotel        136               2016              March   \n",
              "\n",
              "       arrival_date_week_number  arrival_date_day_of_month  \\\n",
              "0                            46                          7   \n",
              "1                            20                         11   \n",
              "2                            35                         23   \n",
              "3                            44                         29   \n",
              "4                            48                         26   \n",
              "...                         ...                        ...   \n",
              "26530                        16                         21   \n",
              "26531                        36                          3   \n",
              "26532                        35                         22   \n",
              "26533                        32                         10   \n",
              "26534                        13                         24   \n",
              "\n",
              "       stays_in_weekend_nights  stays_in_week_nights  adults  children  ...  \\\n",
              "0                            1                     2       2       0.0  ...   \n",
              "1                            0                     4       2       0.0  ...   \n",
              "2                            0                     1       3       0.0  ...   \n",
              "3                            2                     5       2       2.0  ...   \n",
              "4                            2                     1       2       0.0  ...   \n",
              "...                        ...                   ...     ...       ...  ...   \n",
              "26530                        2                     3       2       0.0  ...   \n",
              "26531                        2                     1       2       0.0  ...   \n",
              "26532                        1                     1       2       0.0  ...   \n",
              "26533                        2                     4       2       0.0  ...   \n",
              "26534                        0                     3       2       0.0  ...   \n",
              "\n",
              "       deposit_type  agent company days_in_waiting_list    customer_type  \\\n",
              "0        Non Refund    NaN     NaN                    0        Transient   \n",
              "1        No Deposit   30.0     NaN                  176  Transient-Party   \n",
              "2        No Deposit    NaN     NaN                    0        Transient   \n",
              "3        No Deposit  240.0     NaN                    0        Transient   \n",
              "4        Non Refund   11.0     NaN                    0        Transient   \n",
              "...             ...    ...     ...                  ...              ...   \n",
              "26530    No Deposit   21.0     NaN                    0  Transient-Party   \n",
              "26531    No Deposit   42.0     NaN                    0        Transient   \n",
              "26532    No Deposit  240.0     NaN                    0        Transient   \n",
              "26533    No Deposit   85.0     NaN                    0        Transient   \n",
              "26534    No Deposit  387.0     NaN                    0  Transient-Party   \n",
              "\n",
              "          adr  required_car_parking_spaces  total_of_special_requests  \\\n",
              "0      100.00                            0                          0   \n",
              "1      101.00                            0                          0   \n",
              "2      225.00                            0                          2   \n",
              "3       96.00                            0                          0   \n",
              "4       30.00                            0                          0   \n",
              "...       ...                          ...                        ...   \n",
              "26530   85.00                            0                          0   \n",
              "26531   80.75                            0                          0   \n",
              "26532  231.00                            0                          0   \n",
              "26533   80.10                            0                          0   \n",
              "26534   84.00                            0                          0   \n",
              "\n",
              "      reservation_status_date                                    id  \n",
              "0                  2016-04-04  e6d0d58a-ab96-44d3-b28f-85df1cc15f1e  \n",
              "1                  2016-01-22  aba9aac2-4495-4645-a60e-90328713c999  \n",
              "2                  2016-08-24  b345b5dc-c804-4d77-a39f-1f4e65d1f1ad  \n",
              "3                  2016-11-05  ce1b400e-afa1-4946-bdff-004b859eb61c  \n",
              "4                  2016-10-18  c4fbec0d-8e2e-4db2-9d4f-a6ccb9f51214  \n",
              "...                       ...                                   ...  \n",
              "26530              2017-04-26  636ccded-66ad-4538-8006-c0b9f84c6256  \n",
              "26531              2016-09-06  11e19741-bd28-4459-8ea3-184f1664000f  \n",
              "26532              2016-08-04  36a4c7b0-d6b1-4528-93db-311be96ec1c6  \n",
              "26533              2017-03-07  89c85fa5-2b3d-4131-844c-e151a65ca240  \n",
              "26534              2016-03-27  bd4e9eee-f28e-4a53-b4a1-277426efbcee  \n",
              "\n",
              "[26535 rows x 31 columns]"
            ],
            "text/html": [
              "\n",
              "  <div id=\"df-cfde504a-2b72-449c-9b80-2eeea7089a9e\">\n",
              "    <div class=\"colab-df-container\">\n",
              "      <div>\n",
              "<style scoped>\n",
              "    .dataframe tbody tr th:only-of-type {\n",
              "        vertical-align: middle;\n",
              "    }\n",
              "\n",
              "    .dataframe tbody tr th {\n",
              "        vertical-align: top;\n",
              "    }\n",
              "\n",
              "    .dataframe thead th {\n",
              "        text-align: right;\n",
              "    }\n",
              "</style>\n",
              "<table border=\"1\" class=\"dataframe\">\n",
              "  <thead>\n",
              "    <tr style=\"text-align: right;\">\n",
              "      <th></th>\n",
              "      <th>hotel</th>\n",
              "      <th>lead_time</th>\n",
              "      <th>arrival_date_year</th>\n",
              "      <th>arrival_date_month</th>\n",
              "      <th>arrival_date_week_number</th>\n",
              "      <th>arrival_date_day_of_month</th>\n",
              "      <th>stays_in_weekend_nights</th>\n",
              "      <th>stays_in_week_nights</th>\n",
              "      <th>adults</th>\n",
              "      <th>children</th>\n",
              "      <th>...</th>\n",
              "      <th>deposit_type</th>\n",
              "      <th>agent</th>\n",
              "      <th>company</th>\n",
              "      <th>days_in_waiting_list</th>\n",
              "      <th>customer_type</th>\n",
              "      <th>adr</th>\n",
              "      <th>required_car_parking_spaces</th>\n",
              "      <th>total_of_special_requests</th>\n",
              "      <th>reservation_status_date</th>\n",
              "      <th>id</th>\n",
              "    </tr>\n",
              "  </thead>\n",
              "  <tbody>\n",
              "    <tr>\n",
              "      <th>0</th>\n",
              "      <td>City Hotel</td>\n",
              "      <td>277</td>\n",
              "      <td>2016</td>\n",
              "      <td>November</td>\n",
              "      <td>46</td>\n",
              "      <td>7</td>\n",
              "      <td>1</td>\n",
              "      <td>2</td>\n",
              "      <td>2</td>\n",
              "      <td>0.0</td>\n",
              "      <td>...</td>\n",
              "      <td>Non Refund</td>\n",
              "      <td>NaN</td>\n",
              "      <td>NaN</td>\n",
              "      <td>0</td>\n",
              "      <td>Transient</td>\n",
              "      <td>100.00</td>\n",
              "      <td>0</td>\n",
              "      <td>0</td>\n",
              "      <td>2016-04-04</td>\n",
              "      <td>e6d0d58a-ab96-44d3-b28f-85df1cc15f1e</td>\n",
              "    </tr>\n",
              "    <tr>\n",
              "      <th>1</th>\n",
              "      <td>City Hotel</td>\n",
              "      <td>286</td>\n",
              "      <td>2016</td>\n",
              "      <td>May</td>\n",
              "      <td>20</td>\n",
              "      <td>11</td>\n",
              "      <td>0</td>\n",
              "      <td>4</td>\n",
              "      <td>2</td>\n",
              "      <td>0.0</td>\n",
              "      <td>...</td>\n",
              "      <td>No Deposit</td>\n",
              "      <td>30.0</td>\n",
              "      <td>NaN</td>\n",
              "      <td>176</td>\n",
              "      <td>Transient-Party</td>\n",
              "      <td>101.00</td>\n",
              "      <td>0</td>\n",
              "      <td>0</td>\n",
              "      <td>2016-01-22</td>\n",
              "      <td>aba9aac2-4495-4645-a60e-90328713c999</td>\n",
              "    </tr>\n",
              "    <tr>\n",
              "      <th>2</th>\n",
              "      <td>City Hotel</td>\n",
              "      <td>0</td>\n",
              "      <td>2016</td>\n",
              "      <td>August</td>\n",
              "      <td>35</td>\n",
              "      <td>23</td>\n",
              "      <td>0</td>\n",
              "      <td>1</td>\n",
              "      <td>3</td>\n",
              "      <td>0.0</td>\n",
              "      <td>...</td>\n",
              "      <td>No Deposit</td>\n",
              "      <td>NaN</td>\n",
              "      <td>NaN</td>\n",
              "      <td>0</td>\n",
              "      <td>Transient</td>\n",
              "      <td>225.00</td>\n",
              "      <td>0</td>\n",
              "      <td>2</td>\n",
              "      <td>2016-08-24</td>\n",
              "      <td>b345b5dc-c804-4d77-a39f-1f4e65d1f1ad</td>\n",
              "    </tr>\n",
              "    <tr>\n",
              "      <th>3</th>\n",
              "      <td>Resort Hotel</td>\n",
              "      <td>196</td>\n",
              "      <td>2016</td>\n",
              "      <td>October</td>\n",
              "      <td>44</td>\n",
              "      <td>29</td>\n",
              "      <td>2</td>\n",
              "      <td>5</td>\n",
              "      <td>2</td>\n",
              "      <td>2.0</td>\n",
              "      <td>...</td>\n",
              "      <td>No Deposit</td>\n",
              "      <td>240.0</td>\n",
              "      <td>NaN</td>\n",
              "      <td>0</td>\n",
              "      <td>Transient</td>\n",
              "      <td>96.00</td>\n",
              "      <td>0</td>\n",
              "      <td>0</td>\n",
              "      <td>2016-11-05</td>\n",
              "      <td>ce1b400e-afa1-4946-bdff-004b859eb61c</td>\n",
              "    </tr>\n",
              "    <tr>\n",
              "      <th>4</th>\n",
              "      <td>Resort Hotel</td>\n",
              "      <td>232</td>\n",
              "      <td>2016</td>\n",
              "      <td>November</td>\n",
              "      <td>48</td>\n",
              "      <td>26</td>\n",
              "      <td>2</td>\n",
              "      <td>1</td>\n",
              "      <td>2</td>\n",
              "      <td>0.0</td>\n",
              "      <td>...</td>\n",
              "      <td>Non Refund</td>\n",
              "      <td>11.0</td>\n",
              "      <td>NaN</td>\n",
              "      <td>0</td>\n",
              "      <td>Transient</td>\n",
              "      <td>30.00</td>\n",
              "      <td>0</td>\n",
              "      <td>0</td>\n",
              "      <td>2016-10-18</td>\n",
              "      <td>c4fbec0d-8e2e-4db2-9d4f-a6ccb9f51214</td>\n",
              "    </tr>\n",
              "    <tr>\n",
              "      <th>...</th>\n",
              "      <td>...</td>\n",
              "      <td>...</td>\n",
              "      <td>...</td>\n",
              "      <td>...</td>\n",
              "      <td>...</td>\n",
              "      <td>...</td>\n",
              "      <td>...</td>\n",
              "      <td>...</td>\n",
              "      <td>...</td>\n",
              "      <td>...</td>\n",
              "      <td>...</td>\n",
              "      <td>...</td>\n",
              "      <td>...</td>\n",
              "      <td>...</td>\n",
              "      <td>...</td>\n",
              "      <td>...</td>\n",
              "      <td>...</td>\n",
              "      <td>...</td>\n",
              "      <td>...</td>\n",
              "      <td>...</td>\n",
              "      <td>...</td>\n",
              "    </tr>\n",
              "    <tr>\n",
              "      <th>26530</th>\n",
              "      <td>City Hotel</td>\n",
              "      <td>31</td>\n",
              "      <td>2017</td>\n",
              "      <td>April</td>\n",
              "      <td>16</td>\n",
              "      <td>21</td>\n",
              "      <td>2</td>\n",
              "      <td>3</td>\n",
              "      <td>2</td>\n",
              "      <td>0.0</td>\n",
              "      <td>...</td>\n",
              "      <td>No Deposit</td>\n",
              "      <td>21.0</td>\n",
              "      <td>NaN</td>\n",
              "      <td>0</td>\n",
              "      <td>Transient-Party</td>\n",
              "      <td>85.00</td>\n",
              "      <td>0</td>\n",
              "      <td>0</td>\n",
              "      <td>2017-04-26</td>\n",
              "      <td>636ccded-66ad-4538-8006-c0b9f84c6256</td>\n",
              "    </tr>\n",
              "    <tr>\n",
              "      <th>26531</th>\n",
              "      <td>City Hotel</td>\n",
              "      <td>130</td>\n",
              "      <td>2016</td>\n",
              "      <td>September</td>\n",
              "      <td>36</td>\n",
              "      <td>3</td>\n",
              "      <td>2</td>\n",
              "      <td>1</td>\n",
              "      <td>2</td>\n",
              "      <td>0.0</td>\n",
              "      <td>...</td>\n",
              "      <td>No Deposit</td>\n",
              "      <td>42.0</td>\n",
              "      <td>NaN</td>\n",
              "      <td>0</td>\n",
              "      <td>Transient</td>\n",
              "      <td>80.75</td>\n",
              "      <td>0</td>\n",
              "      <td>0</td>\n",
              "      <td>2016-09-06</td>\n",
              "      <td>11e19741-bd28-4459-8ea3-184f1664000f</td>\n",
              "    </tr>\n",
              "    <tr>\n",
              "      <th>26532</th>\n",
              "      <td>Resort Hotel</td>\n",
              "      <td>45</td>\n",
              "      <td>2016</td>\n",
              "      <td>August</td>\n",
              "      <td>35</td>\n",
              "      <td>22</td>\n",
              "      <td>1</td>\n",
              "      <td>1</td>\n",
              "      <td>2</td>\n",
              "      <td>0.0</td>\n",
              "      <td>...</td>\n",
              "      <td>No Deposit</td>\n",
              "      <td>240.0</td>\n",
              "      <td>NaN</td>\n",
              "      <td>0</td>\n",
              "      <td>Transient</td>\n",
              "      <td>231.00</td>\n",
              "      <td>0</td>\n",
              "      <td>0</td>\n",
              "      <td>2016-08-04</td>\n",
              "      <td>36a4c7b0-d6b1-4528-93db-311be96ec1c6</td>\n",
              "    </tr>\n",
              "    <tr>\n",
              "      <th>26533</th>\n",
              "      <td>City Hotel</td>\n",
              "      <td>164</td>\n",
              "      <td>2017</td>\n",
              "      <td>August</td>\n",
              "      <td>32</td>\n",
              "      <td>10</td>\n",
              "      <td>2</td>\n",
              "      <td>4</td>\n",
              "      <td>2</td>\n",
              "      <td>0.0</td>\n",
              "      <td>...</td>\n",
              "      <td>No Deposit</td>\n",
              "      <td>85.0</td>\n",
              "      <td>NaN</td>\n",
              "      <td>0</td>\n",
              "      <td>Transient</td>\n",
              "      <td>80.10</td>\n",
              "      <td>0</td>\n",
              "      <td>0</td>\n",
              "      <td>2017-03-07</td>\n",
              "      <td>89c85fa5-2b3d-4131-844c-e151a65ca240</td>\n",
              "    </tr>\n",
              "    <tr>\n",
              "      <th>26534</th>\n",
              "      <td>Resort Hotel</td>\n",
              "      <td>136</td>\n",
              "      <td>2016</td>\n",
              "      <td>March</td>\n",
              "      <td>13</td>\n",
              "      <td>24</td>\n",
              "      <td>0</td>\n",
              "      <td>3</td>\n",
              "      <td>2</td>\n",
              "      <td>0.0</td>\n",
              "      <td>...</td>\n",
              "      <td>No Deposit</td>\n",
              "      <td>387.0</td>\n",
              "      <td>NaN</td>\n",
              "      <td>0</td>\n",
              "      <td>Transient-Party</td>\n",
              "      <td>84.00</td>\n",
              "      <td>0</td>\n",
              "      <td>0</td>\n",
              "      <td>2016-03-27</td>\n",
              "      <td>bd4e9eee-f28e-4a53-b4a1-277426efbcee</td>\n",
              "    </tr>\n",
              "  </tbody>\n",
              "</table>\n",
              "<p>26535 rows × 31 columns</p>\n",
              "</div>\n",
              "      <button class=\"colab-df-convert\" onclick=\"convertToInteractive('df-cfde504a-2b72-449c-9b80-2eeea7089a9e')\"\n",
              "              title=\"Convert this dataframe to an interactive table.\"\n",
              "              style=\"display:none;\">\n",
              "        \n",
              "  <svg xmlns=\"http://www.w3.org/2000/svg\" height=\"24px\"viewBox=\"0 0 24 24\"\n",
              "       width=\"24px\">\n",
              "    <path d=\"M0 0h24v24H0V0z\" fill=\"none\"/>\n",
              "    <path d=\"M18.56 5.44l.94 2.06.94-2.06 2.06-.94-2.06-.94-.94-2.06-.94 2.06-2.06.94zm-11 1L8.5 8.5l.94-2.06 2.06-.94-2.06-.94L8.5 2.5l-.94 2.06-2.06.94zm10 10l.94 2.06.94-2.06 2.06-.94-2.06-.94-.94-2.06-.94 2.06-2.06.94z\"/><path d=\"M17.41 7.96l-1.37-1.37c-.4-.4-.92-.59-1.43-.59-.52 0-1.04.2-1.43.59L10.3 9.45l-7.72 7.72c-.78.78-.78 2.05 0 2.83L4 21.41c.39.39.9.59 1.41.59.51 0 1.02-.2 1.41-.59l7.78-7.78 2.81-2.81c.8-.78.8-2.07 0-2.86zM5.41 20L4 18.59l7.72-7.72 1.47 1.35L5.41 20z\"/>\n",
              "  </svg>\n",
              "      </button>\n",
              "      \n",
              "  <style>\n",
              "    .colab-df-container {\n",
              "      display:flex;\n",
              "      flex-wrap:wrap;\n",
              "      gap: 12px;\n",
              "    }\n",
              "\n",
              "    .colab-df-convert {\n",
              "      background-color: #E8F0FE;\n",
              "      border: none;\n",
              "      border-radius: 50%;\n",
              "      cursor: pointer;\n",
              "      display: none;\n",
              "      fill: #1967D2;\n",
              "      height: 32px;\n",
              "      padding: 0 0 0 0;\n",
              "      width: 32px;\n",
              "    }\n",
              "\n",
              "    .colab-df-convert:hover {\n",
              "      background-color: #E2EBFA;\n",
              "      box-shadow: 0px 1px 2px rgba(60, 64, 67, 0.3), 0px 1px 3px 1px rgba(60, 64, 67, 0.15);\n",
              "      fill: #174EA6;\n",
              "    }\n",
              "\n",
              "    [theme=dark] .colab-df-convert {\n",
              "      background-color: #3B4455;\n",
              "      fill: #D2E3FC;\n",
              "    }\n",
              "\n",
              "    [theme=dark] .colab-df-convert:hover {\n",
              "      background-color: #434B5C;\n",
              "      box-shadow: 0px 1px 3px 1px rgba(0, 0, 0, 0.15);\n",
              "      filter: drop-shadow(0px 1px 2px rgba(0, 0, 0, 0.3));\n",
              "      fill: #FFFFFF;\n",
              "    }\n",
              "  </style>\n",
              "\n",
              "      <script>\n",
              "        const buttonEl =\n",
              "          document.querySelector('#df-cfde504a-2b72-449c-9b80-2eeea7089a9e button.colab-df-convert');\n",
              "        buttonEl.style.display =\n",
              "          google.colab.kernel.accessAllowed ? 'block' : 'none';\n",
              "\n",
              "        async function convertToInteractive(key) {\n",
              "          const element = document.querySelector('#df-cfde504a-2b72-449c-9b80-2eeea7089a9e');\n",
              "          const dataTable =\n",
              "            await google.colab.kernel.invokeFunction('convertToInteractive',\n",
              "                                                     [key], {});\n",
              "          if (!dataTable) return;\n",
              "\n",
              "          const docLinkHtml = 'Like what you see? Visit the ' +\n",
              "            '<a target=\"_blank\" href=https://colab.research.google.com/notebooks/data_table.ipynb>data table notebook</a>'\n",
              "            + ' to learn more about interactive tables.';\n",
              "          element.innerHTML = '';\n",
              "          dataTable['output_type'] = 'display_data';\n",
              "          await google.colab.output.renderOutput(dataTable, element);\n",
              "          const docLink = document.createElement('div');\n",
              "          docLink.innerHTML = docLinkHtml;\n",
              "          element.appendChild(docLink);\n",
              "        }\n",
              "      </script>\n",
              "    </div>\n",
              "  </div>\n",
              "  "
            ]
          },
          "metadata": {},
          "execution_count": 4
        }
      ],
      "source": [
        "df_test_default = pd.read_csv('https://raw.githubusercontent.com/AlanBotoshansky/7506R-1C2023-GRUPO14/main/TP1/Datasets/hotels_test.csv')\n",
        "df_test = df_test_default.copy()\n",
        "df_test"
      ]
    },
    {
      "cell_type": "code",
      "execution_count": 5,
      "metadata": {
        "colab": {
          "base_uri": "https://localhost:8080/"
        },
        "id": "jk5rk5eTTmNk",
        "outputId": "a6e9af8b-2171-4e30-8585-12f1ee02da43"
      },
      "outputs": [
        {
          "output_type": "execute_result",
          "data": {
            "text/plain": [
              "hotel                              object\n",
              "lead_time                           int64\n",
              "arrival_date_year                   int64\n",
              "arrival_date_month                 object\n",
              "arrival_date_week_number            int64\n",
              "arrival_date_day_of_month           int64\n",
              "stays_in_weekend_nights             int64\n",
              "stays_in_week_nights                int64\n",
              "adults                              int64\n",
              "children                          float64\n",
              "babies                              int64\n",
              "meal                               object\n",
              "country                            object\n",
              "market_segment                     object\n",
              "distribution_channel               object\n",
              "is_repeated_guest                   int64\n",
              "previous_cancellations              int64\n",
              "previous_bookings_not_canceled      int64\n",
              "reserved_room_type                 object\n",
              "assigned_room_type                 object\n",
              "booking_changes                     int64\n",
              "deposit_type                       object\n",
              "agent                             float64\n",
              "company                           float64\n",
              "days_in_waiting_list                int64\n",
              "customer_type                      object\n",
              "adr                               float64\n",
              "required_car_parking_spaces         int64\n",
              "total_of_special_requests           int64\n",
              "reservation_status_date            object\n",
              "id                                 object\n",
              "dtype: object"
            ]
          },
          "metadata": {},
          "execution_count": 5
        }
      ],
      "source": [
        "df_test.dtypes"
      ]
    },
    {
      "cell_type": "markdown",
      "metadata": {
        "id": "d7KsTGedTErc"
      },
      "source": [
        "## **Preprocesamiento y transformación de los datasets**"
      ]
    },
    {
      "cell_type": "markdown",
      "metadata": {
        "id": "dnGz9wRaZO6B"
      },
      "source": [
        "### **Preprocesamiento**"
      ]
    },
    {
      "cell_type": "markdown",
      "metadata": {
        "id": "Noh45uZ3KU5P"
      },
      "source": [
        "Volvemos a asignarle valores númericos a las variables del dataset de entrenamiento que, por una cuestión de claridad, le habíamos asignado un valor categórico."
      ]
    },
    {
      "cell_type": "code",
      "execution_count": 6,
      "metadata": {
        "id": "R_uULLkXeEmG"
      },
      "outputs": [],
      "source": [
        "cols_to_replace = ['is_repeated_guest', 'is_canceled']\n",
        "df[cols_to_replace] = df[cols_to_replace].replace({'Yes': 1, 'No': 0})"
      ]
    },
    {
      "cell_type": "markdown",
      "metadata": {
        "id": "ALO-lOg3iC-z"
      },
      "source": [
        "Modificaremos el dataset de test con los mismos criterios aplicados al dataset de entrenamiento. Primero, eliminaremos la variable \"reservation_status_date\"."
      ]
    },
    {
      "cell_type": "code",
      "execution_count": 7,
      "metadata": {
        "id": "PcoFccDfbYsS"
      },
      "outputs": [],
      "source": [
        "df_test = df_test.drop('reservation_status_date', axis=1)"
      ]
    },
    {
      "cell_type": "markdown",
      "metadata": {
        "id": "TirmRtoZjKZa"
      },
      "source": [
        "Trataremos los datos nulos de igual manera que los tratamos con el dataset de entrenamiento"
      ]
    },
    {
      "cell_type": "code",
      "execution_count": 8,
      "metadata": {
        "colab": {
          "base_uri": "https://localhost:8080/"
        },
        "id": "ro2rFMHvjAv9",
        "outputId": "d1776d05-edea-4dc4-8f7a-160893c82e60"
      },
      "outputs": [
        {
          "output_type": "execute_result",
          "data": {
            "text/plain": [
              "country    0.001534\n",
              "agent      0.054318\n",
              "company    0.407313\n",
              "dtype: float64"
            ]
          },
          "metadata": {},
          "execution_count": 8
        }
      ],
      "source": [
        "serie_porcentaje_nulos = df_test.isna().sum()/len(df)\n",
        "serie_porcentaje_nulos = serie_porcentaje_nulos[serie_porcentaje_nulos > 0]\n",
        "serie_porcentaje_nulos"
      ]
    },
    {
      "cell_type": "code",
      "execution_count": 9,
      "metadata": {
        "id": "3cLMm_1WSTmf"
      },
      "outputs": [],
      "source": [
        "df_test.fillna(value={'country': 'Undefined', 'company': 0, 'agent': 0}, inplace=True)\n",
        "\n",
        "cols_float_to_int = ['agent', 'company']\n",
        "df_test[cols_float_to_int] = df_test[cols_float_to_int].astype(int)\n",
        "\n",
        "cols_to_str = ['agent', 'company']\n",
        "df_test[cols_to_str] = df_test[cols_to_str].replace({0: 'Undefined'})\n",
        "df_test[cols_to_str] = df_test[cols_to_str].astype(str)"
      ]
    },
    {
      "cell_type": "code",
      "execution_count": 10,
      "metadata": {
        "colab": {
          "base_uri": "https://localhost:8080/"
        },
        "id": "4nllpiwukyHq",
        "outputId": "fc5a333c-705d-4838-a065-44bccd78ed70"
      },
      "outputs": [
        {
          "output_type": "execute_result",
          "data": {
            "text/plain": [
              "Series([], dtype: float64)"
            ]
          },
          "metadata": {},
          "execution_count": 10
        }
      ],
      "source": [
        "serie_porcentaje_nulos = df_test.isna().sum()/len(df)\n",
        "serie_porcentaje_nulos = serie_porcentaje_nulos[serie_porcentaje_nulos > 0]\n",
        "serie_porcentaje_nulos"
      ]
    },
    {
      "cell_type": "markdown",
      "metadata": {
        "id": "5VOUxAzBYdf4"
      },
      "source": [
        "### **Dataframe \"completo\"**"
      ]
    },
    {
      "cell_type": "markdown",
      "metadata": {
        "id": "qlHdZFPigITb"
      },
      "source": [
        "Por otro lado, este dataframe contendrá toda la información disponble."
      ]
    },
    {
      "cell_type": "code",
      "execution_count": 11,
      "metadata": {
        "id": "HIOv_BcjVnMD"
      },
      "outputs": [],
      "source": [
        "df_train_completo = df.copy()\n",
        "\n",
        "columna_a_eliminar = ['id']\n",
        "df_train_completo.drop(columna_a_eliminar, axis='columns', inplace=True)"
      ]
    },
    {
      "cell_type": "code",
      "execution_count": 12,
      "metadata": {
        "id": "eQaH8SCMODvv"
      },
      "outputs": [],
      "source": [
        "target = 'is_canceled'\n",
        "features = df_train_completo.columns.tolist()\n",
        "features.remove(target)"
      ]
    },
    {
      "cell_type": "markdown",
      "metadata": {
        "id": "KjeSorwyQIOb"
      },
      "source": [
        "Ahora haremos One Hot Encoding para todas las variables cualitativas de nuestro dataframe para no perder nada de información."
      ]
    },
    {
      "cell_type": "code",
      "execution_count": 13,
      "metadata": {
        "id": "9H-vYgXZQG1g"
      },
      "outputs": [],
      "source": [
        "df_train_completo = pd.get_dummies(df_train_completo, columns=df[features].select_dtypes('object').columns.tolist())"
      ]
    },
    {
      "cell_type": "code",
      "execution_count": 14,
      "metadata": {
        "id": "BgTQRBavOUN7"
      },
      "outputs": [],
      "source": [
        "#Creamos un dataframe con los features que vamos a usar para clasificar\n",
        "features_para_clasificar = df_train_completo.columns.tolist()\n",
        "features_para_clasificar.remove(target)\n",
        "df_train_completo_x = df_train_completo[features_para_clasificar]\n",
        "\n",
        "#Creamos un dataframe con la variable target\n",
        "df_train_completo_y = df_train_completo[target].copy()"
      ]
    },
    {
      "cell_type": "markdown",
      "metadata": {
        "id": "INA4I_jNQU5d"
      },
      "source": [
        "Nos aseguraremos de que ambos datasets tengan las mismas variables, de modo que no exista alguna que este presente en un dataframe y ausente en el otro, quedándonos asi con las variables dummies de los dataset de entrenamiento y test que pertenezcan a ambos."
      ]
    },
    {
      "cell_type": "markdown",
      "metadata": {
        "id": "f5d0fKz6QZ1L"
      },
      "source": [
        "Hacemos One Hot Encoding para todas las variables cualitativas de nuestro dataframe de evaluación."
      ]
    },
    {
      "cell_type": "code",
      "execution_count": 15,
      "metadata": {
        "id": "53LPzoEZObUy"
      },
      "outputs": [],
      "source": [
        "df_test_completo = df_test.copy()\n",
        "\n",
        "columna_a_eliminar = ['id']\n",
        "df_test_completo.drop(columna_a_eliminar, axis='columns', inplace=True)\n",
        "\n",
        "features = df_test_completo.columns.tolist()\n",
        "\n",
        "df_test_completo = pd.get_dummies(df_test_completo, columns=df_test_completo[features].select_dtypes('object').columns.tolist())"
      ]
    },
    {
      "cell_type": "markdown",
      "metadata": {
        "id": "F3qA7cTuQnxA"
      },
      "source": [
        "Ahora nos quedamos con las variables que tienen en común los dataset de entrenamiento y test."
      ]
    },
    {
      "cell_type": "code",
      "execution_count": 16,
      "metadata": {
        "colab": {
          "base_uri": "https://localhost:8080/"
        },
        "id": "dyo4ERs_Qr-3",
        "outputId": "c0d22619-c561-43f9-ea19-c3b04fb356e5"
      },
      "outputs": [
        {
          "output_type": "stream",
          "name": "stderr",
          "text": [
            "<ipython-input-16-af243c21312f>:8: SettingWithCopyWarning: \n",
            "A value is trying to be set on a copy of a slice from a DataFrame\n",
            "\n",
            "See the caveats in the documentation: https://pandas.pydata.org/pandas-docs/stable/user_guide/indexing.html#returning-a-view-versus-a-copy\n",
            "  df_train_completo_x.drop(columnas_a_eliminar_de_train, axis='columns', inplace=True)\n"
          ]
        }
      ],
      "source": [
        "cols_df_train_completo_x = set(df_train_completo_x.columns)\n",
        "cols_df_test_completo = set(df_test_completo.columns)\n",
        "\n",
        "cols_solo_train = cols_df_train_completo_x.difference(cols_df_test_completo)\n",
        "cols_solo_test = cols_df_test_completo.difference(cols_df_train_completo_x)\n",
        "\n",
        "columnas_a_eliminar_de_train = list(cols_solo_train)\n",
        "df_train_completo_x.drop(columnas_a_eliminar_de_train, axis='columns', inplace=True)\n",
        "\n",
        "columnas_a_eliminar_de_test = list(cols_solo_test)\n",
        "df_test_completo.drop(columnas_a_eliminar_de_test, axis='columns', inplace=True)"
      ]
    },
    {
      "cell_type": "markdown",
      "metadata": {
        "id": "o_IxUA4EWUky"
      },
      "source": [
        "Finalmente, hacemos una partición (proporción de 80/20) del dataframe de entrenamiento, para poder validar el rendimiento de nuestros modelos luego de entrenarlos."
      ]
    },
    {
      "cell_type": "code",
      "execution_count": 17,
      "metadata": {
        "id": "haFjBbBlOi3o"
      },
      "outputs": [],
      "source": [
        "x_train, x_val, y_train, y_val = train_test_split(df_train_completo_x, df_train_completo_y, test_size=0.2, random_state=0, stratify=df[target].values)"
      ]
    },
    {
      "cell_type": "markdown",
      "metadata": {
        "id": "mZ_HqmB-Pnme"
      },
      "source": [
        "## **Funciones auxiliares**"
      ]
    },
    {
      "cell_type": "code",
      "execution_count": 18,
      "metadata": {
        "id": "EIOCUeprPuU5"
      },
      "outputs": [],
      "source": [
        "def imprimir_f1_score(y_test, y_pred):\n",
        "  f1 = f1_score(y_test, y_pred, average='weighted')\n",
        "  print(\"F1 score:\", f1)"
      ]
    },
    {
      "cell_type": "code",
      "execution_count": 19,
      "metadata": {
        "id": "fax-gRhrUnj1"
      },
      "outputs": [],
      "source": [
        "def grafico_matriz_confusion(y_test, y_pred):\n",
        "  tabla = confusion_matrix(y_test, y_pred)\n",
        "  sns.heatmap(tabla, cmap='crest', annot=True, fmt='g')\n",
        "  plt.xlabel('Predicho')\n",
        "  plt.ylabel('Real')\n",
        "  plt.show()"
      ]
    },
    {
      "cell_type": "code",
      "execution_count": 20,
      "metadata": {
        "id": "0fcTh9SVuAjO"
      },
      "outputs": [],
      "source": [
        "def predecir_y_exportar_a_csv_con_knn(knn, x_test, f1_score_en_train):\n",
        "    y_pred = knn.predict(x_test)\n",
        "\n",
        "    df_submission = pd.DataFrame({'id': df_test['id'], 'is_canceled': y_pred})\n",
        "\n",
        "    params = knn.get_params()\n",
        "    n_neighbors = params['n_neighbors']\n",
        "    weights = params['weights']\n",
        "    algorithm = params['algorithm']\n",
        "    metric = params['metric']\n",
        "\n",
        "    df_submission.to_csv(f\"pred_KNN-nn_{n_neighbors}-w_{weights}-algo_{algorithm}-met_{metric}-f1_{round(f1_score_en_train, 4)}.csv\", index=False)"
      ]
    },
    {
      "cell_type": "code",
      "execution_count": 21,
      "metadata": {
        "id": "PtNXZkvIpBUS"
      },
      "outputs": [],
      "source": [
        "def exportar_knn(knn, f1_score_en_train):\n",
        "    params = knn.get_params()\n",
        "    n_neighbors = params['n_neighbors']\n",
        "    weights = params['weights']\n",
        "    algorithm = params['algorithm']\n",
        "    metric = params['metric']\n",
        "    \n",
        "    joblib.dump(knn, f'KNN-nn_{n_neighbors}-w_{weights}-algo_{algorithm}-met_{metric}-f1_{round(f1_score_en_train, 4)}.joblib')"
      ]
    },
    {
      "cell_type": "code",
      "execution_count": 22,
      "metadata": {
        "id": "ClAvxZ8Lj-r0"
      },
      "outputs": [],
      "source": [
        "def predecir_y_exportar_a_csv_con_svm_lineal(svm_lin, x_test, f1_score_en_train):\n",
        "    y_pred = svm_lin.predict(x_test)\n",
        "\n",
        "    df_submission = pd.DataFrame({'id': df_test['id'], 'is_canceled': y_pred})\n",
        "\n",
        "    params = svm_lin.get_params()\n",
        "    kernel = params['svm__kernel']\n",
        "    C = params['svm__C']\n",
        "\n",
        "    df_submission.to_csv(f\"pred_SVM_lin-ker_{kernel}-C_{round(C, 4)}-f1_{round(f1_score_en_train, 4)}.csv\", index=False)"
      ]
    },
    {
      "cell_type": "code",
      "execution_count": 23,
      "metadata": {
        "id": "dWNwNjXzqPx-"
      },
      "outputs": [],
      "source": [
        "def exportar_svm_lineal(svm_lin, f1_score_en_train):\n",
        "    params = svm_lin.get_params()\n",
        "    kernel = params['svm__kernel']\n",
        "    C = params['svm__C']\n",
        "    \n",
        "    joblib.dump(svm_lin, f'SVM_lin-ker_{kernel}-C_{round(C, 4)}-f1_{round(f1_score_en_train, 4)}.joblib')"
      ]
    },
    {
      "cell_type": "code",
      "execution_count": 24,
      "metadata": {
        "id": "bNVKamU04gBM"
      },
      "outputs": [],
      "source": [
        "def predecir_y_exportar_a_csv_con_svm_polinomico(svm_pol, x_test, f1_score_en_train):\n",
        "    y_pred = svm_pol.predict(x_test)\n",
        "\n",
        "    df_submission = pd.DataFrame({'id': df_test['id'], 'is_canceled': y_pred})\n",
        "\n",
        "    params = svm_pol.get_params()\n",
        "    kernel = params['svm__kernel']\n",
        "    C = params['svm__C']\n",
        "    gamma = params['svm__gamma']\n",
        "    degree = params['svm__degree']\n",
        "    coef0 = params['svm__coef0']\n",
        "\n",
        "    df_submission.to_csv(f\"pred_SVM_pol-ker_{kernel}-C_{round(C, 4)}-gam_{gamma}-deg_{degree}-coef_{coef0}-f1_{round(f1_score_en_train, 4)}.csv\", index=False)"
      ]
    },
    {
      "cell_type": "code",
      "execution_count": 25,
      "metadata": {
        "id": "hps-2bDC4gBM"
      },
      "outputs": [],
      "source": [
        "def exportar_svm_polinomico(svm_pol, f1_score_en_train):\n",
        "    params = svm_pol.get_params()\n",
        "    kernel = params['svm__kernel']\n",
        "    C = params['svm__C']\n",
        "    gamma = params['svm__gamma']\n",
        "    degree = params['svm__degree']\n",
        "    coef0 = params['svm__coef0']\n",
        "    \n",
        "    joblib.dump(svm_pol, f'SVM_pol-ker_{kernel}-C_{round(C, 4)}-gam_{gamma}-deg_{degree}-coef_{coef0}-f1_{round(f1_score_en_train, 4)}.joblib')"
      ]
    },
    {
      "cell_type": "code",
      "execution_count": 26,
      "metadata": {
        "id": "wNOXF_du4gBN"
      },
      "outputs": [],
      "source": [
        "def predecir_y_exportar_a_csv_con_svm_radial(svm_rbf, x_test, f1_score_en_train):\n",
        "    y_pred = svm_rbf.predict(x_test)\n",
        "\n",
        "    df_submission = pd.DataFrame({'id': df_test['id'], 'is_canceled': y_pred})\n",
        "\n",
        "    params = svm_rbf.get_params()\n",
        "    kernel = params['svm__kernel']\n",
        "    C = params['svm__C']\n",
        "    gamma = params['svm__gamma']\n",
        "\n",
        "    df_submission.to_csv(f\"pred_SVM_rbf-ker_{kernel}-C_{round(C, 4)}-gam_{gamma}-f1_{round(f1_score_en_train, 4)}.csv\", index=False)"
      ]
    },
    {
      "cell_type": "code",
      "execution_count": 27,
      "metadata": {
        "id": "KqQvhufs4gBN"
      },
      "outputs": [],
      "source": [
        "def exportar_svm_radial(svm_rbf, f1_score_en_train):\n",
        "    params = svm_rbf.get_params()\n",
        "    kernel = params['svm__kernel']\n",
        "    C = params['svm__C']\n",
        "    gamma = params['svm__gamma']\n",
        "    \n",
        "    joblib.dump(svm_rbf, f'SVM_rbf-ker_{kernel}-C_{round(C, 4)}-gam_{gamma}-f1_{round(f1_score_en_train, 4)}.joblib')"
      ]
    },
    {
      "cell_type": "code",
      "execution_count": 28,
      "metadata": {
        "id": "rG1aDymDUeXg"
      },
      "outputs": [],
      "source": [
        "def predecir_y_exportar_a_csv_con_rf(rf, x_test, f1_score_en_train):\n",
        "    y_pred = rf.predict(x_test)\n",
        "\n",
        "    df_submission = pd.DataFrame({'id': df_test['id'], 'is_canceled': y_pred})\n",
        "\n",
        "    params = rf.get_params()\n",
        "    criterion = params['criterion']\n",
        "    n_estimators = params['n_estimators']\n",
        "    max_features = params['max_features']\n",
        "\n",
        "    df_submission.to_csv(f\"pred_RF-crit_{criterion}-n_estim_{n_estimators}-max_f_{max_features}-f1_{round(f1_score_en_train, 4)}.csv\", index=False)"
      ]
    },
    {
      "cell_type": "code",
      "execution_count": 29,
      "metadata": {
        "id": "PON_vv1YUeXk"
      },
      "outputs": [],
      "source": [
        "def exportar_rf(rf, f1_score_en_train):\n",
        "    params = rf.get_params()\n",
        "    criterion = params['criterion']\n",
        "    n_estimators = params['n_estimators']\n",
        "    max_features = params['max_features']\n",
        "    \n",
        "    joblib.dump(rf, f'RF-crit_{criterion}-n_estim_{n_estimators}-max_f_{max_features}-f1_{round(f1_score_en_train, 4)}.joblib')"
      ]
    },
    {
      "cell_type": "code",
      "execution_count": 30,
      "metadata": {
        "id": "4xMASti2C5XW"
      },
      "outputs": [],
      "source": [
        "def predecir_y_exportar_a_csv_con_xgb(xgb, x_test, f1_score_en_train):\n",
        "    y_pred = xgb.predict(x_test)\n",
        "\n",
        "    df_submission = pd.DataFrame({'id': df_test['id'], 'is_canceled': y_pred})\n",
        "\n",
        "    params = xgb.get_params()\n",
        "    n_estimators = params['n_estimators']\n",
        "    max_depth = params['max_depth']\n",
        "    learning_rate = params['learning_rate']\n",
        "    gamma = params['gamma']\n",
        "    reg_alpha = params['reg_alpha']\n",
        "    reg_lambda = params['reg_lambda']\n",
        "    \n",
        "    df_submission.to_csv(f\"pred_XGB-n_estim_{n_estimators}-max_d_{max_depth}-lr_{learning_rate}-gam_{round(gamma, 1)}-alp_{round(reg_alpha, 1)}-lam_{round(reg_lambda, 1)}-f1_{round(f1_score_en_train, 4)}.csv\", index=False)"
      ]
    },
    {
      "cell_type": "code",
      "execution_count": 31,
      "metadata": {
        "id": "9Hs5VrfHC5XW"
      },
      "outputs": [],
      "source": [
        "def exportar_xgb(xgb, f1_score_en_train):\n",
        "    params = xgb.get_params()\n",
        "    n_estimators = params['n_estimators']\n",
        "    max_depth = params['max_depth']\n",
        "    learning_rate = params['learning_rate']\n",
        "    gamma = params['gamma']\n",
        "    reg_alpha = params['reg_alpha']\n",
        "    reg_lambda = params['reg_lambda']\n",
        "    \n",
        "    joblib.dump(xgb, f'XGB-n_estim_{n_estimators}-max_d_{max_depth}-lr_{learning_rate}-gam_{round(gamma, 1)}-alp_{round(reg_alpha, 1)}-lam_{round(reg_lambda, 1)}-f1_{round(f1_score_en_train, 4)}.joblib')"
      ]
    },
    {
      "cell_type": "code",
      "source": [
        "def predecir_y_exportar_a_csv_con_voting(voting_clf, x_test, f1_score_en_train):\n",
        "    y_pred = voting_clf.predict(x_test)\n",
        "\n",
        "    df_submission = pd.DataFrame({'id': df_test['id'], 'is_canceled': y_pred})\n",
        "\n",
        "    params = voting_clf.get_params()\n",
        "    estimators = params['estimators']\n",
        "    estimators = '_'.join([estimator[0] for estimator in estimators])\n",
        "    voting = params['voting']\n",
        "    \n",
        "    df_submission.to_csv(f\"pred_voting_clf-estimators_{estimators}-voting_{voting}-f1_{round(f1_score_en_train, 4)}.csv\", index=False)"
      ],
      "metadata": {
        "id": "b-txx5TpBAdz"
      },
      "execution_count": 32,
      "outputs": []
    },
    {
      "cell_type": "code",
      "source": [
        "def exportar_voting(voting_clf, f1_score_en_train):\n",
        "    params = voting_clf.get_params()\n",
        "    estimators = params['estimators']\n",
        "    estimators = '_'.join([estimator[0] for estimator in estimators])\n",
        "    voting = params['voting']\n",
        "    \n",
        "    joblib.dump(voting_clf, f'voting_clf-estimators_{estimators}-voting_{voting}-f1_{round(f1_score_en_train, 4)}.joblib')"
      ],
      "metadata": {
        "id": "zsC23_9f-msk"
      },
      "execution_count": 33,
      "outputs": []
    },
    {
      "cell_type": "code",
      "source": [
        "def predecir_y_exportar_a_csv_con_stacking(stacking_clf, x_test, f1_score_en_train):\n",
        "    y_pred = stacking_clf.predict(x_test)\n",
        "\n",
        "    df_submission = pd.DataFrame({'id': df_test['id'], 'is_canceled': y_pred})\n",
        "\n",
        "    params = stacking_clf.get_params()\n",
        "    estimators = params['estimators']\n",
        "    estimators = '_'.join([estimator[0] for estimator in estimators])\n",
        "    final_estimator = type(params['final_estimator']).__name__\n",
        "    \n",
        "    df_submission.to_csv(f\"pred_stacking_clf-estimators_{estimators}-f_estim_{final_estimator}-f1_{round(f1_score_en_train, 4)}.csv\", index=False)"
      ],
      "metadata": {
        "id": "wY2mIR1aBhuJ"
      },
      "execution_count": 34,
      "outputs": []
    },
    {
      "cell_type": "code",
      "source": [
        "def exportar_stacking(stacking_clf, f1_score_en_train):\n",
        "    params = stacking_clf.get_params()\n",
        "    estimators = params['estimators']\n",
        "    estimators = '_'.join([estimator[0] for estimator in estimators])\n",
        "    final_estimator = type(params['final_estimator']).__name__\n",
        "    \n",
        "    joblib.dump(stacking_clf, f'stacking_clf-estimators_{estimators}-f_estim_{final_estimator}-f1_{round(f1_score_en_train, 4)}.joblib')"
      ],
      "metadata": {
        "id": "h5Q3e5Be-n_c"
      },
      "execution_count": 35,
      "outputs": []
    },
    {
      "cell_type": "markdown",
      "metadata": {
        "id": "Cgmfm-XnG1fc"
      },
      "source": [
        "## **a) KNN**"
      ]
    },
    {
      "cell_type": "markdown",
      "metadata": {
        "id": "zNWX8PjxXVMA"
      },
      "source": [
        "Comenzaremos creando un KNN por defecto con el objetivo de observar el rendimiento base, y así podemos tener una idea del resultado a mejorar."
      ]
    },
    {
      "cell_type": "code",
      "execution_count": null,
      "metadata": {
        "colab": {
          "base_uri": "https://localhost:8080/"
        },
        "id": "pwAvxgM6O5Sq",
        "outputId": "c89a3009-d364-4272-d3c3-d63c832d5e11"
      },
      "outputs": [
        {
          "name": "stdout",
          "output_type": "stream",
          "text": [
            "F1 score: 0.7260743213502105\n"
          ]
        }
      ],
      "source": [
        "knn_default = KNeighborsClassifier()\n",
        "\n",
        "knn_default.fit(x_train, y_train)\n",
        "\n",
        "y_pred_train = knn_default.predict(x_val)\n",
        "\n",
        "imprimir_f1_score(y_val, y_pred_train)"
      ]
    },
    {
      "cell_type": "markdown",
      "metadata": {
        "id": "iKNJMcS0B3jM"
      },
      "source": [
        "Optimizamos sus hiperparámetros mediante K-Fold\n",
        "Cross Validation."
      ]
    },
    {
      "cell_type": "code",
      "execution_count": null,
      "metadata": {
        "colab": {
          "base_uri": "https://localhost:8080/"
        },
        "id": "CMo4STr9hCfF",
        "outputId": "1e547179-ab7d-4235-aaab-d008319520b2"
      },
      "outputs": [
        {
          "data": {
            "text/plain": [
              "array([0.74892063, 0.74742095, 0.73738281, 0.69066089, 0.73584252,\n",
              "       0.69640692, 0.71002315, 0.7285923 , 0.78235595, 0.74673154])"
            ]
          },
          "execution_count": 21,
          "metadata": {},
          "output_type": "execute_result"
        }
      ],
      "source": [
        "##KFOLD CV Random Search para buscar el mejor clasificador KNN (los mejores atributos, hiperparámetros, etc)\n",
        "\n",
        "#Numero de iteraciones\n",
        "n=10\n",
        "\n",
        "#Conjunto de parámetros que queremos usar\n",
        "params_grid= {'n_neighbors': list(range(1,30)), \n",
        "              'weights': ['distance','uniform'],\n",
        "              'algorithm': ['ball_tree', 'kd_tree', 'brute'],\n",
        "              'metric': ['euclidean','manhattan','chebyshev']\n",
        "             }\n",
        "\n",
        "#Cantidad de splits para el Cross Validation\n",
        "folds=5\n",
        "\n",
        "#Kfold estratificado\n",
        "kfoldcv = StratifiedKFold(n_splits=folds)\n",
        "\n",
        "#Clasificador KNN\n",
        "knn = KNeighborsClassifier()\n",
        "\n",
        "#Metrica que queremos optimizar: F1 Score\n",
        "scorer_fn = make_scorer(f1_score)\n",
        "\n",
        "#Random Search Cross Validation\n",
        "randomcv = RandomizedSearchCV(estimator=knn, param_distributions=params_grid, cv=kfoldcv, scoring=scorer_fn, n_iter=n, random_state=0)\n",
        "\n",
        "randomcv.fit(x_train, y_train)\n",
        "randomcv.cv_results_['mean_test_score']"
      ]
    },
    {
      "cell_type": "code",
      "execution_count": null,
      "metadata": {
        "colab": {
          "base_uri": "https://localhost:8080/"
        },
        "id": "v-6pfoCw5--6",
        "outputId": "d85ba86e-d19a-4be7-c5ac-0de15aabd570"
      },
      "outputs": [
        {
          "name": "stdout",
          "output_type": "stream",
          "text": [
            "Mejores hiperparámetros del KNN: {'weights': 'distance', 'n_neighbors': 17, 'metric': 'manhattan', 'algorithm': 'ball_tree'}\n",
            "Mejor F1 Score: 0.7823559468555219\n"
          ]
        }
      ],
      "source": [
        "print(f\"Mejores hiperparámetros del KNN: {randomcv.best_params_}\")\n",
        "print(f\"Mejor F1 Score: {randomcv.best_score_}\")"
      ]
    },
    {
      "cell_type": "markdown",
      "metadata": {
        "id": "BvKKgl0qXu7h"
      },
      "source": [
        "Entrenamos el KNN con los hiperparámetros hallados"
      ]
    },
    {
      "cell_type": "code",
      "execution_count": null,
      "metadata": {
        "colab": {
          "base_uri": "https://localhost:8080/"
        },
        "id": "39taJVphX2HF",
        "outputId": "d738cb80-290a-41bc-e937-02395f44d646"
      },
      "outputs": [
        {
          "name": "stdout",
          "output_type": "stream",
          "text": [
            "F1 score: 0.7811773689380851\n"
          ]
        }
      ],
      "source": [
        "knn = KNeighborsClassifier(**randomcv.best_params_)\n",
        "knn.fit(x_train, y_train)\n",
        "\n",
        "y_pred_train_knn = knn.predict(x_val)\n",
        "\n",
        "imprimir_f1_score(y_val, y_pred_train_knn)"
      ]
    },
    {
      "cell_type": "markdown",
      "metadata": {
        "id": "U-N8ubycqt65"
      },
      "source": [
        "Exportamos el modelo"
      ]
    },
    {
      "cell_type": "code",
      "execution_count": null,
      "metadata": {
        "id": "5Bm80a1Pq2Pi"
      },
      "outputs": [],
      "source": [
        "f1_score_en_train = f1_score(y_val, y_pred_train_knn, average='weighted')\n",
        "exportar_knn(knn, f1_score_en_train)"
      ]
    },
    {
      "cell_type": "markdown",
      "metadata": {
        "id": "hXpMy8cTHF28"
      },
      "source": [
        "## **b) SVM**"
      ]
    },
    {
      "cell_type": "markdown",
      "metadata": {
        "id": "4BX8EDkOtul_"
      },
      "source": [
        "Comenzaremos creando un SVM por defecto con el objetivo de observar el rendimiento base, y así podemos tener una idea del resultado a mejorar."
      ]
    },
    {
      "cell_type": "code",
      "execution_count": null,
      "metadata": {
        "id": "2qxwmwZ3kx4L"
      },
      "outputs": [],
      "source": [
        "svm_default = SVC(random_state=0)\n",
        "\n",
        "svm_default.fit(x_train, y_train)\n",
        "\n",
        "y_pred_train = svm_default.predict(x_val)\n",
        "\n",
        "imprimir_f1_score(y_val, y_pred_train)"
      ]
    },
    {
      "cell_type": "markdown",
      "metadata": {
        "id": "ztjzsBWOu5K-"
      },
      "source": [
        "A continuación, normalizamos los datos con un escalador estándar (StandardScaler) y volvemos a entrenar el modelo."
      ]
    },
    {
      "cell_type": "code",
      "execution_count": null,
      "metadata": {
        "id": "i60dCM_YeAA9",
        "outputId": "97bb2f59-450f-4bea-f48b-5447857fda61"
      },
      "outputs": [
        {
          "name": "stdout",
          "output_type": "stream",
          "text": [
            "F1 score: 0.8301702619906896\n"
          ]
        }
      ],
      "source": [
        "svm_default_norm = Pipeline([('scaler', StandardScaler()), ('svm', SVC(random_state=0))])\n",
        "\n",
        "svm_default_norm.fit(x_train, y_train)\n",
        "\n",
        "y_pred_train = svm_default_norm.predict(x_val)\n",
        "\n",
        "imprimir_f1_score(y_val, y_pred_train)"
      ]
    },
    {
      "cell_type": "markdown",
      "metadata": {
        "id": "cNH_4gDoipF6"
      },
      "source": [
        "Podemos ver que al normalizar los datos obtuvimos un modelo con mucho mejor rendimiento. "
      ]
    },
    {
      "cell_type": "markdown",
      "metadata": {
        "id": "XWEbChJhvdvM"
      },
      "source": [
        "A continuación haremos Cross Validation para la optimización de los hiperparámetros de SVM para los distintos kernels."
      ]
    },
    {
      "cell_type": "markdown",
      "metadata": {
        "id": "DntJsc4_v1S0"
      },
      "source": [
        "### **Kernel lineal**"
      ]
    },
    {
      "cell_type": "code",
      "execution_count": null,
      "metadata": {
        "id": "lVP2e-JaXd4x"
      },
      "outputs": [],
      "source": [
        "##KFOLD CV Random Search para buscar el mejor clasificador SVM con Kernel Lineal (los mejores atributos, hiperparámetros, etc)\n",
        "\n",
        "#Numero de iteraciones\n",
        "n=10\n",
        "\n",
        "#Conjunto de parámetros que queremos usar\n",
        "params_grid={ 'svm__kernel': ['linear'],\n",
        "              'svm__C': np.linspace(1e-05,1,10),\n",
        "             }\n",
        "\n",
        "#Cantidad de splits para el Cross Validation\n",
        "folds=5\n",
        "\n",
        "#Kfold estratificado\n",
        "kfoldcv = StratifiedKFold(n_splits=folds)\n",
        "\n",
        "#Clasificador SVM\n",
        "svm = Pipeline([('scaler', StandardScaler()), ('svm', SVC(random_state=0))])\n",
        "\n",
        "#Metrica que queremos optimizar: F1 Score\n",
        "scorer_fn = make_scorer(f1_score)\n",
        "\n",
        "#Random Search Cross Validation\n",
        "randomcv = RandomizedSearchCV(estimator=svm, param_distributions=params_grid, cv=kfoldcv, scoring=scorer_fn, n_iter=n, random_state=0)\n",
        "\n",
        "randomcv.fit(x_train, y_train)\n",
        "randomcv.cv_results_['mean_test_score']"
      ]
    },
    {
      "cell_type": "code",
      "execution_count": null,
      "metadata": {
        "colab": {
          "base_uri": "https://localhost:8080/"
        },
        "id": "Mb-2C4gKXlh6",
        "outputId": "9e044ac1-3c73-4677-fe54-a2bd38a5fb44"
      },
      "outputs": [
        {
          "name": "stdout",
          "output_type": "stream",
          "text": [
            "Mejores hiperparámetros del SVM con kernel lineal: {'svm__kernel': 'linear', 'svm__C': 0.22223}\n",
            "Mejor F1 Score: 0.8303514738706882\n"
          ]
        }
      ],
      "source": [
        "print(f\"Mejores hiperparámetros del SVM con kernel lineal: {randomcv.best_params_}\")\n",
        "print(f\"Mejor F1 Score: {randomcv.best_score_}\")"
      ]
    },
    {
      "cell_type": "markdown",
      "metadata": {
        "id": "1dzMUupZwV3T"
      },
      "source": [
        "Entrenamos el SVM con kernel lineal con los hiperparámetros hallados."
      ]
    },
    {
      "cell_type": "code",
      "execution_count": null,
      "metadata": {
        "colab": {
          "base_uri": "https://localhost:8080/"
        },
        "id": "O23535CYXra4",
        "outputId": "6a40bd9e-04cb-4517-fe47-da713ff6af9c"
      },
      "outputs": [
        {
          "name": "stdout",
          "output_type": "stream",
          "text": [
            "F1 score: 0.8291708237664717\n"
          ]
        }
      ],
      "source": [
        "svm_lin = Pipeline([('scaler', StandardScaler()), ('svm', SVC(random_state=0))])\n",
        "svm_lin.set_params(**randomcv.best_params_)\n",
        "svm_lin.fit(x_train, y_train)\n",
        "\n",
        "y_pred_train_svm_lin = svm_lin.predict(x_val)\n",
        "\n",
        "imprimir_f1_score(y_val, y_pred_train_svm_lin)"
      ]
    },
    {
      "cell_type": "markdown",
      "metadata": {
        "id": "QemNzkG4wqbZ"
      },
      "source": [
        "Exportamos el modelo"
      ]
    },
    {
      "cell_type": "code",
      "execution_count": null,
      "metadata": {
        "id": "gkwTDTflwun1"
      },
      "outputs": [],
      "source": [
        "f1_score_en_train = f1_score(y_val, y_pred_train_svm_lin, average='weighted')\n",
        "exportar_svm_lineal(svm_lin, f1_score_en_train)"
      ]
    },
    {
      "cell_type": "markdown",
      "metadata": {
        "id": "P0xDSR0WcihN"
      },
      "source": [
        "### **Kernel polinómico**"
      ]
    },
    {
      "cell_type": "code",
      "execution_count": null,
      "metadata": {
        "id": "HmSpuJvzcihP"
      },
      "outputs": [],
      "source": [
        "##KFOLD CV Random Search para buscar el mejor clasificador SVM con Kernel Polinómico (los mejores atributos, hiperparámetros, etc)\n",
        "\n",
        "#Numero de iteraciones\n",
        "n=10\n",
        "\n",
        "#Conjunto de parámetros que queremos usar\n",
        "params_grid={ 'svm__kernel': ['poly'],\n",
        "              'svm__C': np.linspace(1e-05,1,10),\n",
        "              'svm__gamma': np.logspace(-3, 0, 7),\n",
        "              'svm__degree': range(1,11),\n",
        "              'svm__coef0': range(1,11)\n",
        "             }\n",
        "\n",
        "#Cantidad de splits para el Cross Validation\n",
        "folds=5\n",
        "\n",
        "#Kfold estratificado\n",
        "kfoldcv = StratifiedKFold(n_splits=folds)\n",
        "\n",
        "#Clasificador SVM\n",
        "svm = Pipeline([('scaler', StandardScaler()), ('svm', SVC(random_state=0))])\n",
        "\n",
        "#Metrica que queremos optimizar: F1 Score\n",
        "scorer_fn = make_scorer(f1_score)\n",
        "\n",
        "#Random Search Cross Validation\n",
        "randomcv = RandomizedSearchCV(estimator=svm, param_distributions=params_grid, cv=kfoldcv, scoring=scorer_fn, n_iter=n, random_state=0)\n",
        "\n",
        "randomcv.fit(x_train, y_train)\n",
        "randomcv.cv_results_['mean_test_score']"
      ]
    },
    {
      "cell_type": "code",
      "execution_count": null,
      "metadata": {
        "id": "dTSJirXvcihT",
        "outputId": "ff99769c-2994-49f5-f289-4c7f6a499545"
      },
      "outputs": [
        {
          "name": "stdout",
          "output_type": "stream",
          "text": [
            "Mejores hiperparámetros del SVM con kernel polinómico: {'svm__kernel': 'poly', 'svm__gamma': 0.1, 'svm__degree': 1, 'svm__coef0': 10, 'svm__C': 0.33334}\n",
            "Mejor F1 Score: 0.8306750900598903\n"
          ]
        }
      ],
      "source": [
        "print(f\"Mejores hiperparámetros del SVM con kernel polinómico: {randomcv.best_params_}\")\n",
        "print(f\"Mejor F1 Score: {randomcv.best_score_}\")"
      ]
    },
    {
      "cell_type": "markdown",
      "metadata": {
        "id": "xmul_DFzcihV"
      },
      "source": [
        "Entrenamos el SVM con kernel polinómico con los hiperparámetros hallados"
      ]
    },
    {
      "cell_type": "code",
      "execution_count": null,
      "metadata": {
        "id": "pzSjXcfZcihX",
        "outputId": "adb0f074-0f52-4b18-8c2a-f36287873901"
      },
      "outputs": [
        {
          "name": "stdout",
          "output_type": "stream",
          "text": [
            "F1 score: 0.8290054799024131\n"
          ]
        }
      ],
      "source": [
        "svm_pol = Pipeline([('scaler', StandardScaler()), ('svm', SVC(random_state=0))])\n",
        "svm_pol.set_params(**randomcv.best_params_)\n",
        "svm_pol.fit(x_train, y_train)\n",
        "\n",
        "y_pred_train_svm_pol = svm_pol.predict(x_val)\n",
        "\n",
        "imprimir_f1_score(y_val, y_pred_train_svm_pol)"
      ]
    },
    {
      "cell_type": "markdown",
      "metadata": {
        "id": "OcbfW15gcihZ"
      },
      "source": [
        "Exportamos el modelo"
      ]
    },
    {
      "cell_type": "code",
      "execution_count": null,
      "metadata": {
        "id": "376GTocRciha"
      },
      "outputs": [],
      "source": [
        "f1_score_en_train = f1_score(y_val, y_pred_train_svm_pol, average='weighted')\n",
        "exportar_svm_polinomico(svm_pol, f1_score_en_train)"
      ]
    },
    {
      "cell_type": "markdown",
      "metadata": {
        "id": "bfXZTybseMui"
      },
      "source": [
        "### **Kernel radial**"
      ]
    },
    {
      "cell_type": "code",
      "execution_count": null,
      "metadata": {
        "id": "homG2Mn4eMuk"
      },
      "outputs": [],
      "source": [
        "##KFOLD CV Random Search para buscar el mejor clasificador SVM con Kernel Radial (los mejores atributos, hiperparámetros, etc)\n",
        "\n",
        "#Numero de iteraciones\n",
        "n=10\n",
        "\n",
        "#Conjunto de parámetros que queremos usar\n",
        "params_grid={ 'svm__kernel': ['rbf'],\n",
        "              'svm__C': np.linspace(1e-05,1,10),\n",
        "              'svm__gamma': ['scale']\n",
        "            }\n",
        "\n",
        "#Cantidad de splits para el Cross Validation\n",
        "folds=5\n",
        "\n",
        "#Kfold estratificado\n",
        "kfoldcv = StratifiedKFold(n_splits=folds)\n",
        "\n",
        "#Clasificador SVM\n",
        "svm = Pipeline([('scaler', StandardScaler()), ('svm', SVC(random_state=0))])\n",
        "\n",
        "#Metrica que queremos optimizar: F1 Score\n",
        "scorer_fn = make_scorer(f1_score)\n",
        "\n",
        "#Random Search Cross Validation\n",
        "randomcv = RandomizedSearchCV(estimator=svm, param_distributions=params_grid, cv=kfoldcv, scoring=scorer_fn, n_iter=n, random_state=0)\n",
        "\n",
        "randomcv.fit(x_train, y_train)\n",
        "randomcv.cv_results_['mean_test_score']"
      ]
    },
    {
      "cell_type": "code",
      "execution_count": null,
      "metadata": {
        "id": "fN8yrKrReMuo",
        "outputId": "5d691f83-14fe-4038-e8c5-aff296ddd0e2"
      },
      "outputs": [
        {
          "name": "stdout",
          "output_type": "stream",
          "text": [
            "Mejores hiperparámetros del SVM con kernel radial: {'svm__kernel': 'rbf', 'svm__gamma': 'scale', 'svm__C': 0.22223}\n",
            "Mejor F1 Score: 0.8022406466866041\n"
          ]
        }
      ],
      "source": [
        "print(f\"Mejores hiperparámetros del SVM con kernel radial: {randomcv.best_params_}\")\n",
        "print(f\"Mejor F1 Score: {randomcv.best_score_}\")"
      ]
    },
    {
      "cell_type": "markdown",
      "metadata": {
        "id": "NUdYFiR7eMuq"
      },
      "source": [
        "Entrenamos el SVM con kernel radial con los hiperparámetros hallados"
      ]
    },
    {
      "cell_type": "code",
      "execution_count": null,
      "metadata": {
        "id": "KFQhPs47eMus",
        "outputId": "322d53ee-61ba-452d-8bc6-91556a539d61"
      },
      "outputs": [
        {
          "name": "stdout",
          "output_type": "stream",
          "text": [
            "F1 score: 0.811744663479319\n"
          ]
        }
      ],
      "source": [
        "svm_rbf = Pipeline([('scaler', StandardScaler()), ('svm', SVC(random_state=0))])\n",
        "svm_rbf.set_params(**randomcv.best_params_)\n",
        "svm_rbf.fit(x_train, y_train)\n",
        "\n",
        "y_pred_train_svm_rbf = svm_rbf.predict(x_val)\n",
        "\n",
        "imprimir_f1_score(y_val, y_pred_train_svm_rbf)"
      ]
    },
    {
      "cell_type": "markdown",
      "metadata": {
        "id": "qBMyf_DteMuu"
      },
      "source": [
        "Exportamos el modelo"
      ]
    },
    {
      "cell_type": "code",
      "execution_count": null,
      "metadata": {
        "id": "5rvCVNwYeMuv"
      },
      "outputs": [],
      "source": [
        "f1_score_en_train = f1_score(y_val, y_pred_train_svm_rbf, average='weighted')\n",
        "exportar_svm_radial(svm_rbf, f1_score_en_train)"
      ]
    },
    {
      "cell_type": "markdown",
      "metadata": {
        "id": "THsEbZmmHF-L"
      },
      "source": [
        "## **c) RF**"
      ]
    },
    {
      "cell_type": "markdown",
      "metadata": {
        "id": "UTupqfKaO00u"
      },
      "source": [
        "Comenzaremos creando un Random Forest por defecto con el objetivo de observar el rendimiento base, y así podemos tener una idea del resultado a mejorar."
      ]
    },
    {
      "cell_type": "code",
      "execution_count": null,
      "metadata": {
        "colab": {
          "base_uri": "https://localhost:8080/"
        },
        "id": "TEujTj9ePX8j",
        "outputId": "d7d5d54d-0a9e-4925-db78-3236466db36b"
      },
      "outputs": [
        {
          "name": "stdout",
          "output_type": "stream",
          "text": [
            "F1 score: 0.8758578910805209\n"
          ]
        }
      ],
      "source": [
        "rf_default = RandomForestClassifier(random_state=0)\n",
        "\n",
        "rf_default.fit(x_train, y_train)\n",
        "\n",
        "y_pred_train = rf_default.predict(x_val)\n",
        "\n",
        "imprimir_f1_score(y_val, y_pred_train)"
      ]
    },
    {
      "cell_type": "markdown",
      "metadata": {
        "id": "C13lQwQyRWeB"
      },
      "source": [
        "Optimizamos sus hiperparámetros mediante K-Fold\n",
        "Cross Validation."
      ]
    },
    {
      "cell_type": "code",
      "execution_count": null,
      "metadata": {
        "colab": {
          "base_uri": "https://localhost:8080/"
        },
        "id": "xkPNDthyRWeF",
        "outputId": "b96a2065-f684-4629-aae6-9c838aeba197"
      },
      "outputs": [
        {
          "data": {
            "text/plain": [
              "array([0.87847376, 0.87295607, 0.87819403, 0.87897501, 0.87865157,\n",
              "       0.87783046, 0.8786439 , 0.87209795, 0.87326469, 0.87833975])"
            ]
          },
          "execution_count": 71,
          "metadata": {},
          "output_type": "execute_result"
        }
      ],
      "source": [
        "##KFOLD CV Random Search para buscar el mejor clasificador RF (los mejores atributos, hiperparámetros, etc)\n",
        "\n",
        "#Numero de iteraciones\n",
        "n=10\n",
        "\n",
        "#Conjunto de parámetros que queremos usar\n",
        "params_grid = { \"criterion\": [\"gini\", \"entropy\"], \n",
        "                \"n_estimators\": list(range(100, 201, 10)),\n",
        "                \"max_features\": [\"sqrt\", \"log2\"]\n",
        "              }\n",
        "\n",
        "#Cantidad de splits para el Cross Validation\n",
        "folds=5\n",
        "\n",
        "#Kfold estratificado\n",
        "kfoldcv = StratifiedKFold(n_splits=folds)\n",
        "\n",
        "#Clasificador RF\n",
        "rf = RandomForestClassifier(random_state=0)\n",
        "\n",
        "#Metrica que queremos optimizar: F1 Score\n",
        "scorer_fn = make_scorer(f1_score)\n",
        "\n",
        "#Random Search Cross Validation\n",
        "randomcv = RandomizedSearchCV(estimator=rf, param_distributions=params_grid, cv=kfoldcv, scoring=scorer_fn, n_iter=n, random_state=0)\n",
        "\n",
        "randomcv.fit(x_train, y_train)\n",
        "randomcv.cv_results_['mean_test_score']"
      ]
    },
    {
      "cell_type": "code",
      "execution_count": null,
      "metadata": {
        "colab": {
          "base_uri": "https://localhost:8080/"
        },
        "id": "acUukp9SRWeG",
        "outputId": "8422fc72-3aeb-4867-d6f3-95a61429f4d0"
      },
      "outputs": [
        {
          "name": "stdout",
          "output_type": "stream",
          "text": [
            "Mejores hiperparámetros del RF: {'n_estimators': 140, 'max_features': 'sqrt', 'criterion': 'gini'}\n",
            "Mejor F1 Score: 0.878975011675325\n"
          ]
        }
      ],
      "source": [
        "print(f\"Mejores hiperparámetros del RF: {randomcv.best_params_}\")\n",
        "print(f\"Mejor F1 Score: {randomcv.best_score_}\")"
      ]
    },
    {
      "cell_type": "markdown",
      "metadata": {
        "id": "QSOYx4lPRWeG"
      },
      "source": [
        "Entrenamos el RF con los hiperparámetros hallados"
      ]
    },
    {
      "cell_type": "code",
      "execution_count": null,
      "metadata": {
        "colab": {
          "base_uri": "https://localhost:8080/"
        },
        "id": "QohIGlQ3RWeG",
        "outputId": "7b9aa574-6c62-4d82-bf72-35676cfbce45"
      },
      "outputs": [
        {
          "name": "stdout",
          "output_type": "stream",
          "text": [
            "F1 score: 0.8785264027146248\n"
          ]
        }
      ],
      "source": [
        "rf = RandomForestClassifier(**randomcv.best_params_, random_state=0)\n",
        "rf.fit(x_train, y_train)\n",
        "\n",
        "y_pred_train_rf = rf.predict(x_val)\n",
        "\n",
        "imprimir_f1_score(y_val, y_pred_train_rf)"
      ]
    },
    {
      "cell_type": "markdown",
      "metadata": {
        "id": "8gi6dLRvRWeG"
      },
      "source": [
        "Exportamos el modelo"
      ]
    },
    {
      "cell_type": "code",
      "execution_count": null,
      "metadata": {
        "id": "YZzyokneRWeG"
      },
      "outputs": [],
      "source": [
        "f1_score_en_train = f1_score(y_val, y_pred_train_rf, average='weighted')\n",
        "exportar_rf(rf, f1_score_en_train)"
      ]
    },
    {
      "cell_type": "markdown",
      "metadata": {
        "id": "b2DRTLn9HGDl"
      },
      "source": [
        "## **d) XGBoost**"
      ]
    },
    {
      "cell_type": "markdown",
      "metadata": {
        "id": "xG1lRiSh15Dj"
      },
      "source": [
        "Comenzaremos creando un XGBoost por defecto con el objetivo de observar el rendimiento base, y así podemos tener una idea del resultado a mejorar."
      ]
    },
    {
      "cell_type": "code",
      "execution_count": null,
      "metadata": {
        "colab": {
          "base_uri": "https://localhost:8080/"
        },
        "id": "8D435vWu15Dj",
        "outputId": "7e03716a-c0d3-48ce-eb5b-fcee78b57112"
      },
      "outputs": [
        {
          "name": "stdout",
          "output_type": "stream",
          "text": [
            "F1 score: 0.8704606678328191\n"
          ]
        }
      ],
      "source": [
        "xgb_default = XGBClassifier(objective=\"binary:logistic\", random_state=0)\n",
        "\n",
        "xgb_default.fit(x_train, y_train)\n",
        "\n",
        "y_pred_train = xgb_default.predict(x_val)\n",
        "\n",
        "imprimir_f1_score(y_val, y_pred_train)"
      ]
    },
    {
      "cell_type": "markdown",
      "metadata": {
        "id": "NUHK8Vw-15Dk"
      },
      "source": [
        "Optimizamos sus hiperparámetros mediante K-Fold\n",
        "Cross Validation."
      ]
    },
    {
      "cell_type": "code",
      "execution_count": null,
      "metadata": {
        "id": "DGeUvKls15Dk"
      },
      "outputs": [],
      "source": [
        "##KFOLD CV Random Search para buscar el mejor clasificador XGBoost (los mejores atributos, hiperparámetros, etc)\n",
        "\n",
        "#Numero de iteraciones\n",
        "n=10\n",
        "\n",
        "#Conjunto de parámetros que queremos usar\n",
        "params_grid = { \"n_estimators\": list(range(100, 201, 10)),\n",
        "                \"max_depth\": list(range(5,25)),\n",
        "                \"learning_rate\": np.linspace(0,0.5,6),\n",
        "                \"gamma\": np.linspace(0,1,11),\n",
        "                \"reg_alpha\": np.linspace(0,1,11),\n",
        "                \"reg_lambda\": np.linspace(0,1,11),\n",
        "              }\n",
        "\n",
        "#Cantidad de splits para el Cross Validation\n",
        "folds=5\n",
        "\n",
        "#Kfold estratificado\n",
        "kfoldcv = StratifiedKFold(n_splits=folds)\n",
        "\n",
        "#Clasificador XGBoost\n",
        "xgb = XGBClassifier(objective=\"binary:logistic\", random_state=0)\n",
        "\n",
        "#Metrica que queremos optimizar: F1 Score\n",
        "scorer_fn = make_scorer(f1_score)\n",
        "\n",
        "#Random Search Cross Validation\n",
        "randomcv = RandomizedSearchCV(estimator=xgb, param_distributions=params_grid, cv=kfoldcv, scoring=scorer_fn, n_iter=n, random_state=0)\n",
        "\n",
        "randomcv.fit(x_train, y_train)\n",
        "randomcv.cv_results_['mean_test_score']"
      ]
    },
    {
      "cell_type": "code",
      "execution_count": null,
      "metadata": {
        "colab": {
          "base_uri": "https://localhost:8080/"
        },
        "id": "I0qqBfPZ15Dk",
        "outputId": "e2def168-922a-4311-ce4e-7d8b4c677ddb"
      },
      "outputs": [
        {
          "name": "stdout",
          "output_type": "stream",
          "text": [
            "Mejores hiperparámetros del XGBoost: {'reg_lambda': 1.0, 'reg_alpha': 0.5, 'n_estimators': 170, 'max_depth': 6, 'learning_rate': 0.2, 'gamma': 0.6000000000000001}\n",
            "Mejor F1 Score: 0.8736101316122374\n"
          ]
        }
      ],
      "source": [
        "print(f\"Mejores hiperparámetros del XGBoost: {randomcv.best_params_}\")\n",
        "print(f\"Mejor F1 Score: {randomcv.best_score_}\")"
      ]
    },
    {
      "cell_type": "markdown",
      "metadata": {
        "id": "jb7yOOvC15Dk"
      },
      "source": [
        "Entrenamos el XGBoost con los hiperparámetros hallados"
      ]
    },
    {
      "cell_type": "code",
      "execution_count": null,
      "metadata": {
        "colab": {
          "base_uri": "https://localhost:8080/"
        },
        "id": "-4SBol9j15Dk",
        "outputId": "2881d1cd-8f2a-4126-c1b5-f72e3c6c7039"
      },
      "outputs": [
        {
          "name": "stdout",
          "output_type": "stream",
          "text": [
            "F1 score: 0.8706184197742796\n"
          ]
        }
      ],
      "source": [
        "xgb = XGBClassifier(**randomcv.best_params_, random_state=0)\n",
        "xgb.fit(x_train, y_train)\n",
        "\n",
        "y_pred_train_xgb = xgb.predict(x_val)\n",
        "\n",
        "imprimir_f1_score(y_val, y_pred_train_xgb)"
      ]
    },
    {
      "cell_type": "markdown",
      "metadata": {
        "id": "5IyLuyQX15Dk"
      },
      "source": [
        "Exportamos el modelo"
      ]
    },
    {
      "cell_type": "code",
      "execution_count": null,
      "metadata": {
        "id": "xv2DxD_s15Dk"
      },
      "outputs": [],
      "source": [
        "f1_score_en_train = f1_score(y_val, y_pred_train_xgb, average='weighted')\n",
        "exportar_xgb(xgb, f1_score_en_train)"
      ]
    },
    {
      "cell_type": "markdown",
      "metadata": {
        "id": "15u14ySW4gBU"
      },
      "source": [
        "## Importamos los modelos con mejor performance (de acuerdo a la validación) encontrados con Cross Validation para llevar a cabo lo restante."
      ]
    },
    {
      "cell_type": "markdown",
      "metadata": {
        "id": "iz4ztQzj4gBU"
      },
      "source": [
        "Descargamos la carpeta almacenada en Google Drive que contiene todos los modelos hallados."
      ]
    },
    {
      "cell_type": "code",
      "source": [
        "import gdown\n",
        "\n",
        "url = \"https://drive.google.com/drive/folders/1wn876H-OEszxNcF2JyEDG3hz1k7UyRLc?usp=share_link\"\n",
        "gdown.download_folder(url, quiet=True, use_cookies=False)"
      ],
      "metadata": {
        "id": "NNPqpAhu5R61"
      },
      "execution_count": null,
      "outputs": []
    },
    {
      "cell_type": "code",
      "execution_count": 37,
      "metadata": {
        "id": "ikcxzs3g4gBU"
      },
      "outputs": [],
      "source": [
        "ruta_a_knn = '/content/Modelos y Predicciones/KNN/KNN-nn_17-w_distance-algo_ball_tree-met_manhattan-f1_0.7812/KNN-nn_17-w_distance-algo_ball_tree-met_manhattan-f1_0.7812.joblib'\n",
        "knn = joblib.load(ruta_a_knn)\n",
        "\n",
        "ruta_a_svm_lin = '/content/Modelos y Predicciones/SVM/SVM_lin-ker_linear-C_0.2222-f1_0.8292/SVM_lin-ker_linear-C_0.2222-f1_0.8292.joblib'\n",
        "svm_lin = joblib.load(ruta_a_svm_lin)\n",
        "\n",
        "ruta_a_svm_pol = '/content/Modelos y Predicciones/SVM/SVM_pol-ker_poly-C_0.3333-gam_0.1-deg_1-coef_10-f1_0.829/SVM_pol-ker_poly-C_0.3333-gam_0.1-deg_1-coef_10-f1_0.829.joblib'\n",
        "svm_pol = joblib.load(ruta_a_svm_pol)\n",
        "\n",
        "ruta_a_svm_rbf = '/content/Modelos y Predicciones/SVM/SVM_rbf-ker_rbf-C_1.0-gam_scale-f1_0.8302/SVM_rbf-ker_rbf-C_1.0-gam_scale-f1_0.8302.joblib'\n",
        "svm_rbf = joblib.load(ruta_a_svm_rbf)\n",
        "\n",
        "ruta_a_rf = '/content/Modelos y Predicciones/RF/RF-crit_gini-n_estim_140-max_f_sqrt-f1_0.8785/RF-crit_gini-n_estim_140-max_f_sqrt-f1_0.8785.joblib'\n",
        "rf = joblib.load(ruta_a_rf)\n",
        "\n",
        "ruta_a_xgb = '/content/Modelos y Predicciones/XGBoost/XGB-n_estim_180-max_d_24-lr_0.1-gam_0.1-alp_0.8-lam_1.0-f1_0.8819/XGB-n_estim_180-max_d_24-lr_0.1-gam_0.1-alp_0.8-lam_1.0-f1_0.8819.joblib'\n",
        "xgb = joblib.load(ruta_a_xgb)"
      ]
    },
    {
      "cell_type": "markdown",
      "metadata": {
        "id": "DIJMlWO6HGHC"
      },
      "source": [
        "## **e) Voting y Stacking**"
      ]
    },
    {
      "cell_type": "markdown",
      "source": [
        "Para los ensambles híbridos de tipo Voting y Stacking, utilizaremos como estimadores únicamente los RandomForest y XGBoost obtenidos por ser los tipos de modelo que obtuvieron un rendimiento significativamente más alto que los demás."
      ],
      "metadata": {
        "id": "Rj_Rxy4uEmLI"
      }
    },
    {
      "cell_type": "code",
      "source": [
        "ruta_a_rf1 = '/content/Modelos y Predicciones/RF/RF-crit_gini-n_estim_140-max_f_sqrt-f1_0.8785/RF-crit_gini-n_estim_140-max_f_sqrt-f1_0.8785.joblib'\n",
        "rf1 = joblib.load(ruta_a_rf1)\n",
        "\n",
        "ruta_a_rf2 = '/content/Modelos y Predicciones/RF/RF-crit_gini-n_estim_160-f1_0.8776/RF-crit_gini-n_estim_160-f1_0.8776.joblib'\n",
        "rf2 = joblib.load(ruta_a_rf2)\n",
        "\n",
        "ruta_a_xgb1 = '/content/Modelos y Predicciones/XGBoost/XGB-n_estim_180-max_d_24-lr_0.1-gam_0.1-alp_0.8-lam_1.0-f1_0.8819/XGB-n_estim_180-max_d_24-lr_0.1-gam_0.1-alp_0.8-lam_1.0-f1_0.8819.joblib'\n",
        "xgb1 = joblib.load(ruta_a_xgb1)\n",
        "\n",
        "ruta_a_xgb2 = '/content/Modelos y Predicciones/XGBoost/XGBoost-n_estim_180-max_d_19-lr_0.1-gam_0.9-alp_0.4-lam_0.7-f1_0.8812/XGB-n_estim_180-max_d_19-lr_0.1-gam_0.9-alp_0.4-lam_0.7-f1_0.8812.joblib'\n",
        "xgb2 = joblib.load(ruta_a_xgb2)\n",
        "\n",
        "ruta_a_xgb3 = '/content/Modelos y Predicciones/XGBoost/XGBoost-n_estim_180-max_d_10-lr_0.2-gam_0.1-alp_0.4-lam_0.2-f1_0.881/XGB-n_estim_180-max_d_10-lr_0.2-gam_0.1-alp_0.4-lam_0.2-f1_0.881.joblib'\n",
        "xgb3 = joblib.load(ruta_a_xgb3)\n",
        "\n",
        "ruta_a_xgb4 = '/content/Modelos y Predicciones/XGBoost/XGB-n_estim_140-max_d_20-lr_0.1-gam_0.3-alp_0.8-lam_0.9-f1_0.8802/XGB-n_estim_140-max_d_20-lr_0.1-gam_0.3-alp_0.8-lam_0.9-f1_0.8802.joblib'\n",
        "xgb4 = joblib.load(ruta_a_xgb4)\n",
        "\n",
        "ruta_a_xgb5 = '/content/Modelos y Predicciones/XGBoost/XGBoost-n_estim_170-max_d_6-lr_0.2-gam_0.6-alp_0.5-lam_1.0-f1_0.8706/XGB-n_estim_170-max_d_6-lr_0.2-gam_0.6-alp_0.5-lam_1.0-f1_0.8706.joblib'\n",
        "xgb5 = joblib.load(ruta_a_xgb5)"
      ],
      "metadata": {
        "id": "1DOefLwgFnN6"
      },
      "execution_count": null,
      "outputs": []
    },
    {
      "cell_type": "markdown",
      "source": [
        "Haremos Cross Validation para la optimización de los hiperparámetros de ambos ensambles híbridos. La cantidad de estimadores que utilizaremos para cada uno es 3, por lo que haremos todas las combinaciones posibles de a 3 de los 7 modelos importados (35 combinaciones en total)."
      ],
      "metadata": {
        "id": "J-kc4aOYHZqd"
      }
    },
    {
      "cell_type": "code",
      "source": [
        "from itertools import combinations"
      ],
      "metadata": {
        "id": "Z8lmGSQcIIx-"
      },
      "execution_count": null,
      "outputs": []
    },
    {
      "cell_type": "code",
      "source": [
        "total_estimators = [('rf1', rf1),('rf2', rf2),('xgb1', xgb1),('xgb2', xgb2),('xgb3', xgb3),('xgb4', xgb4),('xgb5', xgb5)]\n",
        "cant_de_estimadores = 3\n",
        "\n",
        "estimators = list(combinations(total_estimators, cant_de_estimadores))\n",
        "estimators = [list(e) for e in estimators]"
      ],
      "metadata": {
        "id": "bi7aRfPaH4_g"
      },
      "execution_count": null,
      "outputs": []
    },
    {
      "cell_type": "markdown",
      "metadata": {
        "id": "S7WvMJQO4gBU"
      },
      "source": [
        "### Voting"
      ]
    },
    {
      "cell_type": "markdown",
      "source": [
        "Optimizamos sus hiperparámetros mediante K-Fold\n",
        "Cross Validation."
      ],
      "metadata": {
        "id": "xdg4oCD50gq1"
      }
    },
    {
      "cell_type": "code",
      "execution_count": null,
      "metadata": {
        "id": "jwokZjRPKDPH"
      },
      "outputs": [],
      "source": [
        "##KFOLD CV Random Search para buscar el mejor clasificador VotingClassifier (los mejores atributos, hiperparámetros, etc)\n",
        "\n",
        "#Numero de iteraciones\n",
        "n=10\n",
        "\n",
        "#Conjunto de parámetros que queremos usar\n",
        "params_grid = { \"estimators\": estimators,\n",
        "                \"voting\": ['hard', 'soft']\n",
        "              }\n",
        "\n",
        "#Cantidad de splits para el Cross Validation\n",
        "folds=5\n",
        "\n",
        "#Kfold estratificado\n",
        "kfoldcv = StratifiedKFold(n_splits=folds)\n",
        "\n",
        "#Clasificador VotingClassifier\n",
        "voting_clf = VotingClassifier(estimators=[])\n",
        "\n",
        "#Metrica que queremos optimizar: F1 Score\n",
        "scorer_fn = make_scorer(f1_score)\n",
        "\n",
        "#Random Search Cross Validation\n",
        "randomcv = RandomizedSearchCV(estimator=voting_clf, param_distributions=params_grid, cv=kfoldcv, scoring=scorer_fn, n_iter=n, random_state=0)\n",
        "\n",
        "randomcv.fit(x_train, y_train)\n",
        "randomcv.cv_results_['mean_test_score']"
      ]
    },
    {
      "cell_type": "code",
      "execution_count": null,
      "metadata": {
        "id": "CaGAAZjmMiE2"
      },
      "outputs": [],
      "source": [
        "print(f\"Mejores hiperparámetros del voting_clf: {randomcv.best_params_}\")\n",
        "print(f\"Mejor F1 Score: {randomcv.best_score_}\")"
      ]
    },
    {
      "cell_type": "markdown",
      "metadata": {
        "id": "uUsrb4b3MiE2"
      },
      "source": [
        "Entrenamos el Voting con los hiperparámetros hallados"
      ]
    },
    {
      "cell_type": "code",
      "execution_count": null,
      "metadata": {
        "id": "1Fe1JRHVMiE3"
      },
      "outputs": [],
      "source": [
        "voting_clf = VotingClassifier(**randomcv.best_params_)\n",
        "voting_clf.fit(x_train, y_train)\n",
        "\n",
        "y_pred_train_voting = voting_clf.predict(x_val)\n",
        "\n",
        "imprimir_f1_score(y_val, y_pred_train_voting)"
      ]
    },
    {
      "cell_type": "markdown",
      "metadata": {
        "id": "LdJW687b4gBV"
      },
      "source": [
        "Exportamos el modelo"
      ]
    },
    {
      "cell_type": "code",
      "execution_count": null,
      "metadata": {
        "id": "FcMPlhqt4gBV"
      },
      "outputs": [],
      "source": [
        "f1_score_en_train = f1_score(y_val, y_pred_train_voting, average='weighted')\n",
        "exportar_voting(voting_clf, f1_score_en_train)"
      ]
    },
    {
      "cell_type": "markdown",
      "metadata": {
        "id": "IdRw7zos4gBV"
      },
      "source": [
        "### Stacking"
      ]
    },
    {
      "cell_type": "markdown",
      "source": [
        "Optimizamos sus hiperparámetros mediante K-Fold\n",
        "Cross Validation."
      ],
      "metadata": {
        "id": "mHKteEO20kLN"
      }
    },
    {
      "cell_type": "code",
      "source": [
        "##KFOLD CV Random Search para buscar el mejor clasificador StackingClassifier (los mejores atributos, hiperparámetros, etc)\n",
        "\n",
        "#Numero de iteraciones\n",
        "n=10\n",
        "\n",
        "#Conjunto de parámetros que queremos usar\n",
        "params_grid = { \"estimators\": estimators }\n",
        "\n",
        "#Cantidad de splits para el Cross Validation\n",
        "folds=5\n",
        "\n",
        "#Kfold estratificado\n",
        "kfoldcv = StratifiedKFold(n_splits=folds)\n",
        "\n",
        "#Clasificador StackingClassifier\n",
        "stacking_clf = StackingClassifier(estimators=[], final_estimator=XGBClassifier(objective=\"binary:logistic\", random_state=0))\n",
        "\n",
        "#Metrica que queremos optimizar: F1 Score\n",
        "scorer_fn = make_scorer(f1_score)\n",
        "\n",
        "#Random Search Cross Validation\n",
        "randomcv = RandomizedSearchCV(estimator=stacking_clf, param_distributions=params_grid, cv=kfoldcv, scoring=scorer_fn, n_iter=n, random_state=0)\n",
        "\n",
        "randomcv.fit(x_train, y_train)\n",
        "randomcv.cv_results_['mean_test_score']"
      ],
      "metadata": {
        "id": "bCfiIqf0Ndtb"
      },
      "execution_count": null,
      "outputs": []
    },
    {
      "cell_type": "code",
      "source": [
        "print(f\"Mejores hiperparámetros del stacking_clf: {randomcv.best_params_}\")\n",
        "print(f\"Mejor F1 Score: {randomcv.best_score_}\")"
      ],
      "metadata": {
        "id": "ZUxa1OssNqIk"
      },
      "execution_count": null,
      "outputs": []
    },
    {
      "cell_type": "markdown",
      "metadata": {
        "id": "IkjkNaUHNu86"
      },
      "source": [
        "Entrenamos el Stacking con los hiperparámetros hallados"
      ]
    },
    {
      "cell_type": "code",
      "execution_count": null,
      "metadata": {
        "id": "lZ0k43CnNu86"
      },
      "outputs": [],
      "source": [
        "stacking_clf = StackingClassifier(**randomcv.best_params_)\n",
        "stacking_clf.fit(x_train, y_train)\n",
        "\n",
        "y_pred_train_stacking = stacking_clf.predict(x_val)\n",
        "\n",
        "imprimir_f1_score(y_val, y_pred_train_stacking)"
      ]
    },
    {
      "cell_type": "markdown",
      "metadata": {
        "id": "FsNZ8st8Nu87"
      },
      "source": [
        "Exportamos el modelo"
      ]
    },
    {
      "cell_type": "code",
      "execution_count": null,
      "metadata": {
        "id": "m3U-9-DHNu87"
      },
      "outputs": [],
      "source": [
        "f1_score_en_train = f1_score(y_val, y_pred_train_stacking, average='weighted')\n",
        "exportar_stacking(stacking_clf, f1_score_en_train)"
      ]
    },
    {
      "cell_type": "markdown",
      "metadata": {
        "id": "mAl-wXiGHGJv"
      },
      "source": [
        "## **f) Evaluación de la performance de los modelos en entrenamiento y validación, explicación de todas las métricas, matriz de confusión**"
      ]
    },
    {
      "cell_type": "markdown",
      "source": [
        "Importamos los mejores Voting y Stacking hallados"
      ],
      "metadata": {
        "id": "vSecxfQ7JxJJ"
      }
    },
    {
      "cell_type": "code",
      "source": [
        "ruta_a_voting_clf = '/content/Modelos y Predicciones/Voting/voting_clf-estimators_xgb1_xgb2_xgb3-voting_soft-f1_0.8861/voting_clf-estimators_xgb1_xgb2_xgb3-voting_soft-f1_0.8861.joblib'\n",
        "voting_clf = joblib.load(ruta_a_voting_clf)\n",
        "\n",
        "ruta_a_stacking_clf = '/content/Modelos y Predicciones/Stacking/stacking_clf-estimators_xgb1_xgb3_xgb5-f_estim_XGBoost-f1_0.8852/stacking_clf-estimators_xgb1_xgb3_xgb5-f_estim_XGBoost-f1_0.8852.joblib'\n",
        "stacking_clf = joblib.load(ruta_a_stacking_clf)"
      ],
      "metadata": {
        "id": "fuaR2uwpJ4z_"
      },
      "execution_count": 39,
      "outputs": []
    },
    {
      "cell_type": "markdown",
      "metadata": {
        "id": "1cOWnqqEHxIX"
      },
      "source": [
        "A continuación, realizamos las matrices de confusión para el mejor modelo hallado de cada tipo (según el F1 Score obtenido en entrenamiento y validación).\n",
        "\n",
        "Observamos que el modelo que mejor rinde es el ensamble híbrido de tipo Voting.\n",
        "\n",
        "Cabe destacar que se eligió F1 Score como métrica para la optimización de los hiperparámetros de los distintos modelos, y como esperábamos, en todos ellos la precisión y el recall toman valores similares."
      ]
    },
    {
      "cell_type": "markdown",
      "metadata": {
        "id": "ipqMzdtu8_AD"
      },
      "source": [
        "### KNN"
      ]
    },
    {
      "cell_type": "code",
      "execution_count": null,
      "metadata": {
        "colab": {
          "base_uri": "https://localhost:8080/",
          "height": 608
        },
        "id": "IPEEDsMQRDGb",
        "outputId": "42f069f9-bb4b-43ce-d227-15b910e3cd71"
      },
      "outputs": [
        {
          "output_type": "stream",
          "name": "stdout",
          "text": [
            "              precision    recall  f1-score   support\n",
            "\n",
            "           0     0.8006    0.7498    0.7744      6195\n",
            "           1     0.7645    0.8130    0.7880      6188\n",
            "\n",
            "    accuracy                         0.7814     12383\n",
            "   macro avg     0.7825    0.7814    0.7812     12383\n",
            "weighted avg     0.7825    0.7814    0.7812     12383\n",
            "\n"
          ]
        },
        {
          "output_type": "display_data",
          "data": {
            "text/plain": [
              "<Figure size 640x480 with 2 Axes>"
            ],
            "image/png": "[encoded data removed]"
          },
          "metadata": {}
        }
      ],
      "source": [
        "y_pred_train_knn = knn.predict(x_val)\n",
        "print(classification_report(y_val, y_pred_train_knn, digits=4))\n",
        "grafico_matriz_confusion(y_val, y_pred_train_knn)"
      ]
    },
    {
      "cell_type": "markdown",
      "metadata": {
        "id": "WE6Kuh72xFAZ"
      },
      "source": [
        "### SVM"
      ]
    },
    {
      "cell_type": "markdown",
      "metadata": {
        "id": "DFPn5cmR4gBV"
      },
      "source": [
        "#### Lineal"
      ]
    },
    {
      "cell_type": "code",
      "execution_count": null,
      "metadata": {
        "id": "YapyBTiS4gBV",
        "outputId": "2ab262ce-fad1-4255-9084-c67bc2c9af34",
        "colab": {
          "base_uri": "https://localhost:8080/",
          "height": 605
        }
      },
      "outputs": [
        {
          "output_type": "stream",
          "name": "stdout",
          "text": [
            "              precision    recall  f1-score   support\n",
            "\n",
            "           0     0.8385    0.8157    0.8269      6195\n",
            "           1     0.8204    0.8428    0.8314      6188\n",
            "\n",
            "    accuracy                         0.8292     12383\n",
            "   macro avg     0.8294    0.8292    0.8292     12383\n",
            "weighted avg     0.8294    0.8292    0.8292     12383\n",
            "\n"
          ]
        },
        {
          "output_type": "display_data",
          "data": {
            "text/plain": [
              "<Figure size 640x480 with 2 Axes>"
            ],
            "image/png": "[encoded data removed]"
          },
          "metadata": {}
        }
      ],
      "source": [
        "y_pred_train_svm_lin = svm_lin.predict(x_val)\n",
        "print(classification_report(y_val, y_pred_train_svm_lin, digits=4))\n",
        "grafico_matriz_confusion(y_val, y_pred_train_svm_lin)"
      ]
    },
    {
      "cell_type": "markdown",
      "metadata": {
        "id": "4FEseTq84gBW"
      },
      "source": [
        "#### Polinómico"
      ]
    },
    {
      "cell_type": "code",
      "execution_count": null,
      "metadata": {
        "id": "vIGvIAHd4gBW",
        "outputId": "cb99214e-aa17-4087-a0e2-f4f797db5118",
        "colab": {
          "base_uri": "https://localhost:8080/",
          "height": 605
        }
      },
      "outputs": [
        {
          "output_type": "stream",
          "name": "stdout",
          "text": [
            "              precision    recall  f1-score   support\n",
            "\n",
            "           0     0.8389    0.8147    0.8266      6195\n",
            "           1     0.8197    0.8434    0.8314      6188\n",
            "\n",
            "    accuracy                         0.8290     12383\n",
            "   macro avg     0.8293    0.8290    0.8290     12383\n",
            "weighted avg     0.8293    0.8290    0.8290     12383\n",
            "\n"
          ]
        },
        {
          "output_type": "display_data",
          "data": {
            "text/plain": [
              "<Figure size 640x480 with 2 Axes>"
            ],
            "image/png": "[encoded data removed]"
          },
          "metadata": {}
        }
      ],
      "source": [
        "y_pred_train_svm_pol = svm_pol.predict(x_val)\n",
        "print(classification_report(y_val, y_pred_train_svm_pol, digits=4))\n",
        "grafico_matriz_confusion(y_val, y_pred_train_svm_pol)"
      ]
    },
    {
      "cell_type": "markdown",
      "metadata": {
        "id": "QEi-0w9P4gBW"
      },
      "source": [
        "#### Radial"
      ]
    },
    {
      "cell_type": "code",
      "execution_count": null,
      "metadata": {
        "id": "g1-lReBR4gBW",
        "outputId": "8daca946-07cd-4a25-80ec-0918ef13de14",
        "colab": {
          "base_uri": "https://localhost:8080/",
          "height": 605
        }
      },
      "outputs": [
        {
          "output_type": "stream",
          "name": "stdout",
          "text": [
            "              precision    recall  f1-score   support\n",
            "\n",
            "           0     0.8311    0.8291    0.8301      6195\n",
            "           1     0.8293    0.8313    0.8303      6188\n",
            "\n",
            "    accuracy                         0.8302     12383\n",
            "   macro avg     0.8302    0.8302    0.8302     12383\n",
            "weighted avg     0.8302    0.8302    0.8302     12383\n",
            "\n"
          ]
        },
        {
          "output_type": "display_data",
          "data": {
            "text/plain": [
              "<Figure size 640x480 with 2 Axes>"
            ],
            "image/png": "[encoded data removed]"
          },
          "metadata": {}
        }
      ],
      "source": [
        "y_pred_train_svm_rbf = svm_rbf.predict(x_val)\n",
        "print(classification_report(y_val, y_pred_train_svm_rbf, digits=4))\n",
        "grafico_matriz_confusion(y_val, y_pred_train_svm_rbf)"
      ]
    },
    {
      "cell_type": "markdown",
      "metadata": {
        "id": "_g6Qw9h9xG0X"
      },
      "source": [
        "### RF"
      ]
    },
    {
      "cell_type": "code",
      "execution_count": null,
      "metadata": {
        "colab": {
          "base_uri": "https://localhost:8080/",
          "height": 605
        },
        "id": "lEGhzUh3bRQ8",
        "outputId": "6fb62e8b-8ebf-4978-e950-8ea3ec4358f6"
      },
      "outputs": [
        {
          "output_type": "stream",
          "name": "stdout",
          "text": [
            "              precision    recall  f1-score   support\n",
            "\n",
            "           0     0.8701    0.8901    0.8800      6195\n",
            "           1     0.8874    0.8670    0.8771      6188\n",
            "\n",
            "    accuracy                         0.8785     12383\n",
            "   macro avg     0.8787    0.8785    0.8785     12383\n",
            "weighted avg     0.8787    0.8785    0.8785     12383\n",
            "\n"
          ]
        },
        {
          "output_type": "display_data",
          "data": {
            "text/plain": [
              "<Figure size 640x480 with 2 Axes>"
            ],
            "image/png": "[encoded data removed]"
          },
          "metadata": {}
        }
      ],
      "source": [
        "y_pred_train_rf = rf.predict(x_val)\n",
        "print(classification_report(y_val, y_pred_train_rf, digits=4))\n",
        "grafico_matriz_confusion(y_val, y_pred_train_rf)"
      ]
    },
    {
      "cell_type": "markdown",
      "metadata": {
        "id": "OL6Lml2cxJUb"
      },
      "source": [
        "### XGBoost"
      ]
    },
    {
      "cell_type": "code",
      "execution_count": null,
      "metadata": {
        "colab": {
          "base_uri": "https://localhost:8080/",
          "height": 605
        },
        "id": "-spujQdZHxIW",
        "outputId": "ad969d6c-b03d-4e41-f2a4-46e7b639bb58"
      },
      "outputs": [
        {
          "output_type": "stream",
          "name": "stdout",
          "text": [
            "              precision    recall  f1-score   support\n",
            "\n",
            "           0     0.8862    0.8765    0.8814      6195\n",
            "           1     0.8777    0.8874    0.8825      6188\n",
            "\n",
            "    accuracy                         0.8819     12383\n",
            "   macro avg     0.8820    0.8819    0.8819     12383\n",
            "weighted avg     0.8820    0.8819    0.8819     12383\n",
            "\n"
          ]
        },
        {
          "output_type": "display_data",
          "data": {
            "text/plain": [
              "<Figure size 640x480 with 2 Axes>"
            ],
            "image/png": "[encoded data removed]"
          },
          "metadata": {}
        }
      ],
      "source": [
        "y_pred_train_xgb = xgb.predict(x_val)\n",
        "print(classification_report(y_val, y_pred_train_xgb, digits=4))\n",
        "grafico_matriz_confusion(y_val, y_pred_train_xgb)"
      ]
    },
    {
      "cell_type": "markdown",
      "metadata": {
        "id": "Vh3IFkJqxLq0"
      },
      "source": [
        "### Voting"
      ]
    },
    {
      "cell_type": "code",
      "source": [
        "y_pred_train_voting = voting_clf.predict(x_val)\n",
        "print(classification_report(y_val, y_pred_train_voting, digits=4))\n",
        "grafico_matriz_confusion(y_val, y_pred_train_voting)"
      ],
      "metadata": {
        "colab": {
          "base_uri": "https://localhost:8080/",
          "height": 605
        },
        "id": "pkTsScy8BNce",
        "outputId": "0a0fe30e-9101-4b30-d212-333f67b63c2e"
      },
      "execution_count": null,
      "outputs": [
        {
          "output_type": "stream",
          "name": "stdout",
          "text": [
            "              precision    recall  f1-score   support\n",
            "\n",
            "           0     0.8923    0.8785    0.8853      6195\n",
            "           1     0.8802    0.8938    0.8869      6188\n",
            "\n",
            "    accuracy                         0.8861     12383\n",
            "   macro avg     0.8862    0.8861    0.8861     12383\n",
            "weighted avg     0.8862    0.8861    0.8861     12383\n",
            "\n"
          ]
        },
        {
          "output_type": "display_data",
          "data": {
            "text/plain": [
              "<Figure size 640x480 with 2 Axes>"
            ],
            "image/png": "[encoded data removed]"
          },
          "metadata": {}
        }
      ]
    },
    {
      "cell_type": "markdown",
      "metadata": {
        "id": "FJdFmj6vxNlj"
      },
      "source": [
        "### Stacking"
      ]
    },
    {
      "cell_type": "code",
      "source": [
        "y_pred_train_stacking = stacking_clf.predict(x_val)\n",
        "print(classification_report(y_val, y_pred_train_stacking, digits=4))\n",
        "grafico_matriz_confusion(y_val, y_pred_train_stacking)"
      ],
      "metadata": {
        "colab": {
          "base_uri": "https://localhost:8080/",
          "height": 605
        },
        "id": "PurLWjqWBYKj",
        "outputId": "fd469bfd-cd6a-4472-a400-83b7f16d6068"
      },
      "execution_count": null,
      "outputs": [
        {
          "output_type": "stream",
          "name": "stdout",
          "text": [
            "              precision    recall  f1-score   support\n",
            "\n",
            "           0     0.8909    0.8780    0.8844      6195\n",
            "           1     0.8796    0.8924    0.8859      6188\n",
            "\n",
            "    accuracy                         0.8852     12383\n",
            "   macro avg     0.8852    0.8852    0.8852     12383\n",
            "weighted avg     0.8852    0.8852    0.8852     12383\n",
            "\n"
          ]
        },
        {
          "output_type": "display_data",
          "data": {
            "text/plain": [
              "<Figure size 640x480 with 2 Axes>"
            ],
            "image/png": "[encoded data removed]"
          },
          "metadata": {}
        }
      ]
    },
    {
      "cell_type": "markdown",
      "metadata": {
        "id": "aaEhio7DHGLd"
      },
      "source": [
        "## **g) Generación de predicciones con el conjunto de test para realizar los submits correspondientes en la competencia de Kaggle**"
      ]
    },
    {
      "cell_type": "markdown",
      "metadata": {
        "id": "-23KttqGbAuy"
      },
      "source": [
        "### KNN"
      ]
    },
    {
      "cell_type": "code",
      "execution_count": null,
      "metadata": {
        "id": "ssa-DJrZt5oq"
      },
      "outputs": [],
      "source": [
        "f1_score_en_train = f1_score(y_val, y_pred_train_knn, average='weighted')\n",
        "predecir_y_exportar_a_csv_con_knn(knn, df_test_completo, f1_score_en_train)"
      ]
    },
    {
      "cell_type": "markdown",
      "metadata": {
        "id": "bYgpaVzVbAu2"
      },
      "source": [
        "### SVM"
      ]
    },
    {
      "cell_type": "markdown",
      "metadata": {
        "id": "NcWsU4pB4gBX"
      },
      "source": [
        "#### Lineal"
      ]
    },
    {
      "cell_type": "code",
      "execution_count": null,
      "metadata": {
        "id": "Ehayk6O_x6U2"
      },
      "outputs": [],
      "source": [
        "f1_score_en_train = f1_score(y_val, y_pred_train_svm_lin, average='weighted')\n",
        "predecir_y_exportar_a_csv_con_svm_lineal(svm_lin, df_test_completo, f1_score_en_train)"
      ]
    },
    {
      "cell_type": "markdown",
      "metadata": {
        "id": "WD1KwxfX4gBX"
      },
      "source": [
        "#### Polinómico"
      ]
    },
    {
      "cell_type": "code",
      "execution_count": null,
      "metadata": {
        "id": "bcbnkzlH4gBX"
      },
      "outputs": [],
      "source": [
        "f1_score_en_train = f1_score(y_val, y_pred_train_svm_pol, average='weighted')\n",
        "predecir_y_exportar_a_csv_con_svm_polinomico(svm_pol, df_test_completo, f1_score_en_train)"
      ]
    },
    {
      "cell_type": "markdown",
      "metadata": {
        "id": "1iEeizMf4gBY"
      },
      "source": [
        "#### Radial"
      ]
    },
    {
      "cell_type": "code",
      "execution_count": null,
      "metadata": {
        "id": "HxjDoqYU4gBY"
      },
      "outputs": [],
      "source": [
        "f1_score_en_train = f1_score(y_val, y_pred_train_svm_rbf, average='weighted')\n",
        "predecir_y_exportar_a_csv_con_svm_radial(svm_rbf, df_test_completo, f1_score_en_train)"
      ]
    },
    {
      "cell_type": "markdown",
      "metadata": {
        "id": "PE9z6m5vbAu2"
      },
      "source": [
        "### RF"
      ]
    },
    {
      "cell_type": "code",
      "execution_count": null,
      "metadata": {
        "id": "P1dY1ZrGZcUS"
      },
      "outputs": [],
      "source": [
        "f1_score_en_train = f1_score(y_val, y_pred_train_rf, average='weighted')\n",
        "predecir_y_exportar_a_csv_con_rf(rf, df_test_completo, f1_score_en_train)"
      ]
    },
    {
      "cell_type": "markdown",
      "metadata": {
        "id": "d-3B_aajbAu2"
      },
      "source": [
        "### XGBoost"
      ]
    },
    {
      "cell_type": "code",
      "execution_count": null,
      "metadata": {
        "id": "JghRpEqiH5VN"
      },
      "outputs": [],
      "source": [
        "f1_score_en_train = f1_score(y_val, y_pred_train_xgb, average='weighted')\n",
        "predecir_y_exportar_a_csv_con_xgb(xgb, df_test_completo, f1_score_en_train)"
      ]
    },
    {
      "cell_type": "markdown",
      "metadata": {
        "id": "uXOhZtbfbAu2"
      },
      "source": [
        "### Voting"
      ]
    },
    {
      "cell_type": "code",
      "execution_count": null,
      "metadata": {
        "id": "fw83Mq3w4gBY"
      },
      "outputs": [],
      "source": [
        "f1_score_en_train = f1_score(y_val, y_pred_train_voting, average='weighted')\n",
        "predecir_y_exportar_a_csv_con_voting(voting_clf, df_test_completo, f1_score_en_train)"
      ]
    },
    {
      "cell_type": "markdown",
      "metadata": {
        "id": "FLmBPK4_bAu3"
      },
      "source": [
        "### Stacking"
      ]
    },
    {
      "cell_type": "code",
      "execution_count": null,
      "metadata": {
        "id": "MhUOiLYc4gBY"
      },
      "outputs": [],
      "source": [
        "f1_score_en_train = f1_score(y_val, y_pred_train_stacking, average='weighted')\n",
        "predecir_y_exportar_a_csv_con_stacking(stacking_clf, df_test_completo, f1_score_en_train)"
      ]
    }
  ],
  "metadata": {
    "colab": {
      "provenance": [],
      "toc_visible": true
    },
    "kernelspec": {
      "display_name": "Python 3",
      "name": "python3"
    },
    "language_info": {
      "name": "python"
    }
  },
  "nbformat": 4,
  "nbformat_minor": 0
}