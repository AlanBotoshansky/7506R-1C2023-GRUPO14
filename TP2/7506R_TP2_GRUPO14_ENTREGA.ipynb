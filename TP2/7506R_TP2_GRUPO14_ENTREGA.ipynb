{
  "nbformat": 4,
  "nbformat_minor": 0,
  "metadata": {
    "colab": {
      "provenance": [],
      "toc_visible": true
    },
    "kernelspec": {
      "name": "python3",
      "display_name": "Python 3"
    },
    "language_info": {
      "name": "python"
    }
  },
  "cells": [
    {
      "cell_type": "markdown",
      "source": [
        "# TP2"
      ],
      "metadata": {
        "id": "2C95ytzLzZrY"
      }
    },
    {
      "cell_type": "markdown",
      "metadata": {
        "id": "lLQ5cFjPEv3F"
      },
      "source": [
        "## **Importación de bibliotecas y datasets de entrenamiento y evaluación.**"
      ]
    },
    {
      "cell_type": "code",
      "execution_count": null,
      "metadata": {
        "id": "TXtJgvsWreLh"
      },
      "outputs": [],
      "source": [
        "import pandas as pd\n",
        "import numpy as np\n",
        "\n",
        "import matplotlib.pyplot as plt\n",
        "import seaborn as sns\n",
        "\n",
        "from sklearn.metrics import f1_score, make_scorer, confusion_matrix, classification_report\n",
        "from sklearn.model_selection import train_test_split, StratifiedKFold, RandomizedSearchCV, GridSearchCV\n",
        "from sklearn.pipeline import Pipeline\n",
        "\n",
        "from sklearn.feature_extraction.text import CountVectorizer, TfidfVectorizer\n",
        "from sklearn.naive_bayes import MultinomialNB\n",
        "from sklearn.ensemble import RandomForestClassifier, VotingClassifier, StackingClassifier\n",
        "from xgboost import XGBClassifier\n",
        "\n",
        "import tensorflow as tf\n",
        "from tensorflow import keras\n",
        "from keras.wrappers.scikit_learn import KerasClassifier\n",
        "\n",
        "import joblib\n",
        "\n",
        "np.random.seed(0)\n",
        "tf.random.set_seed(0)"
      ]
    },
    {
      "cell_type": "markdown",
      "metadata": {
        "id": "NFIkcKiFFFEX"
      },
      "source": [
        "### **Dataset de entrenamiento**"
      ]
    },
    {
      "cell_type": "markdown",
      "source": [
        "Aclaración: para poder utilizar el dataset de train, lo partimos en 3 para poder subirlo a Github, leerlos, y luego concatenarlos para formar el dataset completo."
      ],
      "metadata": {
        "id": "eL6VEFfA6KHQ"
      }
    },
    {
      "cell_type": "code",
      "source": [
        "df_train1 = pd.read_csv(\"https://raw.githubusercontent.com/AlanBotoshansky/7506R-1C2023-GRUPO14/main/TP2/Datasets/train1.csv\")\n",
        "df_train2 = pd.read_csv(\"https://raw.githubusercontent.com/AlanBotoshansky/7506R-1C2023-GRUPO14/main/TP2/Datasets/train2.csv\")\n",
        "df_train3 = pd.read_csv(\"https://raw.githubusercontent.com/AlanBotoshansky/7506R-1C2023-GRUPO14/main/TP2/Datasets/train3.csv\")"
      ],
      "metadata": {
        "id": "0ew4H4s-4KUA"
      },
      "execution_count": null,
      "outputs": []
    },
    {
      "cell_type": "code",
      "source": [
        "df_train_default = pd.concat([df_train1, df_train2, df_train3], ignore_index=True)\n",
        "df_train = df_train_default.copy()\n",
        "df_train"
      ],
      "metadata": {
        "colab": {
          "base_uri": "https://localhost:8080/",
          "height": 423
        },
        "id": "RZRpphUH4DDq",
        "outputId": "949a4408-fb0b-4aa1-f680-45c8d937979e"
      },
      "execution_count": null,
      "outputs": [
        {
          "output_type": "execute_result",
          "data": {
            "text/plain": [
              "          ID                                          review_es sentimiento\n",
              "0          0  Uno de los otros críticos ha mencionado que de...    positivo\n",
              "1          1  Una pequeña pequeña producción.La técnica de f...    positivo\n",
              "2          2  Pensé que esta era una manera maravillosa de p...    positivo\n",
              "3          3  Básicamente, hay una familia donde un niño peq...    negativo\n",
              "4          4  El \"amor en el tiempo\" de Petter Mattei es una...    positivo\n",
              "...      ...                                                ...         ...\n",
              "49995  49995  Pensé que esta película hizo un buen trabajo a...    positivo\n",
              "49996  49996  Mala parcela, mal diálogo, mala actuación, dir...    negativo\n",
              "49997  49997  Soy católica enseñada en escuelas primarias pa...    negativo\n",
              "49998  49998  Voy a tener que estar en desacuerdo con el com...    negativo\n",
              "49999  49999  Nadie espera que las películas de Star Trek se...    negativo\n",
              "\n",
              "[50000 rows x 3 columns]"
            ],
            "text/html": [
              "\n",
              "  <div id=\"df-899eb28b-ab04-4f9e-bae9-6204b9e866d8\">\n",
              "    <div class=\"colab-df-container\">\n",
              "      <div>\n",
              "<style scoped>\n",
              "    .dataframe tbody tr th:only-of-type {\n",
              "        vertical-align: middle;\n",
              "    }\n",
              "\n",
              "    .dataframe tbody tr th {\n",
              "        vertical-align: top;\n",
              "    }\n",
              "\n",
              "    .dataframe thead th {\n",
              "        text-align: right;\n",
              "    }\n",
              "</style>\n",
              "<table border=\"1\" class=\"dataframe\">\n",
              "  <thead>\n",
              "    <tr style=\"text-align: right;\">\n",
              "      <th></th>\n",
              "      <th>ID</th>\n",
              "      <th>review_es</th>\n",
              "      <th>sentimiento</th>\n",
              "    </tr>\n",
              "  </thead>\n",
              "  <tbody>\n",
              "    <tr>\n",
              "      <th>0</th>\n",
              "      <td>0</td>\n",
              "      <td>Uno de los otros críticos ha mencionado que de...</td>\n",
              "      <td>positivo</td>\n",
              "    </tr>\n",
              "    <tr>\n",
              "      <th>1</th>\n",
              "      <td>1</td>\n",
              "      <td>Una pequeña pequeña producción.La técnica de f...</td>\n",
              "      <td>positivo</td>\n",
              "    </tr>\n",
              "    <tr>\n",
              "      <th>2</th>\n",
              "      <td>2</td>\n",
              "      <td>Pensé que esta era una manera maravillosa de p...</td>\n",
              "      <td>positivo</td>\n",
              "    </tr>\n",
              "    <tr>\n",
              "      <th>3</th>\n",
              "      <td>3</td>\n",
              "      <td>Básicamente, hay una familia donde un niño peq...</td>\n",
              "      <td>negativo</td>\n",
              "    </tr>\n",
              "    <tr>\n",
              "      <th>4</th>\n",
              "      <td>4</td>\n",
              "      <td>El \"amor en el tiempo\" de Petter Mattei es una...</td>\n",
              "      <td>positivo</td>\n",
              "    </tr>\n",
              "    <tr>\n",
              "      <th>...</th>\n",
              "      <td>...</td>\n",
              "      <td>...</td>\n",
              "      <td>...</td>\n",
              "    </tr>\n",
              "    <tr>\n",
              "      <th>49995</th>\n",
              "      <td>49995</td>\n",
              "      <td>Pensé que esta película hizo un buen trabajo a...</td>\n",
              "      <td>positivo</td>\n",
              "    </tr>\n",
              "    <tr>\n",
              "      <th>49996</th>\n",
              "      <td>49996</td>\n",
              "      <td>Mala parcela, mal diálogo, mala actuación, dir...</td>\n",
              "      <td>negativo</td>\n",
              "    </tr>\n",
              "    <tr>\n",
              "      <th>49997</th>\n",
              "      <td>49997</td>\n",
              "      <td>Soy católica enseñada en escuelas primarias pa...</td>\n",
              "      <td>negativo</td>\n",
              "    </tr>\n",
              "    <tr>\n",
              "      <th>49998</th>\n",
              "      <td>49998</td>\n",
              "      <td>Voy a tener que estar en desacuerdo con el com...</td>\n",
              "      <td>negativo</td>\n",
              "    </tr>\n",
              "    <tr>\n",
              "      <th>49999</th>\n",
              "      <td>49999</td>\n",
              "      <td>Nadie espera que las películas de Star Trek se...</td>\n",
              "      <td>negativo</td>\n",
              "    </tr>\n",
              "  </tbody>\n",
              "</table>\n",
              "<p>50000 rows × 3 columns</p>\n",
              "</div>\n",
              "      <button class=\"colab-df-convert\" onclick=\"convertToInteractive('df-899eb28b-ab04-4f9e-bae9-6204b9e866d8')\"\n",
              "              title=\"Convert this dataframe to an interactive table.\"\n",
              "              style=\"display:none;\">\n",
              "        \n",
              "  <svg xmlns=\"http://www.w3.org/2000/svg\" height=\"24px\"viewBox=\"0 0 24 24\"\n",
              "       width=\"24px\">\n",
              "    <path d=\"M0 0h24v24H0V0z\" fill=\"none\"/>\n",
              "    <path d=\"M18.56 5.44l.94 2.06.94-2.06 2.06-.94-2.06-.94-.94-2.06-.94 2.06-2.06.94zm-11 1L8.5 8.5l.94-2.06 2.06-.94-2.06-.94L8.5 2.5l-.94 2.06-2.06.94zm10 10l.94 2.06.94-2.06 2.06-.94-2.06-.94-.94-2.06-.94 2.06-2.06.94z\"/><path d=\"M17.41 7.96l-1.37-1.37c-.4-.4-.92-.59-1.43-.59-.52 0-1.04.2-1.43.59L10.3 9.45l-7.72 7.72c-.78.78-.78 2.05 0 2.83L4 21.41c.39.39.9.59 1.41.59.51 0 1.02-.2 1.41-.59l7.78-7.78 2.81-2.81c.8-.78.8-2.07 0-2.86zM5.41 20L4 18.59l7.72-7.72 1.47 1.35L5.41 20z\"/>\n",
              "  </svg>\n",
              "      </button>\n",
              "      \n",
              "  <style>\n",
              "    .colab-df-container {\n",
              "      display:flex;\n",
              "      flex-wrap:wrap;\n",
              "      gap: 12px;\n",
              "    }\n",
              "\n",
              "    .colab-df-convert {\n",
              "      background-color: #E8F0FE;\n",
              "      border: none;\n",
              "      border-radius: 50%;\n",
              "      cursor: pointer;\n",
              "      display: none;\n",
              "      fill: #1967D2;\n",
              "      height: 32px;\n",
              "      padding: 0 0 0 0;\n",
              "      width: 32px;\n",
              "    }\n",
              "\n",
              "    .colab-df-convert:hover {\n",
              "      background-color: #E2EBFA;\n",
              "      box-shadow: 0px 1px 2px rgba(60, 64, 67, 0.3), 0px 1px 3px 1px rgba(60, 64, 67, 0.15);\n",
              "      fill: #174EA6;\n",
              "    }\n",
              "\n",
              "    [theme=dark] .colab-df-convert {\n",
              "      background-color: #3B4455;\n",
              "      fill: #D2E3FC;\n",
              "    }\n",
              "\n",
              "    [theme=dark] .colab-df-convert:hover {\n",
              "      background-color: #434B5C;\n",
              "      box-shadow: 0px 1px 3px 1px rgba(0, 0, 0, 0.15);\n",
              "      filter: drop-shadow(0px 1px 2px rgba(0, 0, 0, 0.3));\n",
              "      fill: #FFFFFF;\n",
              "    }\n",
              "  </style>\n",
              "\n",
              "      <script>\n",
              "        const buttonEl =\n",
              "          document.querySelector('#df-899eb28b-ab04-4f9e-bae9-6204b9e866d8 button.colab-df-convert');\n",
              "        buttonEl.style.display =\n",
              "          google.colab.kernel.accessAllowed ? 'block' : 'none';\n",
              "\n",
              "        async function convertToInteractive(key) {\n",
              "          const element = document.querySelector('#df-899eb28b-ab04-4f9e-bae9-6204b9e866d8');\n",
              "          const dataTable =\n",
              "            await google.colab.kernel.invokeFunction('convertToInteractive',\n",
              "                                                     [key], {});\n",
              "          if (!dataTable) return;\n",
              "\n",
              "          const docLinkHtml = 'Like what you see? Visit the ' +\n",
              "            '<a target=\"_blank\" href=https://colab.research.google.com/notebooks/data_table.ipynb>data table notebook</a>'\n",
              "            + ' to learn more about interactive tables.';\n",
              "          element.innerHTML = '';\n",
              "          dataTable['output_type'] = 'display_data';\n",
              "          await google.colab.output.renderOutput(dataTable, element);\n",
              "          const docLink = document.createElement('div');\n",
              "          docLink.innerHTML = docLinkHtml;\n",
              "          element.appendChild(docLink);\n",
              "        }\n",
              "      </script>\n",
              "    </div>\n",
              "  </div>\n",
              "  "
            ]
          },
          "metadata": {},
          "execution_count": 3
        }
      ]
    },
    {
      "cell_type": "markdown",
      "metadata": {
        "id": "nZCA-_qUFK_t"
      },
      "source": [
        "### **Dataset de evaluación**"
      ]
    },
    {
      "cell_type": "markdown",
      "metadata": {
        "id": "BdwvsWA2h6sT"
      },
      "source": [
        "Importamos el dataset de test sobre el cual hay que predecir la variable target, \"sentimiento\"."
      ]
    },
    {
      "cell_type": "code",
      "execution_count": null,
      "metadata": {
        "colab": {
          "base_uri": "https://localhost:8080/",
          "height": 423
        },
        "id": "0gLxASnWhBiQ",
        "outputId": "5cad9a73-31d1-4142-dfb9-01711c68379e"
      },
      "outputs": [
        {
          "output_type": "execute_result",
          "data": {
            "text/plain": [
              "         ID                                          review_es\n",
              "0     60000  La mayor virtud de esta película es su existen...\n",
              "1     60001  No soy un experto cinéfilo, pero pocas veces m...\n",
              "2     60002  Si no eres un incondicional del humor estilo T...\n",
              "3     60003  No sé qué está pasando, si la gente se deja ll...\n",
              "4     60004  Pero cuando amanece,y me quedo solo,siento en ...\n",
              "...     ...                                                ...\n",
              "8594  68594  Buena no, lo siguiente. Por fin un film serio ...\n",
              "8595  68595  Me esperaba mucho, pero que mucho, más.Guión m...\n",
              "8596  68596  De mal cuerpo como sensación al finalizar, de ...\n",
              "8597  68597  Los que han añadido comentarios os lo han dich...\n",
              "8598  68598  Fui a ver esta película de cine con entusiasmo...\n",
              "\n",
              "[8599 rows x 2 columns]"
            ],
            "text/html": [
              "\n",
              "  <div id=\"df-91eee398-3efd-45a1-8745-702d860c2c9e\">\n",
              "    <div class=\"colab-df-container\">\n",
              "      <div>\n",
              "<style scoped>\n",
              "    .dataframe tbody tr th:only-of-type {\n",
              "        vertical-align: middle;\n",
              "    }\n",
              "\n",
              "    .dataframe tbody tr th {\n",
              "        vertical-align: top;\n",
              "    }\n",
              "\n",
              "    .dataframe thead th {\n",
              "        text-align: right;\n",
              "    }\n",
              "</style>\n",
              "<table border=\"1\" class=\"dataframe\">\n",
              "  <thead>\n",
              "    <tr style=\"text-align: right;\">\n",
              "      <th></th>\n",
              "      <th>ID</th>\n",
              "      <th>review_es</th>\n",
              "    </tr>\n",
              "  </thead>\n",
              "  <tbody>\n",
              "    <tr>\n",
              "      <th>0</th>\n",
              "      <td>60000</td>\n",
              "      <td>La mayor virtud de esta película es su existen...</td>\n",
              "    </tr>\n",
              "    <tr>\n",
              "      <th>1</th>\n",
              "      <td>60001</td>\n",
              "      <td>No soy un experto cinéfilo, pero pocas veces m...</td>\n",
              "    </tr>\n",
              "    <tr>\n",
              "      <th>2</th>\n",
              "      <td>60002</td>\n",
              "      <td>Si no eres un incondicional del humor estilo T...</td>\n",
              "    </tr>\n",
              "    <tr>\n",
              "      <th>3</th>\n",
              "      <td>60003</td>\n",
              "      <td>No sé qué está pasando, si la gente se deja ll...</td>\n",
              "    </tr>\n",
              "    <tr>\n",
              "      <th>4</th>\n",
              "      <td>60004</td>\n",
              "      <td>Pero cuando amanece,y me quedo solo,siento en ...</td>\n",
              "    </tr>\n",
              "    <tr>\n",
              "      <th>...</th>\n",
              "      <td>...</td>\n",
              "      <td>...</td>\n",
              "    </tr>\n",
              "    <tr>\n",
              "      <th>8594</th>\n",
              "      <td>68594</td>\n",
              "      <td>Buena no, lo siguiente. Por fin un film serio ...</td>\n",
              "    </tr>\n",
              "    <tr>\n",
              "      <th>8595</th>\n",
              "      <td>68595</td>\n",
              "      <td>Me esperaba mucho, pero que mucho, más.Guión m...</td>\n",
              "    </tr>\n",
              "    <tr>\n",
              "      <th>8596</th>\n",
              "      <td>68596</td>\n",
              "      <td>De mal cuerpo como sensación al finalizar, de ...</td>\n",
              "    </tr>\n",
              "    <tr>\n",
              "      <th>8597</th>\n",
              "      <td>68597</td>\n",
              "      <td>Los que han añadido comentarios os lo han dich...</td>\n",
              "    </tr>\n",
              "    <tr>\n",
              "      <th>8598</th>\n",
              "      <td>68598</td>\n",
              "      <td>Fui a ver esta película de cine con entusiasmo...</td>\n",
              "    </tr>\n",
              "  </tbody>\n",
              "</table>\n",
              "<p>8599 rows × 2 columns</p>\n",
              "</div>\n",
              "      <button class=\"colab-df-convert\" onclick=\"convertToInteractive('df-91eee398-3efd-45a1-8745-702d860c2c9e')\"\n",
              "              title=\"Convert this dataframe to an interactive table.\"\n",
              "              style=\"display:none;\">\n",
              "        \n",
              "  <svg xmlns=\"http://www.w3.org/2000/svg\" height=\"24px\"viewBox=\"0 0 24 24\"\n",
              "       width=\"24px\">\n",
              "    <path d=\"M0 0h24v24H0V0z\" fill=\"none\"/>\n",
              "    <path d=\"M18.56 5.44l.94 2.06.94-2.06 2.06-.94-2.06-.94-.94-2.06-.94 2.06-2.06.94zm-11 1L8.5 8.5l.94-2.06 2.06-.94-2.06-.94L8.5 2.5l-.94 2.06-2.06.94zm10 10l.94 2.06.94-2.06 2.06-.94-2.06-.94-.94-2.06-.94 2.06-2.06.94z\"/><path d=\"M17.41 7.96l-1.37-1.37c-.4-.4-.92-.59-1.43-.59-.52 0-1.04.2-1.43.59L10.3 9.45l-7.72 7.72c-.78.78-.78 2.05 0 2.83L4 21.41c.39.39.9.59 1.41.59.51 0 1.02-.2 1.41-.59l7.78-7.78 2.81-2.81c.8-.78.8-2.07 0-2.86zM5.41 20L4 18.59l7.72-7.72 1.47 1.35L5.41 20z\"/>\n",
              "  </svg>\n",
              "      </button>\n",
              "      \n",
              "  <style>\n",
              "    .colab-df-container {\n",
              "      display:flex;\n",
              "      flex-wrap:wrap;\n",
              "      gap: 12px;\n",
              "    }\n",
              "\n",
              "    .colab-df-convert {\n",
              "      background-color: #E8F0FE;\n",
              "      border: none;\n",
              "      border-radius: 50%;\n",
              "      cursor: pointer;\n",
              "      display: none;\n",
              "      fill: #1967D2;\n",
              "      height: 32px;\n",
              "      padding: 0 0 0 0;\n",
              "      width: 32px;\n",
              "    }\n",
              "\n",
              "    .colab-df-convert:hover {\n",
              "      background-color: #E2EBFA;\n",
              "      box-shadow: 0px 1px 2px rgba(60, 64, 67, 0.3), 0px 1px 3px 1px rgba(60, 64, 67, 0.15);\n",
              "      fill: #174EA6;\n",
              "    }\n",
              "\n",
              "    [theme=dark] .colab-df-convert {\n",
              "      background-color: #3B4455;\n",
              "      fill: #D2E3FC;\n",
              "    }\n",
              "\n",
              "    [theme=dark] .colab-df-convert:hover {\n",
              "      background-color: #434B5C;\n",
              "      box-shadow: 0px 1px 3px 1px rgba(0, 0, 0, 0.15);\n",
              "      filter: drop-shadow(0px 1px 2px rgba(0, 0, 0, 0.3));\n",
              "      fill: #FFFFFF;\n",
              "    }\n",
              "  </style>\n",
              "\n",
              "      <script>\n",
              "        const buttonEl =\n",
              "          document.querySelector('#df-91eee398-3efd-45a1-8745-702d860c2c9e button.colab-df-convert');\n",
              "        buttonEl.style.display =\n",
              "          google.colab.kernel.accessAllowed ? 'block' : 'none';\n",
              "\n",
              "        async function convertToInteractive(key) {\n",
              "          const element = document.querySelector('#df-91eee398-3efd-45a1-8745-702d860c2c9e');\n",
              "          const dataTable =\n",
              "            await google.colab.kernel.invokeFunction('convertToInteractive',\n",
              "                                                     [key], {});\n",
              "          if (!dataTable) return;\n",
              "\n",
              "          const docLinkHtml = 'Like what you see? Visit the ' +\n",
              "            '<a target=\"_blank\" href=https://colab.research.google.com/notebooks/data_table.ipynb>data table notebook</a>'\n",
              "            + ' to learn more about interactive tables.';\n",
              "          element.innerHTML = '';\n",
              "          dataTable['output_type'] = 'display_data';\n",
              "          await google.colab.output.renderOutput(dataTable, element);\n",
              "          const docLink = document.createElement('div');\n",
              "          docLink.innerHTML = docLinkHtml;\n",
              "          element.appendChild(docLink);\n",
              "        }\n",
              "      </script>\n",
              "    </div>\n",
              "  </div>\n",
              "  "
            ]
          },
          "metadata": {},
          "execution_count": 4
        }
      ],
      "source": [
        "df_test_default = pd.read_csv(\"https://raw.githubusercontent.com/AlanBotoshansky/7506R-1C2023-GRUPO14/main/TP2/Datasets/test.csv\")\n",
        "df_test = df_test_default.copy()\n",
        "df_test"
      ]
    },
    {
      "cell_type": "markdown",
      "metadata": {
        "id": "d7KsTGedTErc"
      },
      "source": [
        "## **Preprocesamiento y transformación de los datasets**"
      ]
    },
    {
      "cell_type": "markdown",
      "source": [
        "Le asignamos valores númericos a la variable \"sentimiento\" del dataframe de entrenamiento, para poder entrenar a nuestros modelos y realizar predicciones. El valor 'positivo' lo reemplazamos por 1 y el valor 'negativo' lo reemplazamos por 0. Una vez realizadas las predicciones, volveremos a reemplazar dichos números por los valores originales, para poder realizar las submissions correctamente en Kaggle."
      ],
      "metadata": {
        "id": "YQe1ZMP1aOd5"
      }
    },
    {
      "cell_type": "code",
      "source": [
        "df_train = df_train.replace({'sentimiento': {'positivo': 1, 'negativo': 0}})\n",
        "df_train"
      ],
      "metadata": {
        "colab": {
          "base_uri": "https://localhost:8080/",
          "height": 423
        },
        "id": "N41XpX56aPQN",
        "outputId": "be74df3c-5e52-4819-d76d-886ed9facbb2"
      },
      "execution_count": null,
      "outputs": [
        {
          "output_type": "execute_result",
          "data": {
            "text/plain": [
              "          ID                                          review_es  sentimiento\n",
              "0          0  Uno de los otros críticos ha mencionado que de...            1\n",
              "1          1  Una pequeña pequeña producción.La técnica de f...            1\n",
              "2          2  Pensé que esta era una manera maravillosa de p...            1\n",
              "3          3  Básicamente, hay una familia donde un niño peq...            0\n",
              "4          4  El \"amor en el tiempo\" de Petter Mattei es una...            1\n",
              "...      ...                                                ...          ...\n",
              "49995  49995  Pensé que esta película hizo un buen trabajo a...            1\n",
              "49996  49996  Mala parcela, mal diálogo, mala actuación, dir...            0\n",
              "49997  49997  Soy católica enseñada en escuelas primarias pa...            0\n",
              "49998  49998  Voy a tener que estar en desacuerdo con el com...            0\n",
              "49999  49999  Nadie espera que las películas de Star Trek se...            0\n",
              "\n",
              "[50000 rows x 3 columns]"
            ],
            "text/html": [
              "\n",
              "  <div id=\"df-e84349e4-8b10-4193-8108-a4c7ccf014ae\">\n",
              "    <div class=\"colab-df-container\">\n",
              "      <div>\n",
              "<style scoped>\n",
              "    .dataframe tbody tr th:only-of-type {\n",
              "        vertical-align: middle;\n",
              "    }\n",
              "\n",
              "    .dataframe tbody tr th {\n",
              "        vertical-align: top;\n",
              "    }\n",
              "\n",
              "    .dataframe thead th {\n",
              "        text-align: right;\n",
              "    }\n",
              "</style>\n",
              "<table border=\"1\" class=\"dataframe\">\n",
              "  <thead>\n",
              "    <tr style=\"text-align: right;\">\n",
              "      <th></th>\n",
              "      <th>ID</th>\n",
              "      <th>review_es</th>\n",
              "      <th>sentimiento</th>\n",
              "    </tr>\n",
              "  </thead>\n",
              "  <tbody>\n",
              "    <tr>\n",
              "      <th>0</th>\n",
              "      <td>0</td>\n",
              "      <td>Uno de los otros críticos ha mencionado que de...</td>\n",
              "      <td>1</td>\n",
              "    </tr>\n",
              "    <tr>\n",
              "      <th>1</th>\n",
              "      <td>1</td>\n",
              "      <td>Una pequeña pequeña producción.La técnica de f...</td>\n",
              "      <td>1</td>\n",
              "    </tr>\n",
              "    <tr>\n",
              "      <th>2</th>\n",
              "      <td>2</td>\n",
              "      <td>Pensé que esta era una manera maravillosa de p...</td>\n",
              "      <td>1</td>\n",
              "    </tr>\n",
              "    <tr>\n",
              "      <th>3</th>\n",
              "      <td>3</td>\n",
              "      <td>Básicamente, hay una familia donde un niño peq...</td>\n",
              "      <td>0</td>\n",
              "    </tr>\n",
              "    <tr>\n",
              "      <th>4</th>\n",
              "      <td>4</td>\n",
              "      <td>El \"amor en el tiempo\" de Petter Mattei es una...</td>\n",
              "      <td>1</td>\n",
              "    </tr>\n",
              "    <tr>\n",
              "      <th>...</th>\n",
              "      <td>...</td>\n",
              "      <td>...</td>\n",
              "      <td>...</td>\n",
              "    </tr>\n",
              "    <tr>\n",
              "      <th>49995</th>\n",
              "      <td>49995</td>\n",
              "      <td>Pensé que esta película hizo un buen trabajo a...</td>\n",
              "      <td>1</td>\n",
              "    </tr>\n",
              "    <tr>\n",
              "      <th>49996</th>\n",
              "      <td>49996</td>\n",
              "      <td>Mala parcela, mal diálogo, mala actuación, dir...</td>\n",
              "      <td>0</td>\n",
              "    </tr>\n",
              "    <tr>\n",
              "      <th>49997</th>\n",
              "      <td>49997</td>\n",
              "      <td>Soy católica enseñada en escuelas primarias pa...</td>\n",
              "      <td>0</td>\n",
              "    </tr>\n",
              "    <tr>\n",
              "      <th>49998</th>\n",
              "      <td>49998</td>\n",
              "      <td>Voy a tener que estar en desacuerdo con el com...</td>\n",
              "      <td>0</td>\n",
              "    </tr>\n",
              "    <tr>\n",
              "      <th>49999</th>\n",
              "      <td>49999</td>\n",
              "      <td>Nadie espera que las películas de Star Trek se...</td>\n",
              "      <td>0</td>\n",
              "    </tr>\n",
              "  </tbody>\n",
              "</table>\n",
              "<p>50000 rows × 3 columns</p>\n",
              "</div>\n",
              "      <button class=\"colab-df-convert\" onclick=\"convertToInteractive('df-e84349e4-8b10-4193-8108-a4c7ccf014ae')\"\n",
              "              title=\"Convert this dataframe to an interactive table.\"\n",
              "              style=\"display:none;\">\n",
              "        \n",
              "  <svg xmlns=\"http://www.w3.org/2000/svg\" height=\"24px\"viewBox=\"0 0 24 24\"\n",
              "       width=\"24px\">\n",
              "    <path d=\"M0 0h24v24H0V0z\" fill=\"none\"/>\n",
              "    <path d=\"M18.56 5.44l.94 2.06.94-2.06 2.06-.94-2.06-.94-.94-2.06-.94 2.06-2.06.94zm-11 1L8.5 8.5l.94-2.06 2.06-.94-2.06-.94L8.5 2.5l-.94 2.06-2.06.94zm10 10l.94 2.06.94-2.06 2.06-.94-2.06-.94-.94-2.06-.94 2.06-2.06.94z\"/><path d=\"M17.41 7.96l-1.37-1.37c-.4-.4-.92-.59-1.43-.59-.52 0-1.04.2-1.43.59L10.3 9.45l-7.72 7.72c-.78.78-.78 2.05 0 2.83L4 21.41c.39.39.9.59 1.41.59.51 0 1.02-.2 1.41-.59l7.78-7.78 2.81-2.81c.8-.78.8-2.07 0-2.86zM5.41 20L4 18.59l7.72-7.72 1.47 1.35L5.41 20z\"/>\n",
              "  </svg>\n",
              "      </button>\n",
              "      \n",
              "  <style>\n",
              "    .colab-df-container {\n",
              "      display:flex;\n",
              "      flex-wrap:wrap;\n",
              "      gap: 12px;\n",
              "    }\n",
              "\n",
              "    .colab-df-convert {\n",
              "      background-color: #E8F0FE;\n",
              "      border: none;\n",
              "      border-radius: 50%;\n",
              "      cursor: pointer;\n",
              "      display: none;\n",
              "      fill: #1967D2;\n",
              "      height: 32px;\n",
              "      padding: 0 0 0 0;\n",
              "      width: 32px;\n",
              "    }\n",
              "\n",
              "    .colab-df-convert:hover {\n",
              "      background-color: #E2EBFA;\n",
              "      box-shadow: 0px 1px 2px rgba(60, 64, 67, 0.3), 0px 1px 3px 1px rgba(60, 64, 67, 0.15);\n",
              "      fill: #174EA6;\n",
              "    }\n",
              "\n",
              "    [theme=dark] .colab-df-convert {\n",
              "      background-color: #3B4455;\n",
              "      fill: #D2E3FC;\n",
              "    }\n",
              "\n",
              "    [theme=dark] .colab-df-convert:hover {\n",
              "      background-color: #434B5C;\n",
              "      box-shadow: 0px 1px 3px 1px rgba(0, 0, 0, 0.15);\n",
              "      filter: drop-shadow(0px 1px 2px rgba(0, 0, 0, 0.3));\n",
              "      fill: #FFFFFF;\n",
              "    }\n",
              "  </style>\n",
              "\n",
              "      <script>\n",
              "        const buttonEl =\n",
              "          document.querySelector('#df-e84349e4-8b10-4193-8108-a4c7ccf014ae button.colab-df-convert');\n",
              "        buttonEl.style.display =\n",
              "          google.colab.kernel.accessAllowed ? 'block' : 'none';\n",
              "\n",
              "        async function convertToInteractive(key) {\n",
              "          const element = document.querySelector('#df-e84349e4-8b10-4193-8108-a4c7ccf014ae');\n",
              "          const dataTable =\n",
              "            await google.colab.kernel.invokeFunction('convertToInteractive',\n",
              "                                                     [key], {});\n",
              "          if (!dataTable) return;\n",
              "\n",
              "          const docLinkHtml = 'Like what you see? Visit the ' +\n",
              "            '<a target=\"_blank\" href=https://colab.research.google.com/notebooks/data_table.ipynb>data table notebook</a>'\n",
              "            + ' to learn more about interactive tables.';\n",
              "          element.innerHTML = '';\n",
              "          dataTable['output_type'] = 'display_data';\n",
              "          await google.colab.output.renderOutput(dataTable, element);\n",
              "          const docLink = document.createElement('div');\n",
              "          docLink.innerHTML = docLinkHtml;\n",
              "          element.appendChild(docLink);\n",
              "        }\n",
              "      </script>\n",
              "    </div>\n",
              "  </div>\n",
              "  "
            ]
          },
          "metadata": {},
          "execution_count": 5
        }
      ]
    },
    {
      "cell_type": "markdown",
      "metadata": {
        "id": "o_IxUA4EWUky"
      },
      "source": [
        "Hacemos una partición (proporción de 80/20) del dataframe de entrenamiento, para poder validar el rendimiento de nuestros modelos luego de entrenarlos."
      ]
    },
    {
      "cell_type": "code",
      "execution_count": null,
      "metadata": {
        "id": "haFjBbBlOi3o"
      },
      "outputs": [],
      "source": [
        "x_train, x_val, y_train, y_val = train_test_split(df_train[\"review_es\"], df_train[\"sentimiento\"], test_size=0.2, random_state=0, stratify=df_train[\"sentimiento\"].values)"
      ]
    },
    {
      "cell_type": "markdown",
      "source": [
        "Como los modelos predictivos que entrenaremos solo pueden tomar valores numéricos, transformaremos las críticas a vectores numéricos mediante modelos de *bag of words*.\n",
        "\n",
        "Llevaremos a cabo los modelos utilizando *Pipelines*, de forma que les podremos dar los datos de entrenamiento tal y como vienen, y en una primera etapa el modelo de *bag of words* preprocesa los datos, y luego el modelo predictivo realiza la predicción. Para el caso de las redes neuronales, en vez de utilizar un modelo que vectorice los textos utilizamos una capa de la red."
      ],
      "metadata": {
        "id": "8K5peboSCf7o"
      }
    },
    {
      "cell_type": "markdown",
      "metadata": {
        "id": "mZ_HqmB-Pnme"
      },
      "source": [
        "## **Funciones auxiliares**"
      ]
    },
    {
      "cell_type": "code",
      "source": [
        "def obtener_f1_score(y_test, y_pred):\n",
        "  if type(y_pred[0]) == np.ndarray:  #La predicción fue hecha por una red neuronal\n",
        "    y_pred = np.round(y_pred.flatten()).astype(int)\n",
        "\n",
        "  return f1_score(y_test, y_pred, average='weighted')"
      ],
      "metadata": {
        "id": "RgnlycqLWz6k"
      },
      "execution_count": null,
      "outputs": []
    },
    {
      "cell_type": "code",
      "source": [
        "def imprimir_f1_score(y_test, y_pred):\n",
        "  print(\"F1 score:\", obtener_f1_score(y_test, y_pred))"
      ],
      "metadata": {
        "id": "oftpXWxn0g_q"
      },
      "execution_count": null,
      "outputs": []
    },
    {
      "cell_type": "code",
      "execution_count": null,
      "metadata": {
        "id": "XfbmJv_FIUa0"
      },
      "outputs": [],
      "source": [
        "def classification_report_and_confusion_matrix(y_test, y_pred, digits=4):\n",
        "  if type(y_pred[0]) == np.ndarray:  #La predicción fue hecha por una red neuronal\n",
        "    y_pred = np.round(y_pred.flatten()).astype(int)\n",
        "\n",
        "  print(classification_report(y_val, y_pred, digits=digits))\n",
        "\n",
        "  tabla = confusion_matrix(y_test, y_pred)\n",
        "  sns.heatmap(tabla, cmap='crest', annot=True, fmt='g')\n",
        "  plt.xlabel('Predicho')\n",
        "  plt.ylabel('Real')\n",
        "  plt.show()"
      ]
    },
    {
      "cell_type": "code",
      "source": [
        "def descripcion_bayes_naive(bn, f1_score_en_train):\n",
        "    params = bn.get_params()\n",
        "    vectorizer = bn.steps[0][1].__class__.__name__\n",
        "    alpha = params['bn__alpha']\n",
        "    fit_prior =params['bn__fit_prior']\n",
        "\n",
        "    return f\"BN-vec_{vectorizer}-alpha_{round(alpha, 2)}-fp_{fit_prior}-f1_{round(f1_score_en_train, 4)}\""
      ],
      "metadata": {
        "id": "_J0fmSMlec2U"
      },
      "execution_count": null,
      "outputs": []
    },
    {
      "cell_type": "code",
      "source": [
        "def predecir_y_exportar_a_csv_con_bayes_naive(bn, x_test, f1_score_en_train):\n",
        "    y_pred = bn.predict(x_test)\n",
        "\n",
        "    df_submission = pd.DataFrame({'ID': df_test['ID'], 'sentimiento': y_pred})\n",
        "    df_submission = df_submission.replace({'sentimiento': {1: 'positivo', 0: 'negativo'}})\n",
        "\n",
        "    bn_desc = descripcion_bayes_naive(bn, f1_score_en_train)\n",
        "\n",
        "    df_submission.to_csv(f\"pred_{bn_desc}.csv\", index=False)"
      ],
      "metadata": {
        "id": "m_ywYPuPeq7a"
      },
      "execution_count": null,
      "outputs": []
    },
    {
      "cell_type": "code",
      "source": [
        "def exportar_bayes_naive(bn, f1_score_en_train):\n",
        "    bn_desc = descripcion_bayes_naive(bn, f1_score_en_train)\n",
        "\n",
        "    joblib.dump(bn, f'{bn_desc}.joblib')"
      ],
      "metadata": {
        "id": "moekXm0qdTT7"
      },
      "execution_count": null,
      "outputs": []
    },
    {
      "cell_type": "code",
      "source": [
        "def descripcion_random_forest(rf, f1_score_en_train):\n",
        "    params = rf.get_params()\n",
        "    vectorizer = rf.steps[0][1].__class__.__name__\n",
        "    criterion = params['rf__criterion']\n",
        "    n_estimators = params['rf__n_estimators']\n",
        "    max_features = params['rf__max_features']\n",
        "\n",
        "    return f\"RF-vec_{vectorizer}-crit_{criterion}-n_estim_{n_estimators}-max_f_{max_features}-f1_{round(f1_score_en_train, 4)}\""
      ],
      "metadata": {
        "id": "LlvY7sNWd6CS"
      },
      "execution_count": null,
      "outputs": []
    },
    {
      "cell_type": "code",
      "execution_count": null,
      "metadata": {
        "id": "rG1aDymDUeXg"
      },
      "outputs": [],
      "source": [
        "def predecir_y_exportar_a_csv_con_random_forest(rf, x_test, f1_score_en_train):\n",
        "    y_pred = rf.predict(x_test)\n",
        "\n",
        "    df_submission = pd.DataFrame({'ID': df_test['ID'], 'sentimiento': y_pred})\n",
        "    df_submission = df_submission.replace({'sentimiento': {1: 'positivo', 0: 'negativo'}})\n",
        "\n",
        "    rf_desc = descripcion_random_forest(rf, f1_score_en_train)\n",
        "\n",
        "    df_submission.to_csv(f\"pred_{rf_desc}.csv\", index=False)"
      ]
    },
    {
      "cell_type": "code",
      "execution_count": null,
      "metadata": {
        "id": "PON_vv1YUeXk"
      },
      "outputs": [],
      "source": [
        "def exportar_random_forest(rf, f1_score_en_train):\n",
        "    rf_desc = descripcion_random_forest(rf, f1_score_en_train)\n",
        "\n",
        "    joblib.dump(rf, f'{rf_desc}.joblib')"
      ]
    },
    {
      "cell_type": "code",
      "source": [
        "def descripcion_xgboost(xgb, f1_score_en_train):\n",
        "    params = xgb.get_params()\n",
        "    vectorizer = xgb.steps[0][1].__class__.__name__\n",
        "    n_estimators = params['xgb__n_estimators']\n",
        "    max_depth = params['xgb__max_depth']\n",
        "    learning_rate = params['xgb__learning_rate']\n",
        "    gamma = params['xgb__gamma']\n",
        "    reg_alpha = params['xgb__reg_alpha']\n",
        "    reg_lambda = params['xgb__reg_lambda']\n",
        "\n",
        "    return f\"XGB-vec_{vectorizer}-n_estim_{n_estimators}-max_d_{max_depth}-lr_{learning_rate}-gam_{round(gamma, 1)}-alp_{round(reg_alpha, 1)}-lam_{round(reg_lambda, 1)}-f1_{round(f1_score_en_train, 4)}\""
      ],
      "metadata": {
        "id": "Lu8I18ytc_bO"
      },
      "execution_count": null,
      "outputs": []
    },
    {
      "cell_type": "code",
      "execution_count": null,
      "metadata": {
        "id": "4xMASti2C5XW"
      },
      "outputs": [],
      "source": [
        "def predecir_y_exportar_a_csv_con_xgboost(xgb, x_test, f1_score_en_train):\n",
        "    y_pred = xgb.predict(x_test)\n",
        "\n",
        "    df_submission = pd.DataFrame({'ID': df_test['ID'], 'sentimiento': y_pred})\n",
        "    df_submission = df_submission.replace({'sentimiento': {1: 'positivo', 0: 'negativo'}})\n",
        "\n",
        "    xgb_desc = descripcion_xgboost(xgb, f1_score_en_train)\n",
        "\n",
        "    df_submission.to_csv(f\"pred_{xgb_desc}.csv\", index=False)"
      ]
    },
    {
      "cell_type": "code",
      "execution_count": null,
      "metadata": {
        "id": "9Hs5VrfHC5XW"
      },
      "outputs": [],
      "source": [
        "def exportar_xgboost(xgb, f1_score_en_train):\n",
        "    xgb_desc = descripcion_xgboost(xgb, f1_score_en_train)\n",
        "\n",
        "    joblib.dump(xgb, f'{xgb_desc}.joblib')"
      ]
    },
    {
      "cell_type": "code",
      "source": [
        "def descripcion_neural_network(nn, f1_score_en_train, epochs, batch_size):\n",
        "    config = nn.get_config()\n",
        "\n",
        "    vectorizer = config['layers'][1]['config']['output_mode']\n",
        "    units = config['layers'][2]['config']['units']\n",
        "    mid_layers = len(config['layers']) - 3  #Restamos la capa de los inputs, y la primera y la última capa\n",
        "    activation = config['layers'][2]['config']['activation']\n",
        "    learning_rate = nn.optimizer.learning_rate.numpy()\n",
        "\n",
        "    return f\"NN-vec_{vectorizer}-u_{units}-midl_{mid_layers}-act_{activation}-lr_{learning_rate}-e_{epochs}-bs_{batch_size}-f1_{round(f1_score_en_train, 4)}\""
      ],
      "metadata": {
        "id": "y4cJKFRXaMJz"
      },
      "execution_count": null,
      "outputs": []
    },
    {
      "cell_type": "code",
      "source": [
        "def predecir_y_exportar_a_csv_con_neural_network(nn, x_test, f1_score_en_train, epochs, batch_size):\n",
        "    y_pred = nn.predict(x_test)\n",
        "\n",
        "    y_pred = np.round(y_pred.flatten()).astype(int)\n",
        "\n",
        "    df_submission = pd.DataFrame({'ID': df_test['ID'], 'sentimiento': y_pred})\n",
        "    df_submission = df_submission.replace({'sentimiento': {1: 'positivo', 0: 'negativo'}})\n",
        "\n",
        "    nn_desc = descripcion_neural_network(nn, f1_score_en_train, epochs, batch_size)\n",
        "\n",
        "    df_submission.to_csv(f\"pred_{nn_desc}.csv\", index=False)"
      ],
      "metadata": {
        "id": "jovbDv_Jt_I4"
      },
      "execution_count": null,
      "outputs": []
    },
    {
      "cell_type": "code",
      "source": [
        "def exportar_neural_network(nn, f1_score_en_train, epochs, batch_size):\n",
        "    nn_desc = descripcion_neural_network(nn, f1_score_en_train, epochs, batch_size)\n",
        "\n",
        "    nn.save(nn_desc, save_format='tf')"
      ],
      "metadata": {
        "id": "mPMvvO7nu4oB"
      },
      "execution_count": null,
      "outputs": []
    },
    {
      "cell_type": "code",
      "source": [
        "def descripcion_voting(voting_clf, f1_score_en_train):\n",
        "    params = voting_clf.get_params()\n",
        "    estimators = params['estimators']\n",
        "    estimators = '_'.join([estimator[0] for estimator in estimators])\n",
        "    voting = params['voting']\n",
        "\n",
        "    return f\"voting_clf-estimators_{estimators}-voting_{voting}-f1_{round(f1_score_en_train, 4)}\""
      ],
      "metadata": {
        "id": "oOK7KIJo-ODd"
      },
      "execution_count": null,
      "outputs": []
    },
    {
      "cell_type": "code",
      "source": [
        "def predecir_y_exportar_a_csv_con_voting(voting_clf, x_test, f1_score_en_train):\n",
        "    y_pred = voting_clf.predict(x_test)\n",
        "\n",
        "    df_submission = pd.DataFrame({'ID': df_test['ID'], 'sentimiento': y_pred})\n",
        "    df_submission = df_submission.replace({'sentimiento': {1: 'positivo', 0: 'negativo'}})\n",
        "\n",
        "    voting_clf_desc = descripcion_voting(voting_clf, f1_score_en_train)\n",
        "\n",
        "    df_submission.to_csv(f\"pred_{voting_clf_desc}.csv\", index=False)"
      ],
      "metadata": {
        "id": "b-txx5TpBAdz"
      },
      "execution_count": null,
      "outputs": []
    },
    {
      "cell_type": "code",
      "source": [
        "def exportar_voting(voting_clf, f1_score_en_train):\n",
        "    voting_clf_desc = descripcion_voting(voting_clf, f1_score_en_train)\n",
        "\n",
        "    joblib.dump(voting_clf, f'{voting_clf_desc}.joblib')"
      ],
      "metadata": {
        "id": "zsC23_9f-msk"
      },
      "execution_count": null,
      "outputs": []
    },
    {
      "cell_type": "code",
      "source": [
        "def descripcion_stacking(stacking_clf, f1_score_en_train):\n",
        "    params = stacking_clf.get_params()\n",
        "    estimators = params['estimators']\n",
        "    estimators = '_'.join([estimator[0] for estimator in estimators])\n",
        "    final_estimator = type(params['final_estimator']).__name__\n",
        "\n",
        "    return f\"stacking_clf-estimators_{estimators}-f_estim_{final_estimator}-f1_{round(f1_score_en_train, 4)}\""
      ],
      "metadata": {
        "id": "nf5llMFZ_O7b"
      },
      "execution_count": null,
      "outputs": []
    },
    {
      "cell_type": "code",
      "source": [
        "def predecir_y_exportar_a_csv_con_stacking(stacking_clf, x_test, f1_score_en_train):\n",
        "    y_pred = stacking_clf.predict(x_test)\n",
        "\n",
        "    df_submission = pd.DataFrame({'ID': df_test['ID'], 'sentimiento': y_pred})\n",
        "    df_submission = df_submission.replace({'sentimiento': {1: 'positivo', 0: 'negativo'}})\n",
        "\n",
        "    stacking_clf_desc = descripcion_stacking(stacking_clf, f1_score_en_train)\n",
        "\n",
        "    df_submission.to_csv(f\"pred_{stacking_clf_desc}.csv\", index=False)"
      ],
      "metadata": {
        "id": "wY2mIR1aBhuJ"
      },
      "execution_count": null,
      "outputs": []
    },
    {
      "cell_type": "code",
      "source": [
        "def exportar_stacking(stacking_clf, f1_score_en_train):\n",
        "    stacking_clf_desc = descripcion_stacking(stacking_clf, f1_score_en_train)\n",
        "\n",
        "    joblib.dump(stacking_clf, f'{stacking_clf_desc}.joblib')"
      ],
      "metadata": {
        "id": "h5Q3e5Be-n_c"
      },
      "execution_count": null,
      "outputs": []
    },
    {
      "cell_type": "code",
      "source": [
        "from keras import backend as K\n",
        "\n",
        "def _f1_score(y_true, y_pred):\n",
        "    y_pred = K.round(y_pred)\n",
        "    tp = K.sum(K.cast(y_true * y_pred, 'float'), axis=0)\n",
        "    fp = K.sum(K.cast((1 - y_true) * y_pred, 'float'), axis=0)\n",
        "    fn = K.sum(K.cast(y_true * (1 - y_pred), 'float'), axis=0)\n",
        "\n",
        "    precision = tp / (tp + fp + K.epsilon())\n",
        "    recall = tp / (tp + fn + K.epsilon())\n",
        "\n",
        "    f1 = 2 * precision * recall / (precision + recall + K.epsilon())\n",
        "    return K.mean(f1)"
      ],
      "metadata": {
        "id": "SIyq_9HytRdN"
      },
      "execution_count": null,
      "outputs": []
    },
    {
      "cell_type": "markdown",
      "source": [
        "## **Entrenamiento de los modelos**"
      ],
      "metadata": {
        "id": "iNlupzElFO40"
      }
    },
    {
      "cell_type": "markdown",
      "source": [
        "Para cada modelo, optimizaremos sus hiperparámetros mediante Cross Validation y lo entrenaremos con los mismos, con el fin de obtener la mejor predicción posible. Primero lo haremos con el modelo de Bag of Words \"CountVectorizer\", y segundo con \"TfidfVectorizer\""
      ],
      "metadata": {
        "id": "GKk3ecY8FXFX"
      }
    },
    {
      "cell_type": "markdown",
      "source": [
        "### **Bayes Naïve**"
      ],
      "metadata": {
        "id": "gPyc729iFtHf"
      }
    },
    {
      "cell_type": "markdown",
      "metadata": {
        "id": "ztjzsBWOu5K-"
      },
      "source": [
        "Creamos un Bayes Naïve por defecto con el objetivo de observar el rendimiento base, y así podemos tener una idea del resultado a mejorar."
      ]
    },
    {
      "cell_type": "code",
      "execution_count": null,
      "metadata": {
        "id": "i60dCM_YeAA9",
        "outputId": "8621057c-d427-40c2-a975-472a41fc2319",
        "colab": {
          "base_uri": "https://localhost:8080/"
        }
      },
      "outputs": [
        {
          "output_type": "stream",
          "name": "stdout",
          "text": [
            "F1 score: 0.8411301220281835\n"
          ]
        }
      ],
      "source": [
        "bn_default = Pipeline([('vectorizer', CountVectorizer()), ('bn', MultinomialNB())])\n",
        "\n",
        "bn_default.fit(x_train, y_train)\n",
        "\n",
        "y_pred_train = bn_default.predict(x_val)\n",
        "\n",
        "imprimir_f1_score(y_val, y_pred_train)"
      ]
    },
    {
      "cell_type": "markdown",
      "metadata": {
        "id": "XWEbChJhvdvM"
      },
      "source": [
        "A continuación haremos Cross Validation para la optimización de los hiperparámetros de Bayes Naïve."
      ]
    },
    {
      "cell_type": "code",
      "source": [
        "##KFOLD CV Grid Search para buscar el mejor clasificador Bayes Naïve (los mejores atributos, hiperparámetros, etc)\n",
        "\n",
        "#Conjunto de parámetros que queremos usar\n",
        "params_grid={ 'bn__alpha': np.linspace(0.1, 2, 20),\n",
        "              'bn__fit_prior': [True, False]\n",
        "            }\n",
        "\n",
        "#Cantidad de splits para el Cross Validation\n",
        "folds=5\n",
        "\n",
        "#Kfold estratificado\n",
        "kfoldcv = StratifiedKFold(n_splits=folds)\n",
        "\n",
        "#Metrica que queremos optimizar: F1 Score\n",
        "scorer_fn = make_scorer(f1_score, average='macro')"
      ],
      "metadata": {
        "id": "xWZI8FDGceyX"
      },
      "execution_count": null,
      "outputs": []
    },
    {
      "cell_type": "markdown",
      "source": [
        "CountVectorizer"
      ],
      "metadata": {
        "id": "FagKctCowydf"
      }
    },
    {
      "cell_type": "code",
      "source": [
        "#Clasificador Bayes Naïve con CountVectorizer\n",
        "bn_count = Pipeline([('vectorizer', CountVectorizer()), ('bn', MultinomialNB())])\n",
        "\n",
        "#Grid Search Cross Validation\n",
        "gridcv = GridSearchCV(estimator=bn_count, param_grid=params_grid, cv=kfoldcv, scoring=scorer_fn)\n",
        "\n",
        "gridcv.fit(x_train, y_train)\n",
        "gridcv.cv_results_['mean_test_score']"
      ],
      "metadata": {
        "id": "MuXT8SEXt7-Q"
      },
      "execution_count": null,
      "outputs": []
    },
    {
      "cell_type": "code",
      "source": [
        "print(f\"Mejores hiperparámetros del Bayes Naïve con CountVectorizer: {gridcv.best_params_}\")\n",
        "print(f\"Mejor F1 Score: {gridcv.best_score_}\")"
      ],
      "metadata": {
        "id": "8ZWVjYM7cjPn"
      },
      "execution_count": null,
      "outputs": []
    },
    {
      "cell_type": "markdown",
      "metadata": {
        "id": "1dzMUupZwV3T"
      },
      "source": [
        "Entrenamos el Bayes Naïve con CountVectorizer con los hiperparámetros hallados."
      ]
    },
    {
      "cell_type": "code",
      "source": [
        "bn = Pipeline([('vectorizer', CountVectorizer()), ('bn', MultinomialNB())])\n",
        "bn.set_params(**gridcv.best_params_)\n",
        "bn.fit(x_train, y_train)\n",
        "\n",
        "y_pred_train_bn = bn.predict(x_val)\n",
        "\n",
        "imprimir_f1_score(y_val, y_pred_train_bn)"
      ],
      "metadata": {
        "id": "T2iRMlj3coMF"
      },
      "execution_count": null,
      "outputs": []
    },
    {
      "cell_type": "markdown",
      "metadata": {
        "id": "QemNzkG4wqbZ"
      },
      "source": [
        "Exportamos el modelo"
      ]
    },
    {
      "cell_type": "code",
      "execution_count": null,
      "metadata": {
        "id": "gkwTDTflwun1"
      },
      "outputs": [],
      "source": [
        "f1_score_en_train = obtener_f1_score(y_val, y_pred_train_bn)\n",
        "exportar_bayes_naive(bn, f1_score_en_train)"
      ]
    },
    {
      "cell_type": "markdown",
      "source": [
        "Observación:\n",
        "Podemos ver que el modelo obtenido con Grid Search Cross Validation es el mismo que el conseguido con los parámetros que viene por defecto."
      ],
      "metadata": {
        "id": "DcVV3kRhf09V"
      }
    },
    {
      "cell_type": "markdown",
      "source": [
        "TfidfVectorizer"
      ],
      "metadata": {
        "id": "CaL-ERKkw86x"
      }
    },
    {
      "cell_type": "code",
      "source": [
        "#Clasificador Bayes Naïve con TfidfVectorizer\n",
        "bn_tfidf = Pipeline([('vectorizer', TfidfVectorizer()), ('bn', MultinomialNB())])\n",
        "\n",
        "#Grid Search Cross Validation\n",
        "gridcv = GridSearchCV(estimator=bn_tfidf, param_grid=params_grid, cv=kfoldcv, scoring=scorer_fn)\n",
        "\n",
        "gridcv.fit(x_train, y_train)\n",
        "gridcv.cv_results_['mean_test_score']"
      ],
      "metadata": {
        "id": "uz3cQebtucU6"
      },
      "execution_count": null,
      "outputs": []
    },
    {
      "cell_type": "code",
      "source": [
        "print(f\"Mejores hiperparámetros del Bayes Naïve con TfidfVectorizer: {gridcv.best_params_}\")\n",
        "print(f\"Mejor F1 Score: {gridcv.best_score_}\")"
      ],
      "metadata": {
        "id": "yVMHBC6EucU6"
      },
      "execution_count": null,
      "outputs": []
    },
    {
      "cell_type": "markdown",
      "metadata": {
        "id": "3ZYWuqhhucU6"
      },
      "source": [
        "Entrenamos el Bayes Naïve con TfidfVectorizer con los hiperparámetros hallados."
      ]
    },
    {
      "cell_type": "code",
      "source": [
        "bn = Pipeline([('vectorizer', TfidfVectorizer()), ('bn', MultinomialNB())])\n",
        "bn.set_params(**gridcv.best_params_)\n",
        "bn.fit(x_train, y_train)\n",
        "\n",
        "y_pred_train_bn = bn.predict(x_val)\n",
        "\n",
        "imprimir_f1_score(y_val, y_pred_train_bn)"
      ],
      "metadata": {
        "id": "zwa_scRhucU6"
      },
      "execution_count": null,
      "outputs": []
    },
    {
      "cell_type": "markdown",
      "metadata": {
        "id": "coGkr3K-ucU7"
      },
      "source": [
        "Exportamos el modelo"
      ]
    },
    {
      "cell_type": "code",
      "execution_count": null,
      "metadata": {
        "id": "XnTS3wq-ucU7"
      },
      "outputs": [],
      "source": [
        "f1_score_en_train = obtener_f1_score(y_val, y_pred_train_bn)\n",
        "exportar_bayes_naive(bn, f1_score_en_train)"
      ]
    },
    {
      "cell_type": "markdown",
      "source": [
        "### **Random Forest**"
      ],
      "metadata": {
        "id": "gGRaXnjBHhF2"
      }
    },
    {
      "cell_type": "markdown",
      "metadata": {
        "id": "FpkhWJwPH4T9"
      },
      "source": [
        "Creamos un Random Forest por defecto con el objetivo de observar el rendimiento base, y así podemos tener una idea del resultado a mejorar."
      ]
    },
    {
      "cell_type": "code",
      "execution_count": null,
      "metadata": {
        "outputId": "1380aa08-f811-4d00-a22d-46632dd96eb2",
        "colab": {
          "base_uri": "https://localhost:8080/"
        },
        "id": "UzVFBYMmH4T-"
      },
      "outputs": [
        {
          "output_type": "stream",
          "name": "stdout",
          "text": [
            "F1 score: 0.838999974239996\n"
          ]
        }
      ],
      "source": [
        "rf_default = Pipeline([('vectorizer', CountVectorizer()), ('rf', RandomForestClassifier())])\n",
        "\n",
        "rf_default.fit(x_train, y_train)\n",
        "\n",
        "y_pred_train = rf_default.predict(x_val)\n",
        "\n",
        "imprimir_f1_score(y_val, y_pred_train)"
      ]
    },
    {
      "cell_type": "markdown",
      "metadata": {
        "id": "shKG_SpeH4T_"
      },
      "source": [
        "A continuación haremos Cross Validation para la optimización de los hiperparámetros de Random Forest."
      ]
    },
    {
      "cell_type": "code",
      "source": [
        "##KFOLD CV Random Search para buscar el mejor clasificador Random Forest (los mejores atributos, hiperparámetros, etc)\n",
        "\n",
        "#Numero de iteraciones\n",
        "n=10\n",
        "\n",
        "#Conjunto de parámetros que queremos usar\n",
        "params_grid = { \"rf__criterion\": [\"gini\", \"entropy\"],\n",
        "                \"rf__n_estimators\": list(range(100, 201, 10)),\n",
        "                \"rf__max_features\": [\"sqrt\", \"log2\"]\n",
        "              }\n",
        "\n",
        "#Cantidad de splits para el Cross Validation\n",
        "folds=5\n",
        "\n",
        "#Kfold estratificado\n",
        "kfoldcv = StratifiedKFold(n_splits=folds)\n",
        "\n",
        "#Metrica que queremos optimizar: F1 Score\n",
        "scorer_fn = make_scorer(f1_score, average='macro')"
      ],
      "metadata": {
        "id": "TZyldnLuH4T_"
      },
      "execution_count": null,
      "outputs": []
    },
    {
      "cell_type": "markdown",
      "source": [
        "CountVectorizer"
      ],
      "metadata": {
        "id": "u_MnZdLkwo8l"
      }
    },
    {
      "cell_type": "code",
      "source": [
        "#Clasificador Random Forest con CountVectorizer\n",
        "rf_count = Pipeline([('vectorizer', CountVectorizer()), ('rf', RandomForestClassifier())])\n",
        "\n",
        "#Random Search Cross Validation\n",
        "randomcv = RandomizedSearchCV(estimator=rf_count, param_distributions=params_grid, cv=kfoldcv, scoring=scorer_fn, n_iter=n, random_state=0)\n",
        "\n",
        "randomcv.fit(x_train, y_train)\n",
        "randomcv.cv_results_['mean_test_score']"
      ],
      "metadata": {
        "id": "UwALGpEUvE_O"
      },
      "execution_count": null,
      "outputs": []
    },
    {
      "cell_type": "code",
      "source": [
        "print(f\"Mejores hiperparámetros del Random Forest con CountVectorizer: {randomcv.best_params_}\")\n",
        "print(f\"Mejor F1 Score: {randomcv.best_score_}\")"
      ],
      "metadata": {
        "id": "rnWq0f1wH4T_"
      },
      "execution_count": null,
      "outputs": []
    },
    {
      "cell_type": "markdown",
      "metadata": {
        "id": "WoYqjY5IH4T_"
      },
      "source": [
        "Entrenamos el Random Forest con CountVectorizer con los hiperparámetros hallados."
      ]
    },
    {
      "cell_type": "code",
      "source": [
        "rf = Pipeline([('vectorizer', CountVectorizer()), ('rf', RandomForestClassifier())])\n",
        "rf.set_params(**randomcv.best_params_)\n",
        "rf.fit(x_train, y_train)\n",
        "\n",
        "y_pred_train_rf = rf.predict(x_val)\n",
        "\n",
        "imprimir_f1_score(y_val, y_pred_train_rf)"
      ],
      "metadata": {
        "id": "gfcjFFnkH4T_"
      },
      "execution_count": null,
      "outputs": []
    },
    {
      "cell_type": "markdown",
      "metadata": {
        "id": "lyM993joH4T_"
      },
      "source": [
        "Exportamos el modelo"
      ]
    },
    {
      "cell_type": "code",
      "execution_count": null,
      "metadata": {
        "id": "UsstNeElH4UA"
      },
      "outputs": [],
      "source": [
        "f1_score_en_train = obtener_f1_score(y_val, y_pred_train_rf)\n",
        "exportar_random_forest(rf, f1_score_en_train)"
      ]
    },
    {
      "cell_type": "markdown",
      "source": [
        "TfidfVectorizer"
      ],
      "metadata": {
        "id": "sVnEEI8Fwr5Y"
      }
    },
    {
      "cell_type": "code",
      "source": [
        "#Clasificador Random Forest con TfidfVectorizer\n",
        "rf_tfidf = Pipeline([('vectorizer', TfidfVectorizer()), ('rf', RandomForestClassifier())])\n",
        "\n",
        "#Random Search Cross Validation\n",
        "randomcv = RandomizedSearchCV(estimator=rf_tfidf, param_distributions=params_grid, cv=kfoldcv, scoring=scorer_fn, n_iter=n, random_state=0)\n",
        "\n",
        "randomcv.fit(x_train, y_train)\n",
        "randomcv.cv_results_['mean_test_score']"
      ],
      "metadata": {
        "id": "G5S-VrnPvgv4"
      },
      "execution_count": null,
      "outputs": []
    },
    {
      "cell_type": "code",
      "source": [
        "print(f\"Mejores hiperparámetros del Random Forest con TfidfVectorizer: {randomcv.best_params_}\")\n",
        "print(f\"Mejor F1 Score: {randomcv.best_score_}\")"
      ],
      "metadata": {
        "id": "hJBq5mzYvgv9"
      },
      "execution_count": null,
      "outputs": []
    },
    {
      "cell_type": "markdown",
      "metadata": {
        "id": "QAEcJ229vgv9"
      },
      "source": [
        "Entrenamos el Random Forest con TfidfVectorizer con los hiperparámetros hallados."
      ]
    },
    {
      "cell_type": "code",
      "source": [
        "rf = Pipeline([('vectorizer', TfidfVectorizer()), ('rf', RandomForestClassifier())])\n",
        "rf.set_params(**randomcv.best_params_)\n",
        "rf.fit(x_train, y_train)\n",
        "\n",
        "y_pred_train_rf = rf.predict(x_val)\n",
        "\n",
        "imprimir_f1_score(y_val, y_pred_train_rf)"
      ],
      "metadata": {
        "id": "6ldO3PuRvgv9"
      },
      "execution_count": null,
      "outputs": []
    },
    {
      "cell_type": "markdown",
      "metadata": {
        "id": "3xskb0hkvgv9"
      },
      "source": [
        "Exportamos el modelo"
      ]
    },
    {
      "cell_type": "code",
      "execution_count": null,
      "metadata": {
        "id": "zKf7SWmlvgv-"
      },
      "outputs": [],
      "source": [
        "f1_score_en_train = obtener_f1_score(y_val, y_pred_train_rf)\n",
        "exportar_random_forest(rf, f1_score_en_train)"
      ]
    },
    {
      "cell_type": "markdown",
      "source": [
        "### **XGBoost**"
      ],
      "metadata": {
        "id": "ozF9Pb4hHkV6"
      }
    },
    {
      "cell_type": "markdown",
      "metadata": {
        "id": "6_deXL2DLoe5"
      },
      "source": [
        "Creamos un XGBoost por defecto con el objetivo de observar el rendimiento base, y así podemos tener una idea del resultado a mejorar."
      ]
    },
    {
      "cell_type": "code",
      "execution_count": null,
      "metadata": {
        "outputId": "fa804e11-61f0-4ccb-8878-8e363813cff5",
        "colab": {
          "base_uri": "https://localhost:8080/"
        },
        "id": "uyjQ0ax1Loe6"
      },
      "outputs": [
        {
          "output_type": "stream",
          "name": "stdout",
          "text": [
            "F1 score: 0.840517094406356\n"
          ]
        }
      ],
      "source": [
        "xgb_default = Pipeline([('vectorizer', CountVectorizer()), ('xgb', XGBClassifier())])\n",
        "\n",
        "xgb_default.fit(x_train, y_train)\n",
        "\n",
        "y_pred_train = xgb_default.predict(x_val)\n",
        "\n",
        "imprimir_f1_score(y_val, y_pred_train)"
      ]
    },
    {
      "cell_type": "markdown",
      "metadata": {
        "id": "l4jmxRXdLoe6"
      },
      "source": [
        "A continuación haremos Cross Validation para la optimización de los hiperparámetros de XGBoost."
      ]
    },
    {
      "cell_type": "code",
      "source": [
        "##KFOLD CV Random Search para buscar el mejor clasificador XGBoost (los mejores atributos, hiperparámetros, etc)\n",
        "\n",
        "#Numero de iteraciones\n",
        "n=10\n",
        "\n",
        "#Conjunto de parámetros que queremos usar\n",
        "params_grid = { \"xgb__n_estimators\": list(range(100,201,10)),\n",
        "                \"xgb__max_depth\": list(range(5,25)),\n",
        "                \"xgb__learning_rate\": np.linspace(0.1,0.5,5),\n",
        "                \"xgb__gamma\": np.linspace(0,1,11),\n",
        "                \"xgb__reg_alpha\": np.linspace(0,1,11),\n",
        "                \"xgb__reg_lambda\": np.linspace(0,1,11),\n",
        "              }\n",
        "\n",
        "#Cantidad de splits para el Cross Validation\n",
        "folds=5\n",
        "\n",
        "#Kfold estratificado\n",
        "kfoldcv = StratifiedKFold(n_splits=folds)\n",
        "\n",
        "#Metrica que queremos optimizar: F1 Score\n",
        "scorer_fn = make_scorer(f1_score, average='macro')"
      ],
      "metadata": {
        "id": "O05gzqmdLoe6"
      },
      "execution_count": null,
      "outputs": []
    },
    {
      "cell_type": "markdown",
      "source": [
        "CountVectorizer"
      ],
      "metadata": {
        "id": "s-cetdkOw4a-"
      }
    },
    {
      "cell_type": "code",
      "source": [
        "#Clasificador XGBoost con CountVectorizer\n",
        "xgb_count = Pipeline([('vectorizer', CountVectorizer()), ('xgb', XGBClassifier())])\n",
        "\n",
        "#Random Search Cross Validation\n",
        "randomcv = RandomizedSearchCV(estimator=xgb_count, param_distributions=params_grid, cv=kfoldcv, scoring=scorer_fn, n_iter=n, random_state=0)\n",
        "\n",
        "randomcv.fit(x_train, y_train)\n",
        "randomcv.cv_results_['mean_test_score']"
      ],
      "metadata": {
        "id": "NbBE9yJvxEAr"
      },
      "execution_count": null,
      "outputs": []
    },
    {
      "cell_type": "code",
      "source": [
        "print(f\"Mejores hiperparámetros del XGBoost con CountVectorizer: {randomcv.best_params_}\")\n",
        "print(f\"Mejor F1 Score: {randomcv.best_score_}\")"
      ],
      "metadata": {
        "id": "4dIH_GLSLoe6"
      },
      "execution_count": null,
      "outputs": []
    },
    {
      "cell_type": "markdown",
      "metadata": {
        "id": "UAE62EiBLoe6"
      },
      "source": [
        "Entrenamos el XGBoost con CountVectorizer con los hiperparámetros hallados."
      ]
    },
    {
      "cell_type": "code",
      "source": [
        "xgb = Pipeline([('vectorizer', CountVectorizer()), ('xgb', XGBClassifier())])\n",
        "xgb.set_params(**randomcv.best_params_)\n",
        "xgb.fit(x_train, y_train)\n",
        "\n",
        "y_pred_train_xgb = xgb.predict(x_val)\n",
        "\n",
        "imprimir_f1_score(y_val, y_pred_train_xgb)"
      ],
      "metadata": {
        "id": "OK3KPwVHLoe6"
      },
      "execution_count": null,
      "outputs": []
    },
    {
      "cell_type": "markdown",
      "metadata": {
        "id": "J7EtzBokLoe7"
      },
      "source": [
        "Exportamos el modelo"
      ]
    },
    {
      "cell_type": "code",
      "execution_count": null,
      "metadata": {
        "id": "BoZ7fIc5Loe7"
      },
      "outputs": [],
      "source": [
        "f1_score_en_train = obtener_f1_score(y_val, y_pred_train_xgb)\n",
        "exportar_xgboost(xgb, f1_score_en_train)"
      ]
    },
    {
      "cell_type": "markdown",
      "source": [
        "TfidfVectorizer"
      ],
      "metadata": {
        "id": "AIEfzmj_xAOv"
      }
    },
    {
      "cell_type": "code",
      "source": [
        "#Clasificador XGBoost con TfidfVectorizer\n",
        "xgb_tfidf = Pipeline([('vectorizer', TfidfVectorizer()), ('xgb', XGBClassifier())])\n",
        "\n",
        "#Random Search Cross Validation\n",
        "randomcv = RandomizedSearchCV(estimator=xgb_tfidf, param_distributions=params_grid, cv=kfoldcv, scoring=scorer_fn, n_iter=n, random_state=0)\n",
        "\n",
        "randomcv.fit(x_train, y_train)\n",
        "randomcv.cv_results_['mean_test_score']"
      ],
      "metadata": {
        "id": "hOuAqp4hxO_3"
      },
      "execution_count": null,
      "outputs": []
    },
    {
      "cell_type": "code",
      "source": [
        "print(f\"Mejores hiperparámetros del XGBoost con TfidfVectorizer: {randomcv.best_params_}\")\n",
        "print(f\"Mejor F1 Score: {randomcv.best_score_}\")"
      ],
      "metadata": {
        "id": "X45hQadFxO_7"
      },
      "execution_count": null,
      "outputs": []
    },
    {
      "cell_type": "markdown",
      "metadata": {
        "id": "SHHYxmZWxO_7"
      },
      "source": [
        "Entrenamos el XGBoost con TfidfVectorizer con los hiperparámetros hallados."
      ]
    },
    {
      "cell_type": "code",
      "source": [
        "xgb = Pipeline([('vectorizer', TfidfVectorizer()), ('xgb', XGBClassifier())])\n",
        "xgb.set_params(**randomcv.best_params_)\n",
        "xgb.fit(x_train, y_train)\n",
        "\n",
        "y_pred_train_xgb = xgb.predict(x_val)\n",
        "\n",
        "imprimir_f1_score(y_val, y_pred_train_xgb)"
      ],
      "metadata": {
        "id": "8bl6pPmexO_7"
      },
      "execution_count": null,
      "outputs": []
    },
    {
      "cell_type": "markdown",
      "metadata": {
        "id": "rUZDAidzxO_8"
      },
      "source": [
        "Exportamos el modelo"
      ]
    },
    {
      "cell_type": "code",
      "execution_count": null,
      "metadata": {
        "id": "EtFpmpqlxO_8"
      },
      "outputs": [],
      "source": [
        "f1_score_en_train = obtener_f1_score(y_val, y_pred_train_xgb)\n",
        "exportar_xgboost(xgb, f1_score_en_train)"
      ]
    },
    {
      "cell_type": "markdown",
      "source": [
        "### **Red Neuronal**"
      ],
      "metadata": {
        "id": "j--lTGu0Hn9I"
      }
    },
    {
      "cell_type": "markdown",
      "source": [
        "Definimos una función para construir una red neuronal en Keras"
      ],
      "metadata": {
        "id": "ZMLkIbzpvVU1"
      }
    },
    {
      "cell_type": "code",
      "source": [
        "# Función para construir el modelo de red neuronal en Keras\n",
        "def create_neural_network(units=10, mid_layers=1, activation='relu', learning_rate=0.001, vectorizer='count'):\n",
        "    nn = keras.Sequential()\n",
        "    nn.add(tf.keras.Input(shape=(1,), dtype=tf.string))\n",
        "\n",
        "    # Creamos la capa para la vectorización de los textos\n",
        "    vectorize_layer = tf.keras.layers.TextVectorization(output_mode=vectorizer)\n",
        "    vectorize_layer.adapt(x_train)\n",
        "    nn.add(vectorize_layer)\n",
        "\n",
        "    for _ in range(mid_layers):\n",
        "        nn.add(keras.layers.Dense(units=units, activation=activation))\n",
        "    nn.add(keras.layers.Dense(units=1, activation='sigmoid'))\n",
        "\n",
        "    nn.compile(loss='binary_crossentropy',\n",
        "                  optimizer=keras.optimizers.Adam(learning_rate=learning_rate),\n",
        "                  metrics=[_f1_score])\n",
        "    return nn"
      ],
      "metadata": {
        "id": "59LupRE0ssIY"
      },
      "execution_count": null,
      "outputs": []
    },
    {
      "cell_type": "markdown",
      "metadata": {
        "id": "TnQ4fPR6vnqS"
      },
      "source": [
        "Creamos una Red Neuronal \"por defecto\" (con los parámetros que nostros establecimos por defecto) con el objetivo de observar el rendimiento base, y así podemos tener una idea del resultado a mejorar."
      ]
    },
    {
      "cell_type": "code",
      "execution_count": null,
      "metadata": {
        "id": "LsAqm9rdvnqW"
      },
      "outputs": [],
      "source": [
        "nn_default = create_neural_network()\n",
        "\n",
        "nn_default.fit(x_train, y_train, epochs=5, batch_size=500, verbose=1)\n",
        "\n",
        "y_pred_train = nn_default.predict(x_val)\n",
        "\n",
        "imprimir_f1_score(y_val, y_pred_train)"
      ]
    },
    {
      "cell_type": "markdown",
      "metadata": {
        "id": "RLadklo-vnqX"
      },
      "source": [
        "A continuación haremos Cross Validation para la optimización de los hiperparámetros de la Red Neuronal."
      ]
    },
    {
      "cell_type": "code",
      "source": [
        "##KFOLD CV Random Search para buscar la mejor Red Neuronal (los mejores atributos, hiperparámetros, etc)\n",
        "\n",
        "#Numero de iteraciones\n",
        "n=10\n",
        "\n",
        "#Conjunto de parámetros que queremos usar\n",
        "params_grid = { 'units': range(10, 101),  # Rango de cantidad de neuronas por capa\n",
        "                'mid_layers': [1, 2, 3],  # Rango de cantidad de capas intermedias\n",
        "                'activation': ['relu', 'sigmoid', 'tanh'],  # Funciones de activación de capas intermedias\n",
        "                'learning_rate': np.logspace(-4, -1, num=100),  # Rango de tasa de aprendizaje\n",
        "                'vectorizer': ['count', 'tf_idf'],  #Forma de vectorizar los datos. Equivalente a CountVectorizer y TfidfVectorizer de sklearn.\n",
        "                'epochs': range(5, 16),  # Cantidad de épocas\n",
        "                'batch_size': range(500, 1001, 50)  # Tamaños de lote\n",
        "              }\n",
        "\n",
        "#Cantidad de splits para el Cross Validation\n",
        "folds=5\n",
        "\n",
        "#Kfold estratificado\n",
        "kfoldcv = StratifiedKFold(n_splits=folds)\n",
        "\n",
        "#Metrica que queremos optimizar: F1 Score\n",
        "scorer_fn = make_scorer(f1_score, average='macro')\n",
        "\n",
        "#Red Neuronal\n",
        "nn = KerasClassifier(build_fn=create_neural_network, verbose=0)\n",
        "\n",
        "#Random Search Cross Validation\n",
        "randomcv = RandomizedSearchCV(estimator=nn, param_distributions=params_grid, cv=kfoldcv, scoring=scorer_fn, n_iter=n, random_state=0)\n",
        "\n",
        "randomcv.fit(x_train, y_train)\n",
        "randomcv.cv_results_['mean_test_score']"
      ],
      "metadata": {
        "id": "7ZQAOTkqvnqX"
      },
      "execution_count": null,
      "outputs": []
    },
    {
      "cell_type": "code",
      "source": [
        "print(f\"Mejores hiperparámetros de la red neuronal: {randomcv.best_params_}\")\n",
        "print(f\"Mejor F1 Score: {randomcv.best_score_}\")"
      ],
      "metadata": {
        "id": "ozBmibtKvnqX"
      },
      "execution_count": null,
      "outputs": []
    },
    {
      "cell_type": "markdown",
      "metadata": {
        "id": "-cpF6f89vnqX"
      },
      "source": [
        "Entrenamos la Red Neuronal con los hiperparámetros hallados."
      ]
    },
    {
      "cell_type": "code",
      "source": [
        "units = randomcv.best_params_['units']\n",
        "mid_layers = randomcv.best_params_['mid_layers']\n",
        "activation = randomcv.best_params_['activation']\n",
        "learning_rate = randomcv.best_params_['learning_rate']\n",
        "vectorizer = randomcv.best_params_['vectorizer']\n",
        "epochs = randomcv.best_params_['epochs']\n",
        "batch_size = randomcv.best_params_['batch_size']\n",
        "\n",
        "nn = create_neural_network(units=units, mid_layers=mid_layers, activation=activation, learning_rate=learning_rate, vectorizer=vectorizer)\n",
        "nn.fit(x_train, y_train, epochs=epochs, batch_size=batch_size, verbose=1)\n",
        "\n",
        "y_pred_train_nn = nn.predict(x_val)\n",
        "\n",
        "imprimir_f1_score(y_val, y_pred_train_nn)"
      ],
      "metadata": {
        "id": "3laIytQ2vnqX"
      },
      "execution_count": null,
      "outputs": []
    },
    {
      "cell_type": "markdown",
      "metadata": {
        "id": "sA9SohkEvnqX"
      },
      "source": [
        "Exportamos el modelo"
      ]
    },
    {
      "cell_type": "code",
      "execution_count": null,
      "metadata": {
        "id": "lGJnHSWYvnqX"
      },
      "outputs": [],
      "source": [
        "f1_score_en_train = obtener_f1_score(y_val, y_pred_train_nn)\n",
        "exportar_neural_network(nn, f1_score_en_train, epochs, batch_size)"
      ]
    },
    {
      "cell_type": "markdown",
      "source": [
        "Código para descargar la carpeta correspondiente al modelo:"
      ],
      "metadata": {
        "id": "xntNaae2Z6aq"
      }
    },
    {
      "cell_type": "code",
      "source": [
        "from google.colab import files\n",
        "import shutil\n",
        "\n",
        "folder_path = f'/content/{descripcion_neural_network(nn, f1_score_en_train, epochs, batch_size)}'\n",
        "folder_name = descripcion_neural_network(nn, f1_score_en_train, epochs, batch_size)\n",
        "\n",
        "shutil.make_archive(folder_name, 'zip', folder_path)\n",
        "files.download(folder_name + '.zip')"
      ],
      "metadata": {
        "id": "p0EFRpixXtPa"
      },
      "execution_count": null,
      "outputs": []
    },
    {
      "cell_type": "markdown",
      "source": [
        "### **Ensambles híbridos**"
      ],
      "metadata": {
        "id": "xQyaBKxlHrR-"
      }
    },
    {
      "cell_type": "markdown",
      "metadata": {
        "id": "iz4ztQzj4gBU"
      },
      "source": [
        "Descargamos la carpeta almacenada en Google Drive que contiene todos los modelos hallados, y asi poder construir los ensambles híbridos."
      ]
    },
    {
      "cell_type": "code",
      "source": [
        "import gdown\n",
        "\n",
        "url = \"https://drive.google.com/drive/folders/1h5nIrt6K7nLPynlhlUPdjBJAjWLfQaUP?usp=sharing\"\n",
        "gdown.download_folder(url, quiet=True, use_cookies=False)"
      ],
      "metadata": {
        "id": "NNPqpAhu5R61"
      },
      "execution_count": null,
      "outputs": []
    },
    {
      "cell_type": "markdown",
      "source": [
        "Para dichos ensambles, utilizaremos como estimadores los Bayes Naïve, Random Forest y XGBoost obtenidos. Dejamos de lado las redes neuronales por un tema de compatibilidad entre sklearn y keras."
      ],
      "metadata": {
        "id": "Rj_Rxy4uEmLI"
      }
    },
    {
      "cell_type": "code",
      "execution_count": null,
      "metadata": {
        "id": "ikcxzs3g4gBU"
      },
      "outputs": [],
      "source": [
        "ruta_a_bn1 = '/content/sklearn/Bayes Naive/BN-vec_TfidfVectorizer-alpha_0.2-fp_True-f1_0.86/BN-vec_TfidfVectorizer-alpha_0.2-fp_True-f1_0.86.joblib'\n",
        "bn1 = joblib.load(ruta_a_bn1)\n",
        "\n",
        "ruta_a_bn2 = '/content/sklearn/Bayes Naive/BN-vec_TfidfVectorizer-alpha_0.3-fp_True-f1_0.8599/BN-vec_TfidfVectorizer-alpha_0.3-fp_True-f1_0.8599.joblib'\n",
        "bn2 = joblib.load(ruta_a_bn2)\n",
        "\n",
        "ruta_a_bn3 = '/content/sklearn/Bayes Naive/BN-vec_TfidfVectorizer-alpha_0.4-fp_True-f1_0.8593/BN-vec_TfidfVectorizer-alpha_0.4-fp_True-f1_0.8593.joblib'\n",
        "bn3 = joblib.load(ruta_a_bn3)\n",
        "\n",
        "ruta_a_rf1 = '/content/sklearn/Random Forest/RF-vec_CountVectorizer-crit_entropy-n_estim_180-max_f_sqrt-f1_0.8473/RF-vec_CountVectorizer-crit_entropy-n_estim_180-max_f_sqrt-f1_0.8473.joblib'\n",
        "rf1 = joblib.load(ruta_a_rf1)\n",
        "\n",
        "ruta_a_rf2 = '/content/sklearn/Random Forest/RF-vec_TfidfVectorizer-crit_entropy-n_estim_180-max_f_sqrt-f1_0.8459/RF-vec_TfidfVectorizer-crit_entropy-n_estim_180-max_f_sqrt-f1_0.8459.joblib'\n",
        "rf2 = joblib.load(ruta_a_rf2)\n",
        "\n",
        "ruta_a_rf3 = '/content/sklearn/Random Forest/RF-vec_TfidfVectorizer-crit_entropy-n_estim_150-max_f_sqrt-f1_0.8418/RF-vec_TfidfVectorizer-crit_entropy-n_estim_150-max_f_sqrt-f1_0.8418.joblib'\n",
        "rf3 = joblib.load(ruta_a_rf3)\n",
        "\n",
        "ruta_a_xgb1 = '/content/sklearn/XGBoost/XGB-vec_CountVectorizer-n_estim_130-max_d_21-lr_0.2-gam_0.8-alp_0.4-lam_1.0-f1_0.8498/XGB-vec_CountVectorizer-n_estim_130-max_d_21-lr_0.2-gam_0.8-alp_0.4-lam_1.0-f1_0.8498.joblib'\n",
        "xgb1 = joblib.load(ruta_a_xgb1)\n",
        "\n",
        "ruta_a_xgb2 = '/content/sklearn/XGBoost/XGB-vec_TfidfVectorizer-n_estim_170-max_d_14-lr_0.5-gam_0.1-alp_0.5-lam_1.0-f1_0.8429/XGB-vec_TfidfVectorizer-n_estim_170-max_d_14-lr_0.5-gam_0.1-alp_0.5-lam_1.0-f1_0.8429.joblib'\n",
        "xgb2 = joblib.load(ruta_a_xgb2)\n",
        "\n",
        "ruta_a_xgb3 = '/content/sklearn/XGBoost/XGB-vec_TfidfVectorizer-n_estim_160-max_d_13-lr_0.4-gam_0.0-alp_0.8-lam_1.0-f1_0.8428/XGB-vec_TfidfVectorizer-n_estim_160-max_d_13-lr_0.4-gam_0.0-alp_0.8-lam_1.0-f1_0.8428.joblib'\n",
        "xgb3 = joblib.load(ruta_a_xgb3)"
      ]
    },
    {
      "cell_type": "markdown",
      "source": [
        "Haremos Cross Validation para la optimización de los hiperparámetros de ambos ensambles híbridos. La cantidad de estimadores que utilizaremos para cada uno es 3, por lo que haremos todas las combinaciones posibles de a 3 de los 9 modelos importados (84 combinaciones en total)."
      ],
      "metadata": {
        "id": "J-kc4aOYHZqd"
      }
    },
    {
      "cell_type": "code",
      "source": [
        "from itertools import combinations"
      ],
      "metadata": {
        "id": "Z8lmGSQcIIx-"
      },
      "execution_count": null,
      "outputs": []
    },
    {
      "cell_type": "code",
      "source": [
        "total_estimators = [('bn1', bn1),('bn2', bn2),('bn3', bn3),('rf1', rf1),('rf2', rf2),('rf3', rf3),('xgb1', xgb1),('xgb2', xgb2),('xgb3', xgb3)]\n",
        "n_estimators = 3\n",
        "\n",
        "estimators = list(combinations(total_estimators, n_estimators))\n",
        "estimators = [list(e) for e in estimators]"
      ],
      "metadata": {
        "id": "bi7aRfPaH4_g"
      },
      "execution_count": null,
      "outputs": []
    },
    {
      "cell_type": "markdown",
      "metadata": {
        "id": "S7WvMJQO4gBU"
      },
      "source": [
        "#### Voting"
      ]
    },
    {
      "cell_type": "markdown",
      "source": [
        "Optimizamos sus hiperparámetros mediante K-Fold\n",
        "Cross Validation."
      ],
      "metadata": {
        "id": "xdg4oCD50gq1"
      }
    },
    {
      "cell_type": "code",
      "execution_count": null,
      "metadata": {
        "id": "jwokZjRPKDPH"
      },
      "outputs": [],
      "source": [
        "##KFOLD CV Random Search para buscar el mejor clasificador VotingClassifier (los mejores atributos, hiperparámetros, etc)\n",
        "\n",
        "#Numero de iteraciones\n",
        "n=10\n",
        "\n",
        "#Conjunto de parámetros que queremos usar\n",
        "params_grid = { \"estimators\": estimators,\n",
        "                \"voting\": ['hard', 'soft']\n",
        "              }\n",
        "\n",
        "#Cantidad de splits para el Cross Validation\n",
        "folds=5\n",
        "\n",
        "#Kfold estratificado\n",
        "kfoldcv = StratifiedKFold(n_splits=folds)\n",
        "\n",
        "#Clasificador VotingClassifier\n",
        "voting_clf = VotingClassifier(estimators=[])\n",
        "\n",
        "#Metrica que queremos optimizar: F1 Score\n",
        "scorer_fn = make_scorer(f1_score, average='macro')\n",
        "\n",
        "#Random Search Cross Validation\n",
        "randomcv = RandomizedSearchCV(estimator=voting_clf, param_distributions=params_grid, cv=kfoldcv, scoring=scorer_fn, n_iter=n, random_state=0)\n",
        "\n",
        "randomcv.fit(x_train, y_train)\n",
        "randomcv.cv_results_['mean_test_score']"
      ]
    },
    {
      "cell_type": "code",
      "execution_count": null,
      "metadata": {
        "id": "CaGAAZjmMiE2"
      },
      "outputs": [],
      "source": [
        "print(f\"Mejores hiperparámetros del VotingClassifier: {randomcv.best_params_}\")\n",
        "print(f\"Mejor F1 Score: {randomcv.best_score_}\")"
      ]
    },
    {
      "cell_type": "markdown",
      "metadata": {
        "id": "uUsrb4b3MiE2"
      },
      "source": [
        "Entrenamos el Voting con los hiperparámetros hallados."
      ]
    },
    {
      "cell_type": "code",
      "execution_count": null,
      "metadata": {
        "id": "1Fe1JRHVMiE3"
      },
      "outputs": [],
      "source": [
        "voting_clf = VotingClassifier(**randomcv.best_params_)\n",
        "voting_clf.fit(x_train, y_train)\n",
        "\n",
        "y_pred_train_voting = voting_clf.predict(x_val)\n",
        "\n",
        "imprimir_f1_score(y_val, y_pred_train_voting)"
      ]
    },
    {
      "cell_type": "markdown",
      "metadata": {
        "id": "LdJW687b4gBV"
      },
      "source": [
        "Exportamos el modelo"
      ]
    },
    {
      "cell_type": "code",
      "execution_count": null,
      "metadata": {
        "id": "FcMPlhqt4gBV"
      },
      "outputs": [],
      "source": [
        "f1_score_en_train = obtener_f1_score(y_val, y_pred_train_voting)\n",
        "exportar_voting(voting_clf, f1_score_en_train)"
      ]
    },
    {
      "cell_type": "markdown",
      "source": [
        "#### Stacking"
      ],
      "metadata": {
        "id": "OYxMk0tj2yj8"
      }
    },
    {
      "cell_type": "markdown",
      "source": [
        "Optimizamos sus hiperparámetros mediante K-Fold\n",
        "Cross Validation."
      ],
      "metadata": {
        "id": "mHKteEO20kLN"
      }
    },
    {
      "cell_type": "code",
      "source": [
        "##KFOLD CV Random Search para buscar el mejor clasificador StackingClassifier (los mejores atributos, hiperparámetros, etc)\n",
        "\n",
        "#Numero de iteraciones\n",
        "n=10\n",
        "\n",
        "#Conjunto de parámetros que queremos usar\n",
        "params_grid = { \"estimators\": estimators }\n",
        "\n",
        "#Cantidad de splits para el Cross Validation\n",
        "folds=5\n",
        "\n",
        "#Kfold estratificado\n",
        "kfoldcv = StratifiedKFold(n_splits=folds)\n",
        "\n",
        "#Clasificador StackingClassifier\n",
        "stacking_clf = StackingClassifier(estimators=[], final_estimator=XGBClassifier(objective=\"binary:logistic\", random_state=0))\n",
        "\n",
        "#Metrica que queremos optimizar: F1 Score\n",
        "scorer_fn = make_scorer(f1_score, average='macro')\n",
        "\n",
        "#Random Search Cross Validation\n",
        "randomcv = RandomizedSearchCV(estimator=stacking_clf, param_distributions=params_grid, cv=kfoldcv, scoring=scorer_fn, n_iter=n, random_state=0)\n",
        "\n",
        "randomcv.fit(x_train, y_train)\n",
        "randomcv.cv_results_['mean_test_score']"
      ],
      "metadata": {
        "id": "bCfiIqf0Ndtb"
      },
      "execution_count": null,
      "outputs": []
    },
    {
      "cell_type": "code",
      "source": [
        "print(f\"Mejores hiperparámetros del StackingClassifier: {randomcv.best_params_}\")\n",
        "print(f\"Mejor F1 Score: {randomcv.best_score_}\")"
      ],
      "metadata": {
        "id": "ZUxa1OssNqIk"
      },
      "execution_count": null,
      "outputs": []
    },
    {
      "cell_type": "markdown",
      "metadata": {
        "id": "IkjkNaUHNu86"
      },
      "source": [
        "Entrenamos el Stacking con los hiperparámetros hallados."
      ]
    },
    {
      "cell_type": "code",
      "execution_count": null,
      "metadata": {
        "id": "lZ0k43CnNu86"
      },
      "outputs": [],
      "source": [
        "stacking_clf = StackingClassifier(**randomcv.best_params_, final_estimator=XGBClassifier(objective=\"binary:logistic\", random_state=0))\n",
        "stacking_clf.fit(x_train, y_train)\n",
        "\n",
        "y_pred_train_stacking = stacking_clf.predict(x_val)\n",
        "\n",
        "imprimir_f1_score(y_val, y_pred_train_stacking)"
      ]
    },
    {
      "cell_type": "markdown",
      "metadata": {
        "id": "FsNZ8st8Nu87"
      },
      "source": [
        "Exportamos el modelo"
      ]
    },
    {
      "cell_type": "code",
      "execution_count": null,
      "metadata": {
        "id": "m3U-9-DHNu87"
      },
      "outputs": [],
      "source": [
        "f1_score_en_train = obtener_f1_score(y_val, y_pred_train_stacking)\n",
        "exportar_stacking(stacking_clf, f1_score_en_train)"
      ]
    },
    {
      "cell_type": "markdown",
      "source": [
        "## **Evaluación de performance**"
      ],
      "metadata": {
        "id": "uZ1Fmqw8nx7i"
      }
    },
    {
      "cell_type": "markdown",
      "source": [
        "Importamos los modelos con mejor performance (de acuerdo a la validación) encontrados con Cross Validation."
      ],
      "metadata": {
        "id": "qhI5qqNIq_n-"
      }
    },
    {
      "cell_type": "code",
      "source": [
        "ruta_a_bn = '/content/sklearn/Bayes Naive/BN-vec_TfidfVectorizer-alpha_0.2-fp_True-f1_0.86/BN-vec_TfidfVectorizer-alpha_0.2-fp_True-f1_0.86.joblib'\n",
        "bn = joblib.load(ruta_a_bn)\n",
        "\n",
        "ruta_a_rf = '/content/sklearn/Random Forest/RF-vec_CountVectorizer-crit_entropy-n_estim_180-max_f_sqrt-f1_0.8473/RF-vec_CountVectorizer-crit_entropy-n_estim_180-max_f_sqrt-f1_0.8473.joblib'\n",
        "rf = joblib.load(ruta_a_rf)\n",
        "\n",
        "ruta_a_xgb = '/content/sklearn/XGBoost/XGB-vec_CountVectorizer-n_estim_130-max_d_21-lr_0.2-gam_0.8-alp_0.4-lam_1.0-f1_0.8498/XGB-vec_CountVectorizer-n_estim_130-max_d_21-lr_0.2-gam_0.8-alp_0.4-lam_1.0-f1_0.8498.joblib'\n",
        "xgb = joblib.load(ruta_a_xgb)\n",
        "\n",
        "\n",
        "url_nn = \"https://drive.google.com/drive/folders/1r3hwVEt-nL650YVlIiOGh66s1n3v06x4?usp=sharing\"\n",
        "gdown.download_folder(url_nn, quiet=True, use_cookies=False)\n",
        "ruta_a_nn = '/content/NN-vec_count-u_10-midl_1-act_relu-lr_0.001-kr_None-e_5-bs_500-f1_0.8951/NN-vec_count-u_10-midl_1-act_relu-lr_0.001-kr_None-e_5-bs_500-f1_0.8951'\n",
        "nn = tf.keras.models.load_model(ruta_a_nn, custom_objects={'_f1_score': _f1_score})\n",
        "\n",
        "ruta_a_voting_clf = '/content/sklearn/Voting/voting_clf-estimators_bn3_xgb1_xgb2-voting_soft-f1_0.868/voting_clf-estimators_bn3_xgb1_xgb2-voting_soft-f1_0.868.joblib'\n",
        "voting_clf = joblib.load(ruta_a_voting_clf)\n",
        "\n",
        "ruta_a_stacking_clf = '/content/sklearn/Stacking/stacking_clf-estimators_bn1_rf1_xgb1-f_estim_XGBClassifier-f1_0.8818/stacking_clf-estimators_bn1_rf1_xgb1-f_estim_XGBClassifier-f1_0.8818.joblib'\n",
        "stacking_clf = joblib.load(ruta_a_stacking_clf)"
      ],
      "metadata": {
        "id": "UsEUppXErUDM"
      },
      "execution_count": null,
      "outputs": []
    },
    {
      "cell_type": "markdown",
      "source": [
        "A continuación observamos las matrices de confusión de los mejores modelos entrenados de cada tipo y vemos que la red neuronal fue la que obtuvo mejores resultados."
      ],
      "metadata": {
        "id": "XjhKi51R0ml4"
      }
    },
    {
      "cell_type": "markdown",
      "metadata": {
        "id": "xtYoBVoRpgPZ"
      },
      "source": [
        "#### Bayes Naïve"
      ]
    },
    {
      "cell_type": "code",
      "execution_count": null,
      "metadata": {
        "id": "4OuETlcBpgPe",
        "colab": {
          "base_uri": "https://localhost:8080/",
          "height": 615
        },
        "outputId": "93182285-97ec-44ad-80e6-c7e6d5322687"
      },
      "outputs": [
        {
          "output_type": "stream",
          "name": "stdout",
          "text": [
            "              precision    recall  f1-score   support\n",
            "\n",
            "           0     0.8599    0.8602    0.8600      5000\n",
            "           1     0.8601    0.8598    0.8600      5000\n",
            "\n",
            "    accuracy                         0.8600     10000\n",
            "   macro avg     0.8600    0.8600    0.8600     10000\n",
            "weighted avg     0.8600    0.8600    0.8600     10000\n",
            "\n"
          ]
        },
        {
          "output_type": "display_data",
          "data": {
            "text/plain": [
              "<Figure size 640x480 with 2 Axes>"
            ],
            "image/png": "[encoded data removed]"
          },
          "metadata": {}
        }
      ],
      "source": [
        "y_pred_train_bn = bn.predict(x_val)\n",
        "classification_report_and_confusion_matrix(y_val, y_pred_train_bn)"
      ]
    },
    {
      "cell_type": "markdown",
      "metadata": {
        "id": "_g6Qw9h9xG0X"
      },
      "source": [
        "#### Random Forest"
      ]
    },
    {
      "cell_type": "code",
      "execution_count": null,
      "metadata": {
        "id": "lEGhzUh3bRQ8",
        "colab": {
          "base_uri": "https://localhost:8080/",
          "height": 615
        },
        "outputId": "680841c2-2485-4d68-a385-3b93980b4cb9"
      },
      "outputs": [
        {
          "output_type": "stream",
          "name": "stdout",
          "text": [
            "              precision    recall  f1-score   support\n",
            "\n",
            "           0     0.8517    0.8410    0.8463      5000\n",
            "           1     0.8430    0.8536    0.8483      5000\n",
            "\n",
            "    accuracy                         0.8473     10000\n",
            "   macro avg     0.8474    0.8473    0.8473     10000\n",
            "weighted avg     0.8474    0.8473    0.8473     10000\n",
            "\n"
          ]
        },
        {
          "output_type": "display_data",
          "data": {
            "text/plain": [
              "<Figure size 640x480 with 2 Axes>"
            ],
            "image/png": "[encoded data removed]"
          },
          "metadata": {}
        }
      ],
      "source": [
        "y_pred_train_rf = rf.predict(x_val)\n",
        "classification_report_and_confusion_matrix(y_val, y_pred_train_rf)"
      ]
    },
    {
      "cell_type": "markdown",
      "metadata": {
        "id": "OL6Lml2cxJUb"
      },
      "source": [
        "#### XGBoost"
      ]
    },
    {
      "cell_type": "code",
      "execution_count": null,
      "metadata": {
        "id": "-spujQdZHxIW",
        "colab": {
          "base_uri": "https://localhost:8080/",
          "height": 615
        },
        "outputId": "adf57867-ca6f-48f1-ca05-771e3f88dfcb"
      },
      "outputs": [
        {
          "output_type": "stream",
          "name": "stdout",
          "text": [
            "              precision    recall  f1-score   support\n",
            "\n",
            "           0     0.8580    0.8384    0.8481      5000\n",
            "           1     0.8420    0.8612    0.8515      5000\n",
            "\n",
            "    accuracy                         0.8498     10000\n",
            "   macro avg     0.8500    0.8498    0.8498     10000\n",
            "weighted avg     0.8500    0.8498    0.8498     10000\n",
            "\n"
          ]
        },
        {
          "output_type": "display_data",
          "data": {
            "text/plain": [
              "<Figure size 640x480 with 2 Axes>"
            ],
            "image/png": "[encoded data removed]"
          },
          "metadata": {}
        }
      ],
      "source": [
        "y_pred_train_xgb = xgb.predict(x_val)\n",
        "classification_report_and_confusion_matrix(y_val, y_pred_train_xgb)"
      ]
    },
    {
      "cell_type": "markdown",
      "source": [
        "#### Neural Network"
      ],
      "metadata": {
        "id": "XXroRSGSFaHA"
      }
    },
    {
      "cell_type": "code",
      "source": [
        "y_pred_train_nn = nn.predict(x_val)\n",
        "classification_report_and_confusion_matrix(y_val, y_pred_train_nn)"
      ],
      "metadata": {
        "id": "i_aEzX10FiBn",
        "colab": {
          "base_uri": "https://localhost:8080/",
          "height": 636
        },
        "outputId": "a53c7d70-2990-4a90-e0fa-bb862bcf552e"
      },
      "execution_count": null,
      "outputs": [
        {
          "output_type": "stream",
          "name": "stdout",
          "text": [
            "313/313 [==============================] - 11s 34ms/step\n",
            "              precision    recall  f1-score   support\n",
            "\n",
            "           0     0.9057    0.8820    0.8937      5000\n",
            "           1     0.8850    0.9082    0.8965      5000\n",
            "\n",
            "    accuracy                         0.8951     10000\n",
            "   macro avg     0.8954    0.8951    0.8951     10000\n",
            "weighted avg     0.8954    0.8951    0.8951     10000\n",
            "\n"
          ]
        },
        {
          "output_type": "display_data",
          "data": {
            "text/plain": [
              "<Figure size 640x480 with 2 Axes>"
            ],
            "image/png": "[encoded data removed]"
          },
          "metadata": {}
        }
      ]
    },
    {
      "cell_type": "markdown",
      "metadata": {
        "id": "Vh3IFkJqxLq0"
      },
      "source": [
        "#### Voting"
      ]
    },
    {
      "cell_type": "code",
      "source": [
        "y_pred_train_voting = voting_clf.predict(x_val)\n",
        "classification_report_and_confusion_matrix(y_val, y_pred_train_voting)"
      ],
      "metadata": {
        "id": "pkTsScy8BNce",
        "colab": {
          "base_uri": "https://localhost:8080/",
          "height": 615
        },
        "outputId": "d641776d-8478-4866-9dbd-e4737c7ce591"
      },
      "execution_count": null,
      "outputs": [
        {
          "output_type": "stream",
          "name": "stdout",
          "text": [
            "              precision    recall  f1-score   support\n",
            "\n",
            "           0     0.8764    0.8568    0.8665      5000\n",
            "           1     0.8599    0.8792    0.8695      5000\n",
            "\n",
            "    accuracy                         0.8680     10000\n",
            "   macro avg     0.8682    0.8680    0.8680     10000\n",
            "weighted avg     0.8682    0.8680    0.8680     10000\n",
            "\n"
          ]
        },
        {
          "output_type": "display_data",
          "data": {
            "text/plain": [
              "<Figure size 640x480 with 2 Axes>"
            ],
            "image/png": "[encoded data removed]"
          },
          "metadata": {}
        }
      ]
    },
    {
      "cell_type": "markdown",
      "metadata": {
        "id": "FJdFmj6vxNlj"
      },
      "source": [
        "#### Stacking"
      ]
    },
    {
      "cell_type": "code",
      "source": [
        "y_pred_train_stacking = stacking_clf.predict(x_val)\n",
        "classification_report_and_confusion_matrix(y_val, y_pred_train_stacking)"
      ],
      "metadata": {
        "id": "PurLWjqWBYKj",
        "colab": {
          "base_uri": "https://localhost:8080/",
          "height": 615
        },
        "outputId": "3d543766-8ace-4d29-dbcb-0b295b91786e"
      },
      "execution_count": null,
      "outputs": [
        {
          "output_type": "stream",
          "name": "stdout",
          "text": [
            "              precision    recall  f1-score   support\n",
            "\n",
            "           0     0.8838    0.8792    0.8815      5000\n",
            "           1     0.8798    0.8844    0.8821      5000\n",
            "\n",
            "    accuracy                         0.8818     10000\n",
            "   macro avg     0.8818    0.8818    0.8818     10000\n",
            "weighted avg     0.8818    0.8818    0.8818     10000\n",
            "\n"
          ]
        },
        {
          "output_type": "display_data",
          "data": {
            "text/plain": [
              "<Figure size 640x480 with 2 Axes>"
            ],
            "image/png": "[encoded data removed]"
          },
          "metadata": {}
        }
      ]
    },
    {
      "cell_type": "markdown",
      "source": [
        "## **Generación de predicciones**"
      ],
      "metadata": {
        "id": "GuLJ1tjUoDh8"
      }
    },
    {
      "cell_type": "markdown",
      "metadata": {
        "id": "HZ0SpFtpyGNM"
      },
      "source": [
        "#### Bayes Naïve"
      ]
    },
    {
      "cell_type": "code",
      "execution_count": null,
      "metadata": {
        "id": "_ODdGZftyGNR"
      },
      "outputs": [],
      "source": [
        "f1_score_en_train = obtener_f1_score(y_val, y_pred_train_bn)\n",
        "predecir_y_exportar_a_csv_con_bayes_naive(bn, df_test['review_es'], f1_score_en_train)"
      ]
    },
    {
      "cell_type": "markdown",
      "metadata": {
        "id": "VW1joGu8yGNR"
      },
      "source": [
        "#### Random Forest"
      ]
    },
    {
      "cell_type": "code",
      "execution_count": null,
      "metadata": {
        "id": "J0y7JvR1yGNR"
      },
      "outputs": [],
      "source": [
        "f1_score_en_train = obtener_f1_score(y_val, y_pred_train_rf)\n",
        "predecir_y_exportar_a_csv_con_random_forest(rf, df_test['review_es'], f1_score_en_train)"
      ]
    },
    {
      "cell_type": "markdown",
      "metadata": {
        "id": "HV1uxugzyGNR"
      },
      "source": [
        "#### XGBoost"
      ]
    },
    {
      "cell_type": "code",
      "execution_count": null,
      "metadata": {
        "id": "dOl3uBXUyGNR"
      },
      "outputs": [],
      "source": [
        "f1_score_en_train = obtener_f1_score(y_val, y_pred_train_xgb)\n",
        "predecir_y_exportar_a_csv_con_xgboost(xgb, df_test['review_es'], f1_score_en_train)"
      ]
    },
    {
      "cell_type": "markdown",
      "source": [
        "#### Neural Network"
      ],
      "metadata": {
        "id": "rPY9GUQAyGNS"
      }
    },
    {
      "cell_type": "code",
      "source": [
        "f1_score_en_train = obtener_f1_score(y_val, y_pred_train_nn)\n",
        "predecir_y_exportar_a_csv_con_neural_network(nn, df_test['review_es'], f1_score_en_train)"
      ],
      "metadata": {
        "id": "yrpggbJCyGNS"
      },
      "execution_count": null,
      "outputs": []
    },
    {
      "cell_type": "markdown",
      "metadata": {
        "id": "A3H6QbdeyGNS"
      },
      "source": [
        "#### Voting"
      ]
    },
    {
      "cell_type": "code",
      "source": [
        "f1_score_en_train = obtener_f1_score(y_val, y_pred_train_voting)\n",
        "predecir_y_exportar_a_csv_con_voting(voting_clf, df_test['review_es'], f1_score_en_train)"
      ],
      "metadata": {
        "id": "EyJuxWTJyGNS"
      },
      "execution_count": null,
      "outputs": []
    },
    {
      "cell_type": "markdown",
      "metadata": {
        "id": "MYSJyrCuyGNS"
      },
      "source": [
        "#### Stacking"
      ]
    },
    {
      "cell_type": "code",
      "source": [
        "f1_score_en_train = obtener_f1_score(y_val, y_pred_train_stacking)\n",
        "predecir_y_exportar_a_csv_con_stacking(stacking_clf, df_test['review_es'], f1_score_en_train)"
      ],
      "metadata": {
        "id": "KZiXD3owyGNS"
      },
      "execution_count": null,
      "outputs": []
    }
  ]
}